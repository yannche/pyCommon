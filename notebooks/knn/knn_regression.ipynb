{
 "cells": [
  {
   "cell_type": "markdown",
   "metadata": {
    "slideshow": {
     "slide_type": "slide"
    }
   },
   "source": [
    "# k plus proches voisins - en régression\n",
    "\n",
    "Données : auto-mpg\n",
    "\n",
    "disponible sur https://raw.githubusercontent.com/ContinuumIO/cdx/master/cdx/remotedata/auto-mpg.csv"
   ]
  },
  {
   "cell_type": "code",
   "execution_count": null,
   "metadata": {
    "collapsed": false,
    "slideshow": {
     "slide_type": "skip"
    }
   },
   "outputs": [],
   "source": [
    "# Imports\n",
    "%matplotlib inline\n",
    "import pandas as pd\n",
    "import numpy as np\n",
    "import matplotlib.pyplot as plt\n",
    "from sklearn.neighbors import NearestNeighbors,KNeighborsRegressor\n",
    "from sklearn.preprocessing import scale\n",
    "from sklearn.cross_validation import cross_val_score\n",
    "from sklearn.utils import shuffle\n",
    "from sklearn.decomposition import PCA,RandomizedPCA\n",
    "from sklearn.linear_model import Ridge"
   ]
  },
  {
   "cell_type": "code",
   "execution_count": null,
   "metadata": {
    "collapsed": true,
    "slideshow": {
     "slide_type": "skip"
    }
   },
   "outputs": [],
   "source": [
    "# Fonctions"
   ]
  },
  {
   "cell_type": "code",
   "execution_count": null,
   "metadata": {
    "collapsed": true,
    "slideshow": {
     "slide_type": "slide"
    }
   },
   "outputs": [],
   "source": [
    "data = pd.read_csv('auto-mpg.csv')"
   ]
  },
  {
   "cell_type": "code",
   "execution_count": null,
   "metadata": {
    "collapsed": false,
    "slideshow": {
     "slide_type": "skip"
    }
   },
   "outputs": [],
   "source": [
    "# https://raw.githubusercontent.com/ContinuumIO/cdx/master/cdx/remotedata/auto-mpg.csv\n",
    "data.drop(['origin','name'],axis=1,inplace=True)\n",
    "data = data.rename(columns={'displ':'cc','cyl':'ncyl'})"
   ]
  },
  {
   "cell_type": "code",
   "execution_count": null,
   "metadata": {
    "collapsed": false,
    "slideshow": {
     "slide_type": "fragment"
    }
   },
   "outputs": [],
   "source": [
    "data.head(2)"
   ]
  },
  {
   "cell_type": "code",
   "execution_count": null,
   "metadata": {
    "collapsed": false,
    "slideshow": {
     "slide_type": "fragment"
    }
   },
   "outputs": [],
   "source": [
    "data.describe()"
   ]
  },
  {
   "cell_type": "code",
   "execution_count": null,
   "metadata": {
    "collapsed": false,
    "slideshow": {
     "slide_type": "slide"
    }
   },
   "outputs": [],
   "source": [
    "data.hist(figsize=(15,10))\n",
    "pass"
   ]
  },
  {
   "cell_type": "code",
   "execution_count": null,
   "metadata": {
    "collapsed": false,
    "slideshow": {
     "slide_type": "slide"
    }
   },
   "outputs": [],
   "source": [
    "import seaborn as sea\n",
    "sea.set(font_scale=1.5)\n",
    "plt.figure(figsize=(8, 8))\n",
    "sea.heatmap( data.corr() )"
   ]
  },
  {
   "cell_type": "code",
   "execution_count": null,
   "metadata": {
    "collapsed": false,
    "slideshow": {
     "slide_type": "skip"
    }
   },
   "outputs": [],
   "source": [
    "X = data[['weight','hp']].as_matrix().astype(np.float)\n",
    "y = data['mpg'].as_matrix()\n",
    "X,y = shuffle(X,y)\n",
    "\n",
    "X0 = X[:,[0]]\n",
    "X1 = X[:,[1]]"
   ]
  },
  {
   "cell_type": "code",
   "execution_count": null,
   "metadata": {
    "collapsed": false,
    "slideshow": {
     "slide_type": "slide"
    }
   },
   "outputs": [],
   "source": [
    "plt.scatter( X0,X1,c=y,cmap='jet')\n",
    "plt.xlabel('weight')\n",
    "plt.ylabel('hp')\n",
    "plt.colorbar()"
   ]
  },
  {
   "cell_type": "code",
   "execution_count": null,
   "metadata": {
    "collapsed": false,
    "slideshow": {
     "slide_type": "slide"
    }
   },
   "outputs": [],
   "source": [
    "fig,(ax1,ax2) = plt.subplots(nrows=1,ncols=2)\n",
    "ax1.scatter( X0,y ); ax1.set_xlabel('weight') ; ax1.set_ylabel('mgp')\n",
    "ax2.scatter( X1,y ); ax2.set_xlabel('hp') ; ax2.set_ylabel('mgp')"
   ]
  },
  {
   "cell_type": "markdown",
   "metadata": {
    "slideshow": {
     "slide_type": "slide"
    }
   },
   "source": [
    "### Avant de commencer: Ridge Regression\n"
   ]
  },
  {
   "cell_type": "code",
   "execution_count": null,
   "metadata": {
    "collapsed": false,
    "slideshow": {
     "slide_type": "fragment"
    }
   },
   "outputs": [],
   "source": [
    "print(np.mean( cross_val_score( Ridge(alpha=0.0).fit(X,y) ,X,y) ))\n",
    "\n",
    "X_augment = np.hstack((X,X**3,X0*X1))\n",
    "print(np.mean( cross_val_score( Ridge(alpha=0.0).fit(X_augment,y) ,X_augment,y) ))"
   ]
  },
  {
   "cell_type": "markdown",
   "metadata": {
    "slideshow": {
     "slide_type": "fragment"
    }
   },
   "source": [
    "### Comparaison des y réels avec y prédits par régression ridge augmentée"
   ]
  },
  {
   "cell_type": "code",
   "execution_count": null,
   "metadata": {
    "collapsed": false,
    "slideshow": {
     "slide_type": "fragment"
    }
   },
   "outputs": [],
   "source": [
    "fig,(ax1,ax2) = plt.subplots(nrows=1,ncols=2,figsize=(12,6))\n",
    "ax1.scatter( X0,X1,c=y,cmap='jet')\n",
    "ax1.set_xlabel('weight'); ax1.set_ylabel('hp')\n",
    "\n",
    "ri = Ridge().fit(X_augment,y)\n",
    "ax2.scatter( X0,X1,c=ri.predict(X_augment),cmap='jet')\n",
    "ax2.set_xlabel('weight'); ax2.set_ylabel('hp')"
   ]
  },
  {
   "cell_type": "markdown",
   "metadata": {
    "slideshow": {
     "slide_type": "slide"
    }
   },
   "source": [
    "### Prediction du 1-ppv"
   ]
  },
  {
   "cell_type": "code",
   "execution_count": null,
   "metadata": {
    "collapsed": false,
    "slideshow": {
     "slide_type": "fragment"
    }
   },
   "outputs": [],
   "source": [
    "def show_1d_model(model,x,y):\n",
    "    plt.scatter( x,y )\n",
    "    z = np.linspace(min(x),max(x),80).reshape(80,1)\n",
    "    plt.plot(z,model.predict(z),c='r')\n",
    "\n",
    "show_1d_model( KNeighborsRegressor(n_neighbors=1).fit(X0,y) , X0 , y)"
   ]
  },
  {
   "cell_type": "markdown",
   "metadata": {
    "slideshow": {
     "slide_type": "slide"
    }
   },
   "source": [
    "### Prediction du 10-ppv"
   ]
  },
  {
   "cell_type": "code",
   "execution_count": null,
   "metadata": {
    "collapsed": false,
    "slideshow": {
     "slide_type": "fragment"
    }
   },
   "outputs": [],
   "source": [
    "show_1d_model( KNeighborsRegressor(n_neighbors=10).fit(X0,y) , X0 , y)"
   ]
  },
  {
   "cell_type": "code",
   "execution_count": null,
   "metadata": {
    "collapsed": false,
    "slideshow": {
     "slide_type": "slide"
    }
   },
   "outputs": [],
   "source": [
    "show_1d_model( KNeighborsRegressor(n_neighbors=100).fit(X0,y) , X0 , y)"
   ]
  },
  {
   "cell_type": "code",
   "execution_count": null,
   "metadata": {
    "collapsed": false,
    "slideshow": {
     "slide_type": "slide"
    }
   },
   "outputs": [],
   "source": [
    "show_1d_model( KNeighborsRegressor(n_neighbors=250).fit(X0,y) , X0 , y)"
   ]
  },
  {
   "cell_type": "markdown",
   "metadata": {
    "slideshow": {
     "slide_type": "slide"
    }
   },
   "source": [
    "### Scores des plus-proches voisins"
   ]
  },
  {
   "cell_type": "code",
   "execution_count": null,
   "metadata": {
    "collapsed": false,
    "slideshow": {
     "slide_type": "fragment"
    }
   },
   "outputs": [],
   "source": [
    "print( np.mean( cross_val_score( KNeighborsRegressor(n_neighbors=30).fit(X1,y) ,X1,y) ) )\n",
    "print( np.mean( cross_val_score( KNeighborsRegressor(n_neighbors=30).fit(X1,y) ,X1,y) ) )\n",
    "print( np.mean( cross_val_score( KNeighborsRegressor(n_neighbors=30).fit(X,y) ,X,y) )   )"
   ]
  },
  {
   "cell_type": "markdown",
   "metadata": {
    "slideshow": {
     "slide_type": "fragment"
    }
   },
   "source": [
    "### Avec normalisation"
   ]
  },
  {
   "cell_type": "code",
   "execution_count": null,
   "metadata": {
    "collapsed": false,
    "slideshow": {
     "slide_type": "fragment"
    }
   },
   "outputs": [],
   "source": [
    "X = scale(X)\n",
    "print( np.mean( cross_val_score( KNeighborsRegressor(n_neighbors=30).fit(X,y) ,X,y) ))"
   ]
  },
  {
   "cell_type": "markdown",
   "metadata": {
    "slideshow": {
     "slide_type": "slide"
    }
   },
   "source": [
    "## Utilisation de l'ACP"
   ]
  },
  {
   "cell_type": "code",
   "execution_count": null,
   "metadata": {
    "collapsed": false,
    "slideshow": {
     "slide_type": "fragment"
    }
   },
   "outputs": [],
   "source": [
    "fig,(ax1,ax2) = plt.subplots(nrows=1,ncols=2,figsize=(12,6))\n",
    "\n",
    "Z = np.random.normal(size=(1000,1)).reshape(1000,1)\n",
    "Z = np.hstack((Z*10.0,100+Z*15.0+5*np.random.normal(size=(1000,1))))\n",
    "ax1.scatter( *Z.T )\n",
    "\n",
    "zx,zy = PCA(whiten=True).fit(Z).transform(Z).T # Attention: l'option whiten assure que les variances seront à 1\n",
    "ax2.scatter(zx,zy)\n",
    "\n",
    "print (\"moyennes =\",np.mean(zx),\"et\",np.mean(zy))\n",
    "print (\"variances=\",np.var(zx),\"et\",np.var(zy))"
   ]
  },
  {
   "cell_type": "markdown",
   "metadata": {
    "slideshow": {
     "slide_type": "slide"
    }
   },
   "source": [
    "### Score en validation croisée sur des données après ACP"
   ]
  },
  {
   "cell_type": "code",
   "execution_count": null,
   "metadata": {
    "collapsed": false,
    "slideshow": {
     "slide_type": "fragment"
    }
   },
   "outputs": [],
   "source": [
    "X_pca = RandomizedPCA(n_components=1,whiten=True).fit(X).transform(X)\n",
    "print (np.mean( cross_val_score( KNeighborsRegressor(n_neighbors=30).fit(X_pca,y) ,X_pca,y) ))"
   ]
  },
  {
   "cell_type": "markdown",
   "metadata": {
    "slideshow": {
     "slide_type": "slide"
    }
   },
   "source": [
    "## Recherche du meilleur scaling"
   ]
  },
  {
   "cell_type": "code",
   "execution_count": null,
   "metadata": {
    "collapsed": false,
    "slideshow": {
     "slide_type": "fragment"
    }
   },
   "outputs": [],
   "source": [
    "def local_PCA(X,y,k=10,percent=50):\n",
    "    nn = NearestNeighbors(n_neighbors=k).fit(X)\n",
    "    tous_voisins = nn.kneighbors(return_distance=False)\n",
    "    local_vectors = np.empty((0,len(X.T)))\n",
    "\n",
    "    for p,yp,ivoisins in zip(X,y,tous_voisins):\n",
    "        d_yp_yvoisins = np.abs( y[ivoisins] - yp )\n",
    "        meilleurs_voisins = ivoisins[d_yp_yvoisins < np.percentile(d_yp_yvoisins,percent)]\n",
    "        local_vectors = np.vstack( (local_vectors , p - X[meilleurs_voisins] ))\n",
    "\n",
    "    pca = RandomizedPCA(whiten=True).fit( local_vectors )\n",
    "    return pca.transform(X)\n",
    "\n",
    "# Testing local_PCA\n",
    "Z = np.random.normal(size=(5000,2))\n",
    "zy=  np.sin(15*Z[:,0] + -8*Z[:,1]  )\n",
    "\n",
    "scores = []\n",
    "for i in range(10):\n",
    "    scores.append( np.mean( cross_val_score( KNeighborsRegressor(n_neighbors=10).fit(Z,zy) ,Z,zy) ) )\n",
    "    Z = local_PCA(Z,zy)\n",
    "plt.plot(scores)"
   ]
  },
  {
   "cell_type": "code",
   "execution_count": null,
   "metadata": {
    "collapsed": false,
    "slideshow": {
     "slide_type": "slide"
    }
   },
   "outputs": [],
   "source": [
    "X_local = scale(X)\n",
    "for i in range(20):\n",
    "    print np.mean( cross_val_score( KNeighborsRegressor(n_neighbors=30).fit(X_local,y) ,X_local,y) )\n",
    "    X_local = local_PCA(X_local,y,k=10,percent=30)\n"
   ]
  }
 ],
 "metadata": {
  "celltoolbar": "Slideshow",
  "kernelspec": {
   "display_name": "Python 3",
   "language": "python",
   "name": "python3"
  },
  "language_info": {
   "codemirror_mode": {
    "name": "ipython",
    "version": 3
   },
   "file_extension": ".py",
   "mimetype": "text/x-python",
   "name": "python",
   "nbconvert_exporter": "python",
   "pygments_lexer": "ipython3",
   "version": "3.4.3"
  }
 },
 "nbformat": 4,
 "nbformat_minor": 0
}
