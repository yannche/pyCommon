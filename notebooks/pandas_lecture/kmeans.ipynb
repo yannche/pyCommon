{
 "cells": [
  {
   "cell_type": "code",
   "execution_count": null,
   "metadata": {
    "collapsed": true
   },
   "outputs": [],
   "source": [
    "%matplotlib inline"
   ]
  },
  {
   "cell_type": "code",
   "execution_count": null,
   "metadata": {
    "collapsed": true
   },
   "outputs": [],
   "source": [
    "import matplotlib.pyplot as plt"
   ]
  },
  {
   "cell_type": "code",
   "execution_count": null,
   "metadata": {
    "collapsed": false
   },
   "outputs": [],
   "source": [
    "from scipy.io import loadmat\n",
    "import numpy as np\n",
    "from random import sample\n",
    "from scipy.spatial.distance import euclidean,cdist\n",
    "\n",
    "dat = loadmat('iris.mat')['iris']\n",
    "dat = dat[:,:4]\n",
    "dat = dat.astype(float)\n",
    "K = 3\n",
    "\n",
    "def view_clusters(clusters,centers=None):\n",
    "    for i,g in enumerate(clusters):\n",
    "        columns = zip(*g)\n",
    "        plt.scatter(columns[0],columns[1],c='rgby'[i])\n",
    "    if centers is not None:\n",
    "        plt.scatter(*zip(*centers)[:2],c='w',s=160,marker='>')"
   ]
  },
  {
   "cell_type": "code",
   "execution_count": null,
   "metadata": {
    "collapsed": false
   },
   "outputs": [],
   "source": [
    "view_clusters([dat])"
   ]
  },
  {
   "cell_type": "code",
   "execution_count": null,
   "metadata": {
    "collapsed": false
   },
   "outputs": [],
   "source": [
    "def kmeans():\n",
    "    centers  = sample(dat,K)\n",
    "    centers2 = []\n",
    "    \n",
    "    while not np.array_equal(centers2,centers):\n",
    "        \n",
    "        clusters = [[] for i in range(K)]  # empty clusters\n",
    "        \n",
    "        for pt in dat:\n",
    "            i = np.argmin([ euclidean(pt,c) for c in centers])\n",
    "            clusters[i].append(pt)\n",
    "\n",
    "        centers2 = centers\n",
    "        centers  = [np.mean(g,axis=0) for g in clusters]\n",
    "        \n",
    "    return clusters,centers"
   ]
  },
  {
   "cell_type": "code",
   "execution_count": null,
   "metadata": {
    "collapsed": false
   },
   "outputs": [],
   "source": [
    "clusters,centers = kmeans()\n",
    "view_clusters(clusters,centers)"
   ]
  },
  {
   "cell_type": "code",
   "execution_count": null,
   "metadata": {
    "collapsed": false
   },
   "outputs": [],
   "source": [
    "def kmeans_short():\n",
    "    centers,ind  = sample(dat,K),[]\n",
    "    while not np.array_equal(ind,np.argmin(cdist(dat,centers),axis=1)):\n",
    "        ind = np.argmin(cdist(dat,centers),axis=1)\n",
    "        clusters = [dat[ind==k] for k in range(K)]\n",
    "        centers = [np.mean(g,axis=0) for g in clusters]\n",
    "    return clusters,centers"
   ]
  },
  {
   "cell_type": "code",
   "execution_count": null,
   "metadata": {
    "collapsed": false
   },
   "outputs": [],
   "source": [
    "clusters,centers = kmeans_short()\n",
    "view_clusters(clusters)"
   ]
  },
  {
   "cell_type": "code",
   "execution_count": null,
   "metadata": {
    "collapsed": false
   },
   "outputs": [],
   "source": [
    "type(np.nan)"
   ]
  },
  {
   "cell_type": "code",
   "execution_count": null,
   "metadata": {
    "collapsed": false
   },
   "outputs": [],
   "source": [
    "3"
   ]
  },
  {
   "cell_type": "code",
   "execution_count": null,
   "metadata": {
    "collapsed": true
   },
   "outputs": [],
   "source": []
  }
 ],
 "metadata": {
  "kernelspec": {
   "display_name": "Python 2",
   "language": "python",
   "name": "python2"
  },
  "language_info": {
   "codemirror_mode": {
    "name": "ipython",
    "version": 2
   },
   "file_extension": ".py",
   "mimetype": "text/x-python",
   "name": "python",
   "nbconvert_exporter": "python",
   "pygments_lexer": "ipython2",
   "version": "2.7.10"
  }
 },
 "nbformat": 4,
 "nbformat_minor": 0
}
