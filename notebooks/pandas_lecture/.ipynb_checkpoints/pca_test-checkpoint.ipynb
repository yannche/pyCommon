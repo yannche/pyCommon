{
 "metadata": {
  "name": "",
  "signature": "sha256:791f25493e2daedb9f2279760fc1a10f2ab458279e7906f6cd4223983af78c3f"
 },
 "nbformat": 3,
 "nbformat_minor": 0,
 "worksheets": [
  {
   "cells": [
    {
     "cell_type": "code",
     "collapsed": false,
     "input": [
      "%pylab inline\n",
      "import matplotlib.pyplot as plt\n",
      "\n",
      "from sklearn import datasets\n",
      "from sklearn.decomposition import PCA\n",
      "from sklearn.lda import LDA\n",
      "\n",
      "iris = datasets.load_iris()\n",
      "\n",
      "X = iris.data\n",
      "y = iris.target\n",
      "target_names = iris.target_names\n",
      "pca = PCA(n_components=2)\n",
      "X_r = pca.fit(X).transform(X)\n",
      "\n",
      "lda = LDA(n_components=2)\n",
      "X_r2 = lda.fit(X, y).transform(X)\n",
      "\n",
      "# Percentage of variance explained for each components\n",
      "print('explained variance ratio (first two components): %s'\n",
      "      % str(pca.explained_variance_ratio_))\n",
      "\n",
      "plt.figure()\n",
      "for c, i, target_name in zip(\"rgb\", [0, 1, 2], target_names):\n",
      "    plt.scatter(X_r[y == i, 0], X_r[y == i, 1], c=c, label=target_name)\n",
      "plt.legend()\n",
      "plt.title('PCA of IRIS dataset')\n",
      "\n",
      "plt.figure()\n",
      "for c, i, target_name in zip(\"rgb\", [0, 1, 2], target_names):\n",
      "    plt.scatter(X_r2[y == i, 0], X_r2[y == i, 1], c=c, label=target_name)\n",
      "plt.legend()\n",
      "plt.title('LDA of IRIS dataset')\n",
      "\n",
      "plt.show()"
     ],
     "language": "python",
     "metadata": {},
     "outputs": []
    },
    {
     "cell_type": "code",
     "collapsed": false,
     "input": [
      "plt.plot(range(10))"
     ],
     "language": "python",
     "metadata": {},
     "outputs": []
    },
    {
     "cell_type": "code",
     "collapsed": false,
     "input": [
      "X[:3]"
     ],
     "language": "python",
     "metadata": {},
     "outputs": []
    },
    {
     "cell_type": "code",
     "collapsed": false,
     "input": [],
     "language": "python",
     "metadata": {},
     "outputs": []
    }
   ],
   "metadata": {}
  }
 ]
}