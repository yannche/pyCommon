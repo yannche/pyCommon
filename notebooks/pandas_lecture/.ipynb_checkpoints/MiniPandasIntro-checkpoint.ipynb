{
 "cells": [
  {
   "cell_type": "markdown",
   "metadata": {},
   "source": [
    "# Mini Tutoriel de Pandas"
   ]
  },
  {
   "cell_type": "markdown",
   "metadata": {},
   "source": [
    "inspiré par:\n",
    "* [les tutoriels de Greg Reda](http://www.gregreda.com/2013/10/26/working-with-pandas-dataframes/)\n",
    "* [Tutoriels de David Rojas](https://bitbucket.org/hrojas/learn-pandas)\n",
    "* [Financial Analysis in Python](http://nbviewer.ipython.org/github/twiecki/financial-analysis-python-tutorial/blob/master/1.%20Pandas%20Basics.ipynb)\n",
    "* [Tutoriels de mikhail semeniuk](http://www.bearrelroll.com/2013/05/python-pandas-tutorial/)\n",
    "\n",
    "Voici aussi la [doc officielle](http://pandas.pydata.org/pandas-docs/stable/index.html)"
   ]
  },
  {
   "cell_type": "code",
   "execution_count": 1,
   "metadata": {
    "collapsed": false
   },
   "outputs": [],
   "source": [
    "import pandas as pd\n",
    "import numpy as np"
   ]
  },
  {
   "cell_type": "markdown",
   "metadata": {},
   "source": [
    "# Introduction aux DataFrames\n",
    "\n",
    "Dans Pandas, il y a deux types de classes principalement:\n",
    "* les `Series`. En gros, il s'agit d'un vecteur de données\n",
    "* les `DataFrames`. En gros, c'est un tableau de données. Un DataFrame est composé d'autant de Series qu'il y a de variables\n",
    "\n",
    "Créons un DataFrame:"
   ]
  },
  {
   "cell_type": "code",
   "execution_count": 2,
   "metadata": {
    "collapsed": false
   },
   "outputs": [],
   "source": [
    "toyData = pd.DataFrame( {  \"name\":  [\"toto\",\"tata\",\"titi\",\"john\",\"Nina\",\"Oliver\"],\n",
    "                           \"age\" :  [27,32,10,15,9,None],\n",
    "                           \"height\":[1.2,1.1,1.0,1.8,1.6,1.9],\n",
    "                           \"hair\":  [\"brown\",\"red\",\"red\",\"red\",\"brown\",\"white\"]   } )"
   ]
  },
  {
   "cell_type": "code",
   "execution_count": 3,
   "metadata": {
    "collapsed": false
   },
   "outputs": [
    {
     "data": {
      "text/html": [
       "<div>\n",
       "<table border=\"1\" class=\"dataframe\">\n",
       "  <thead>\n",
       "    <tr style=\"text-align: right;\">\n",
       "      <th></th>\n",
       "      <th>age</th>\n",
       "      <th>hair</th>\n",
       "      <th>height</th>\n",
       "      <th>name</th>\n",
       "    </tr>\n",
       "  </thead>\n",
       "  <tbody>\n",
       "    <tr>\n",
       "      <th>0</th>\n",
       "      <td>27</td>\n",
       "      <td>brown</td>\n",
       "      <td>1.2</td>\n",
       "      <td>toto</td>\n",
       "    </tr>\n",
       "    <tr>\n",
       "      <th>1</th>\n",
       "      <td>32</td>\n",
       "      <td>red</td>\n",
       "      <td>1.1</td>\n",
       "      <td>tata</td>\n",
       "    </tr>\n",
       "    <tr>\n",
       "      <th>2</th>\n",
       "      <td>10</td>\n",
       "      <td>red</td>\n",
       "      <td>1.0</td>\n",
       "      <td>titi</td>\n",
       "    </tr>\n",
       "    <tr>\n",
       "      <th>3</th>\n",
       "      <td>15</td>\n",
       "      <td>red</td>\n",
       "      <td>1.8</td>\n",
       "      <td>john</td>\n",
       "    </tr>\n",
       "    <tr>\n",
       "      <th>4</th>\n",
       "      <td>9</td>\n",
       "      <td>brown</td>\n",
       "      <td>1.6</td>\n",
       "      <td>Nina</td>\n",
       "    </tr>\n",
       "    <tr>\n",
       "      <th>5</th>\n",
       "      <td>NaN</td>\n",
       "      <td>white</td>\n",
       "      <td>1.9</td>\n",
       "      <td>Oliver</td>\n",
       "    </tr>\n",
       "  </tbody>\n",
       "</table>\n",
       "</div>"
      ],
      "text/plain": [
       "   age   hair  height    name\n",
       "0   27  brown     1.2    toto\n",
       "1   32    red     1.1    tata\n",
       "2   10    red     1.0    titi\n",
       "3   15    red     1.8    john\n",
       "4    9  brown     1.6    Nina\n",
       "5  NaN  white     1.9  Oliver"
      ]
     },
     "execution_count": 3,
     "metadata": {},
     "output_type": "execute_result"
    }
   ],
   "source": [
    "toyData"
   ]
  },
  {
   "cell_type": "markdown",
   "metadata": {},
   "source": [
    "Autres facon d'afficher les données ou des infos sur les données:\n",
    "\n",
    "    toyData.head(3)\n",
    "    toyData.dtypes\n",
    "    toyData.info()\n",
    "    toyData.describe()"
   ]
  },
  {
   "cell_type": "code",
   "execution_count": 4,
   "metadata": {
    "collapsed": false
   },
   "outputs": [
    {
     "data": {
      "text/html": [
       "<div>\n",
       "<table border=\"1\" class=\"dataframe\">\n",
       "  <thead>\n",
       "    <tr style=\"text-align: right;\">\n",
       "      <th></th>\n",
       "      <th>age</th>\n",
       "      <th>height</th>\n",
       "    </tr>\n",
       "  </thead>\n",
       "  <tbody>\n",
       "    <tr>\n",
       "      <th>count</th>\n",
       "      <td>5.000000</td>\n",
       "      <td>6.000000</td>\n",
       "    </tr>\n",
       "    <tr>\n",
       "      <th>mean</th>\n",
       "      <td>18.600000</td>\n",
       "      <td>1.433333</td>\n",
       "    </tr>\n",
       "    <tr>\n",
       "      <th>std</th>\n",
       "      <td>10.358571</td>\n",
       "      <td>0.382971</td>\n",
       "    </tr>\n",
       "    <tr>\n",
       "      <th>min</th>\n",
       "      <td>9.000000</td>\n",
       "      <td>1.000000</td>\n",
       "    </tr>\n",
       "    <tr>\n",
       "      <th>25%</th>\n",
       "      <td>10.000000</td>\n",
       "      <td>1.125000</td>\n",
       "    </tr>\n",
       "    <tr>\n",
       "      <th>50%</th>\n",
       "      <td>15.000000</td>\n",
       "      <td>1.400000</td>\n",
       "    </tr>\n",
       "    <tr>\n",
       "      <th>75%</th>\n",
       "      <td>27.000000</td>\n",
       "      <td>1.750000</td>\n",
       "    </tr>\n",
       "    <tr>\n",
       "      <th>max</th>\n",
       "      <td>32.000000</td>\n",
       "      <td>1.900000</td>\n",
       "    </tr>\n",
       "  </tbody>\n",
       "</table>\n",
       "</div>"
      ],
      "text/plain": [
       "             age    height\n",
       "count   5.000000  6.000000\n",
       "mean   18.600000  1.433333\n",
       "std    10.358571  0.382971\n",
       "min     9.000000  1.000000\n",
       "25%    10.000000  1.125000\n",
       "50%    15.000000  1.400000\n",
       "75%    27.000000  1.750000\n",
       "max    32.000000  1.900000"
      ]
     },
     "execution_count": 4,
     "metadata": {},
     "output_type": "execute_result"
    }
   ],
   "source": [
    "toyData.describe()"
   ]
  },
  {
   "cell_type": "markdown",
   "metadata": {},
   "source": [
    "## Sélection des données (colonnes et lignes)\n",
    "\n",
    "La doc officielle est [ici](http://pandas.pydata.org/pandas-docs/stable/indexing.html)\n",
    "\n",
    "### Les variables"
   ]
  },
  {
   "cell_type": "markdown",
   "metadata": {},
   "source": [
    "Pour accéder à une (ou plusieurs) variables, on peut écrire l'une de ces deux formes:\n",
    "\n",
    "    toyData['hair']\n",
    "    toyData[[1]]\n",
    "    toyData[['age','name']]\n",
    "    \n",
    "    toyData.loc[:,'hair']           # loc sélectionne une tranche (slice) des lignes et des colonnes\n",
    "    toyData.loc[:,'name':'height']  # ici, garder toutes les variables de name à height\n",
    "\n",
    "    \n",
    "Note:\n",
    "* si on sélectionne une variable, on obtient une `Series`\n",
    "* si on sélectionne plusieurs variables du `DataFrame`, Pandas nous renvoie un `DataFrame`"
   ]
  },
  {
   "cell_type": "code",
   "execution_count": 25,
   "metadata": {
    "collapsed": false
   },
   "outputs": [
    {
     "data": {
      "text/html": [
       "<div>\n",
       "<table border=\"1\" class=\"dataframe\">\n",
       "  <thead>\n",
       "    <tr style=\"text-align: right;\">\n",
       "      <th></th>\n",
       "      <th>hair</th>\n",
       "      <th>name</th>\n",
       "    </tr>\n",
       "  </thead>\n",
       "  <tbody>\n",
       "    <tr>\n",
       "      <th>0</th>\n",
       "      <td>brown</td>\n",
       "      <td>toto</td>\n",
       "    </tr>\n",
       "    <tr>\n",
       "      <th>1</th>\n",
       "      <td>red</td>\n",
       "      <td>tata</td>\n",
       "    </tr>\n",
       "    <tr>\n",
       "      <th>2</th>\n",
       "      <td>red</td>\n",
       "      <td>titi</td>\n",
       "    </tr>\n",
       "    <tr>\n",
       "      <th>3</th>\n",
       "      <td>red</td>\n",
       "      <td>john</td>\n",
       "    </tr>\n",
       "    <tr>\n",
       "      <th>4</th>\n",
       "      <td>brown</td>\n",
       "      <td>Nina</td>\n",
       "    </tr>\n",
       "    <tr>\n",
       "      <th>5</th>\n",
       "      <td>white</td>\n",
       "      <td>Oliver</td>\n",
       "    </tr>\n",
       "  </tbody>\n",
       "</table>\n",
       "</div>"
      ],
      "text/plain": [
       "    hair    name\n",
       "0  brown    toto\n",
       "1    red    tata\n",
       "2    red    titi\n",
       "3    red    john\n",
       "4  brown    Nina\n",
       "5  white  Oliver"
      ]
     },
     "execution_count": 25,
     "metadata": {},
     "output_type": "execute_result"
    }
   ],
   "source": [
    "toyData[['hair','name']]"
   ]
  },
  {
   "cell_type": "code",
   "execution_count": 9,
   "metadata": {
    "collapsed": false
   },
   "outputs": [
    {
     "name": "stdout",
     "output_type": "stream",
     "text": [
      "<class 'pandas.core.frame.DataFrame'> <class 'pandas.core.frame.DataFrame'>\n"
     ]
    }
   ],
   "source": [
    "print type(toyData)  ,  type(toyData[[\"age\",\"name\"]])"
   ]
  },
  {
   "cell_type": "markdown",
   "metadata": {},
   "source": [
    "du coup, on peut appeler des functions qui s'appliquent au `DataFrame`, comme\n",
    "    ``toyData[[\"hair\",\"name\"]].describe()``"
   ]
  },
  {
   "cell_type": "markdown",
   "metadata": {},
   "source": [
    "### Les lignes\n",
    "\n",
    "Sélectionner une (ou plusieurs ligne) par son numéro\n",
    "\n",
    "    toyData.iloc[2]\n",
    "    toyData.iloc[ [1,3] ]  # sélectionne les lignes 1 et 3\n",
    "    toyData.iloc[:4]\n",
    "    toyData.loc[:4]        # si l'index n'a pas été changé, iloc et loc donnent le même résultat\n",
    "\n",
    "Mais pour sélectionner le kieme élément d'une `Serie` S, il suffit de faire `S[k]`\n",
    "\n",
    "    toyData.hair[2]"
   ]
  },
  {
   "cell_type": "markdown",
   "metadata": {},
   "source": [
    "Sélectionner des lignes en fonction des valeurs des variables"
   ]
  },
  {
   "cell_type": "code",
   "execution_count": 10,
   "metadata": {
    "collapsed": false
   },
   "outputs": [
    {
     "data": {
      "text/plain": [
       "0     True\n",
       "1     True\n",
       "2    False\n",
       "3    False\n",
       "4    False\n",
       "5    False\n",
       "Name: age, dtype: bool"
      ]
     },
     "execution_count": 10,
     "metadata": {},
     "output_type": "execute_result"
    }
   ],
   "source": [
    "toyData.age > 20"
   ]
  },
  {
   "cell_type": "code",
   "execution_count": 11,
   "metadata": {
    "collapsed": false
   },
   "outputs": [
    {
     "data": {
      "text/html": [
       "<div style=\"max-height:1000px;max-width:1500px;overflow:auto;\">\n",
       "<table border=\"1\" class=\"dataframe\">\n",
       "  <thead>\n",
       "    <tr style=\"text-align: right;\">\n",
       "      <th></th>\n",
       "      <th>age</th>\n",
       "      <th>hair</th>\n",
       "      <th>height</th>\n",
       "      <th>name</th>\n",
       "    </tr>\n",
       "  </thead>\n",
       "  <tbody>\n",
       "    <tr>\n",
       "      <th>0</th>\n",
       "      <td> 27</td>\n",
       "      <td> brown</td>\n",
       "      <td> 1.2</td>\n",
       "      <td> toto</td>\n",
       "    </tr>\n",
       "    <tr>\n",
       "      <th>1</th>\n",
       "      <td> 32</td>\n",
       "      <td>   red</td>\n",
       "      <td> 1.1</td>\n",
       "      <td> tata</td>\n",
       "    </tr>\n",
       "  </tbody>\n",
       "</table>\n",
       "</div>"
      ],
      "text/plain": [
       "   age   hair  height  name\n",
       "0   27  brown     1.2  toto\n",
       "1   32    red     1.1  tata"
      ]
     },
     "execution_count": 11,
     "metadata": {},
     "output_type": "execute_result"
    }
   ],
   "source": [
    "toyData[toyData.age > 20] # note: on peut combiner les filtres avec la notation (filtre 1) & (filtre 2)..."
   ]
  },
  {
   "cell_type": "markdown",
   "metadata": {},
   "source": [
    "**Question:** (pour chacune, proposez plusieurs solutions)\n",
    "* comment extraire l'age de la première personne ?\n",
    "* Noms des gens ayant les cheveux rouges et au moins 12 ans ?"
   ]
  },
  {
   "cell_type": "code",
   "execution_count": 19,
   "metadata": {
    "collapsed": false
   },
   "outputs": [
    {
     "name": "stdout",
     "output_type": "stream",
     "text": [
      "age de la 1iere personne:  27.0\n",
      "nom des cheveux rouges d'au moins 12 ans: \n",
      "1    tata\n",
      "3    john\n",
      "Name: name, dtype: object\n"
     ]
    }
   ],
   "source": [
    "print \"age de la 1iere personne: \",toyData.iloc[0].age\n",
    "print \"nom des cheveux rouges d'au moins 12 ans: \"\n",
    "print toyData[(toyData.hair == 'red') & (toyData.age >= 12)].name"
   ]
  },
  {
   "cell_type": "markdown",
   "metadata": {},
   "source": [
    "**Note:**\n",
    "* Pour que l'accès aux lignes du tableau de données avec `iloc[]` soit rapide, `Pandas` crée automatiquement un index.\n",
    "* `iloc[]` accède aux index numériques, mais en général, pour les autres types d'index, on utilise `loc[]`\n",
    "* On peut créer un index sur n'importe quelle variable, par exemple l'age:"
   ]
  },
  {
   "cell_type": "code",
   "execution_count": null,
   "metadata": {
    "collapsed": false
   },
   "outputs": [],
   "source": [
    "toy2 = toyData.set_index(['age'],drop=False)  # drop signifie que 'age' est gardée dans le tableau, en plus d'être un index\n",
    "toy2.loc[32]['name']"
   ]
  },
  {
   "cell_type": "markdown",
   "metadata": {},
   "source": [
    "* On peut aussi créer des index sur plusieurs variables. Dans ce cas, il faut respecter l'ordre de ces variables pour accéder aux données (ici: hair, puis age)."
   ]
  },
  {
   "cell_type": "code",
   "execution_count": 21,
   "metadata": {
    "collapsed": false
   },
   "outputs": [
    {
     "data": {
      "text/html": [
       "<div style=\"max-height:1000px;max-width:1500px;overflow:auto;\">\n",
       "<table border=\"1\" class=\"dataframe\">\n",
       "  <thead>\n",
       "    <tr style=\"text-align: right;\">\n",
       "      <th></th>\n",
       "      <th></th>\n",
       "      <th>age</th>\n",
       "      <th>hair</th>\n",
       "      <th>height</th>\n",
       "      <th>name</th>\n",
       "    </tr>\n",
       "    <tr>\n",
       "      <th>hair</th>\n",
       "      <th>age</th>\n",
       "      <th></th>\n",
       "      <th></th>\n",
       "      <th></th>\n",
       "      <th></th>\n",
       "    </tr>\n",
       "  </thead>\n",
       "  <tbody>\n",
       "    <tr>\n",
       "      <th>brown</th>\n",
       "      <th>27</th>\n",
       "      <td> 27</td>\n",
       "      <td> brown</td>\n",
       "      <td> 1.2</td>\n",
       "      <td>   toto</td>\n",
       "    </tr>\n",
       "    <tr>\n",
       "      <th rowspan=\"3\" valign=\"top\">red</th>\n",
       "      <th>32</th>\n",
       "      <td> 32</td>\n",
       "      <td>   red</td>\n",
       "      <td> 1.1</td>\n",
       "      <td>   tata</td>\n",
       "    </tr>\n",
       "    <tr>\n",
       "      <th>10</th>\n",
       "      <td> 10</td>\n",
       "      <td>   red</td>\n",
       "      <td> 1.0</td>\n",
       "      <td>   titi</td>\n",
       "    </tr>\n",
       "    <tr>\n",
       "      <th>15</th>\n",
       "      <td> 15</td>\n",
       "      <td>   red</td>\n",
       "      <td> 1.8</td>\n",
       "      <td>   john</td>\n",
       "    </tr>\n",
       "    <tr>\n",
       "      <th>brown</th>\n",
       "      <th>9 </th>\n",
       "      <td>  9</td>\n",
       "      <td> brown</td>\n",
       "      <td> 1.6</td>\n",
       "      <td>   Nina</td>\n",
       "    </tr>\n",
       "    <tr>\n",
       "      <th>white</th>\n",
       "      <th>NaN</th>\n",
       "      <td>NaN</td>\n",
       "      <td> white</td>\n",
       "      <td> 1.9</td>\n",
       "      <td> Oliver</td>\n",
       "    </tr>\n",
       "  </tbody>\n",
       "</table>\n",
       "</div>"
      ],
      "text/plain": [
       "           age   hair  height    name\n",
       "hair  age                            \n",
       "brown 27    27  brown     1.2    toto\n",
       "red   32    32    red     1.1    tata\n",
       "      10    10    red     1.0    titi\n",
       "      15    15    red     1.8    john\n",
       "brown 9      9  brown     1.6    Nina\n",
       "white NaN  NaN  white     1.9  Oliver"
      ]
     },
     "execution_count": 21,
     "metadata": {},
     "output_type": "execute_result"
    }
   ],
   "source": [
    "toy3 = toyData.set_index(['hair','age'],drop=False)\n",
    "toy3"
   ]
  },
  {
   "cell_type": "code",
   "execution_count": 22,
   "metadata": {
    "collapsed": false
   },
   "outputs": [
    {
     "data": {
      "text/plain": [
       "age         32\n",
       "hair       red\n",
       "height     1.1\n",
       "name      tata\n",
       "Name: 32.0, dtype: object"
      ]
     },
     "execution_count": 22,
     "metadata": {},
     "output_type": "execute_result"
    }
   ],
   "source": [
    "toy3.loc['red'].loc[32]"
   ]
  },
  {
   "cell_type": "markdown",
   "metadata": {},
   "source": [
    "## GroupBy and Join (comme en SQL)"
   ]
  },
  {
   "cell_type": "code",
   "execution_count": 23,
   "metadata": {
    "collapsed": false
   },
   "outputs": [
    {
     "data": {
      "text/html": [
       "<div style=\"max-height:1000px;max-width:1500px;overflow:auto;\">\n",
       "<table border=\"1\" class=\"dataframe\">\n",
       "  <thead>\n",
       "    <tr>\n",
       "      <th></th>\n",
       "      <th colspan=\"2\" halign=\"left\">age</th>\n",
       "      <th colspan=\"2\" halign=\"left\">height</th>\n",
       "    </tr>\n",
       "    <tr>\n",
       "      <th></th>\n",
       "      <th>mean</th>\n",
       "      <th>amax</th>\n",
       "      <th>mean</th>\n",
       "      <th>amax</th>\n",
       "    </tr>\n",
       "    <tr>\n",
       "      <th>hair</th>\n",
       "      <th></th>\n",
       "      <th></th>\n",
       "      <th></th>\n",
       "      <th></th>\n",
       "    </tr>\n",
       "  </thead>\n",
       "  <tbody>\n",
       "    <tr>\n",
       "      <th>brown</th>\n",
       "      <td> 18</td>\n",
       "      <td> 27</td>\n",
       "      <td> 1.4</td>\n",
       "      <td> 1.6</td>\n",
       "    </tr>\n",
       "    <tr>\n",
       "      <th>red</th>\n",
       "      <td> 19</td>\n",
       "      <td> 32</td>\n",
       "      <td> 1.3</td>\n",
       "      <td> 1.8</td>\n",
       "    </tr>\n",
       "    <tr>\n",
       "      <th>white</th>\n",
       "      <td>NaN</td>\n",
       "      <td>NaN</td>\n",
       "      <td> 1.9</td>\n",
       "      <td> 1.9</td>\n",
       "    </tr>\n",
       "  </tbody>\n",
       "</table>\n",
       "</div>"
      ],
      "text/plain": [
       "        age        height      \n",
       "       mean  amax    mean  amax\n",
       "hair                           \n",
       "brown    18    27     1.4   1.6\n",
       "red      19    32     1.3   1.8\n",
       "white   NaN   NaN     1.9   1.9"
      ]
     },
     "execution_count": 23,
     "metadata": {},
     "output_type": "execute_result"
    }
   ],
   "source": [
    "tdg = toyData.groupby('hair').agg([np.mean,np.max])\n",
    "tdg"
   ]
  },
  {
   "cell_type": "code",
   "execution_count": 24,
   "metadata": {
    "collapsed": false
   },
   "outputs": [
    {
     "data": {
      "text/plain": [
       "19.0"
      ]
     },
     "execution_count": 24,
     "metadata": {},
     "output_type": "execute_result"
    }
   ],
   "source": [
    "tdg['age']['mean']['red'] # ou bien tdg[('age','mean')]['red']"
   ]
  },
  {
   "cell_type": "markdown",
   "metadata": {},
   "source": [
    "Faisons maintenant un `join` à la façon SQL entre les deux tableaux, sur la variable `hair`. Pour cela, il faut que les deux tableaux aient pour index `hair`"
   ]
  },
  {
   "cell_type": "code",
   "execution_count": 25,
   "metadata": {
    "collapsed": false
   },
   "outputs": [
    {
     "data": {
      "text/html": [
       "<div style=\"max-height:1000px;max-width:1500px;overflow:auto;\">\n",
       "<table border=\"1\" class=\"dataframe\">\n",
       "  <thead>\n",
       "    <tr style=\"text-align: right;\">\n",
       "      <th></th>\n",
       "      <th>age</th>\n",
       "      <th>hair</th>\n",
       "      <th>height</th>\n",
       "      <th>name</th>\n",
       "      <th>(age, mean)</th>\n",
       "      <th>(age, amax)</th>\n",
       "      <th>(height, mean)</th>\n",
       "      <th>(height, amax)</th>\n",
       "    </tr>\n",
       "    <tr>\n",
       "      <th>hair</th>\n",
       "      <th></th>\n",
       "      <th></th>\n",
       "      <th></th>\n",
       "      <th></th>\n",
       "      <th></th>\n",
       "      <th></th>\n",
       "      <th></th>\n",
       "      <th></th>\n",
       "    </tr>\n",
       "  </thead>\n",
       "  <tbody>\n",
       "    <tr>\n",
       "      <th>brown</th>\n",
       "      <td> 27</td>\n",
       "      <td> brown</td>\n",
       "      <td> 1.2</td>\n",
       "      <td>   toto</td>\n",
       "      <td> 18</td>\n",
       "      <td> 27</td>\n",
       "      <td> 1.4</td>\n",
       "      <td> 1.6</td>\n",
       "    </tr>\n",
       "    <tr>\n",
       "      <th>brown</th>\n",
       "      <td>  9</td>\n",
       "      <td> brown</td>\n",
       "      <td> 1.6</td>\n",
       "      <td>   Nina</td>\n",
       "      <td> 18</td>\n",
       "      <td> 27</td>\n",
       "      <td> 1.4</td>\n",
       "      <td> 1.6</td>\n",
       "    </tr>\n",
       "    <tr>\n",
       "      <th>red</th>\n",
       "      <td> 32</td>\n",
       "      <td>   red</td>\n",
       "      <td> 1.1</td>\n",
       "      <td>   tata</td>\n",
       "      <td> 19</td>\n",
       "      <td> 32</td>\n",
       "      <td> 1.3</td>\n",
       "      <td> 1.8</td>\n",
       "    </tr>\n",
       "    <tr>\n",
       "      <th>red</th>\n",
       "      <td> 10</td>\n",
       "      <td>   red</td>\n",
       "      <td> 1.0</td>\n",
       "      <td>   titi</td>\n",
       "      <td> 19</td>\n",
       "      <td> 32</td>\n",
       "      <td> 1.3</td>\n",
       "      <td> 1.8</td>\n",
       "    </tr>\n",
       "    <tr>\n",
       "      <th>red</th>\n",
       "      <td> 15</td>\n",
       "      <td>   red</td>\n",
       "      <td> 1.8</td>\n",
       "      <td>   john</td>\n",
       "      <td> 19</td>\n",
       "      <td> 32</td>\n",
       "      <td> 1.3</td>\n",
       "      <td> 1.8</td>\n",
       "    </tr>\n",
       "    <tr>\n",
       "      <th>white</th>\n",
       "      <td>NaN</td>\n",
       "      <td> white</td>\n",
       "      <td> 1.9</td>\n",
       "      <td> Oliver</td>\n",
       "      <td>NaN</td>\n",
       "      <td>NaN</td>\n",
       "      <td> 1.9</td>\n",
       "      <td> 1.9</td>\n",
       "    </tr>\n",
       "  </tbody>\n",
       "</table>\n",
       "</div>"
      ],
      "text/plain": [
       "       age   hair  height    name  (age, mean)  (age, amax)  (height, mean)  \\\n",
       "hair                                                                          \n",
       "brown   27  brown     1.2    toto           18           27             1.4   \n",
       "brown    9  brown     1.6    Nina           18           27             1.4   \n",
       "red     32    red     1.1    tata           19           32             1.3   \n",
       "red     10    red     1.0    titi           19           32             1.3   \n",
       "red     15    red     1.8    john           19           32             1.3   \n",
       "white  NaN  white     1.9  Oliver          NaN          NaN             1.9   \n",
       "\n",
       "       (height, amax)  \n",
       "hair                   \n",
       "brown             1.6  \n",
       "brown             1.6  \n",
       "red               1.8  \n",
       "red               1.8  \n",
       "red               1.8  \n",
       "white             1.9  "
      ]
     },
     "execution_count": 25,
     "metadata": {},
     "output_type": "execute_result"
    }
   ],
   "source": [
    "toyData.set_index('hair',drop=False,inplace=True) #inplace forcera Pandas à agir sur toyData et non pas à renvoyer une nouveau tableau\n",
    "td = toyData.join(tdg)\n",
    "td"
   ]
  },
  {
   "cell_type": "markdown",
   "metadata": {},
   "source": [
    "Un peu de ménage..."
   ]
  },
  {
   "cell_type": "code",
   "execution_count": 26,
   "metadata": {
    "collapsed": false
   },
   "outputs": [
    {
     "data": {
      "text/html": [
       "<div style=\"max-height:1000px;max-width:1500px;overflow:auto;\">\n",
       "<table border=\"1\" class=\"dataframe\">\n",
       "  <thead>\n",
       "    <tr style=\"text-align: right;\">\n",
       "      <th></th>\n",
       "      <th>age</th>\n",
       "      <th>hair</th>\n",
       "      <th>height</th>\n",
       "      <th>name</th>\n",
       "      <th>agemean</th>\n",
       "    </tr>\n",
       "  </thead>\n",
       "  <tbody>\n",
       "    <tr>\n",
       "      <th>0</th>\n",
       "      <td> 27</td>\n",
       "      <td> brown</td>\n",
       "      <td> 1.2</td>\n",
       "      <td>   toto</td>\n",
       "      <td> 18</td>\n",
       "    </tr>\n",
       "    <tr>\n",
       "      <th>1</th>\n",
       "      <td>  9</td>\n",
       "      <td> brown</td>\n",
       "      <td> 1.6</td>\n",
       "      <td>   Nina</td>\n",
       "      <td> 18</td>\n",
       "    </tr>\n",
       "    <tr>\n",
       "      <th>2</th>\n",
       "      <td> 32</td>\n",
       "      <td>   red</td>\n",
       "      <td> 1.1</td>\n",
       "      <td>   tata</td>\n",
       "      <td> 19</td>\n",
       "    </tr>\n",
       "    <tr>\n",
       "      <th>3</th>\n",
       "      <td> 10</td>\n",
       "      <td>   red</td>\n",
       "      <td> 1.0</td>\n",
       "      <td>   titi</td>\n",
       "      <td> 19</td>\n",
       "    </tr>\n",
       "    <tr>\n",
       "      <th>4</th>\n",
       "      <td> 15</td>\n",
       "      <td>   red</td>\n",
       "      <td> 1.8</td>\n",
       "      <td>   john</td>\n",
       "      <td> 19</td>\n",
       "    </tr>\n",
       "    <tr>\n",
       "      <th>5</th>\n",
       "      <td>NaN</td>\n",
       "      <td> white</td>\n",
       "      <td> 1.9</td>\n",
       "      <td> Oliver</td>\n",
       "      <td>NaN</td>\n",
       "    </tr>\n",
       "  </tbody>\n",
       "</table>\n",
       "</div>"
      ],
      "text/plain": [
       "   age   hair  height    name  agemean\n",
       "0   27  brown     1.2    toto       18\n",
       "1    9  brown     1.6    Nina       18\n",
       "2   32    red     1.1    tata       19\n",
       "3   10    red     1.0    titi       19\n",
       "4   15    red     1.8    john       19\n",
       "5  NaN  white     1.9  Oliver      NaN"
      ]
     },
     "execution_count": 26,
     "metadata": {},
     "output_type": "execute_result"
    }
   ],
   "source": [
    "td.rename(columns={('age','mean'):'agemean'},inplace=True)\n",
    "td.index = range(6)\n",
    "td.loc[:,'age':'agemean']"
   ]
  },
  {
   "cell_type": "markdown",
   "metadata": {},
   "source": [
    "Pour en savoir plus sur `groupby`, `join`, etc.. voir par exemple [ici](http://www.bearrelroll.com/2013/05/python-pandas-tutorial/)"
   ]
  }
 ],
 "metadata": {
  "kernelspec": {
   "display_name": "Python 2",
   "language": "python",
   "name": "python2"
  },
  "language_info": {
   "codemirror_mode": {
    "name": "ipython",
    "version": 2
   },
   "file_extension": ".py",
   "mimetype": "text/x-python",
   "name": "python",
   "nbconvert_exporter": "python",
   "pygments_lexer": "ipython2",
   "version": "2.7.10"
  }
 },
 "nbformat": 4,
 "nbformat_minor": 0
}
