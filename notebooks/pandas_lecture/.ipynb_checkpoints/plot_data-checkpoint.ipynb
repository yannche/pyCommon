{
 "metadata": {
  "name": "",
  "signature": "sha256:2a87784049c42a238bf3751b33a1e5103bcb331982bf02c56a1b263ac5eb0c7c"
 },
 "nbformat": 3,
 "nbformat_minor": 0,
 "worksheets": [
  {
   "cells": [
    {
     "cell_type": "markdown",
     "metadata": {},
     "source": [
      "# Plotting Titanic Data\n",
      "\n",
      "La plupart des graphiques proviennent d'[ici](http://nbviewer.ipython.org/github/agconti/kaggle-titanic/blob/master/Titanic.ipynb).\n",
      "La doc officielle est [ici](http://pandas.pydata.org/pandas-docs/dev/visualization.html)"
     ]
    },
    {
     "cell_type": "code",
     "collapsed": false,
     "input": [
      "import pandas as pd\n",
      "import numpy as np\n",
      "%pylab inline"
     ],
     "language": "python",
     "metadata": {},
     "outputs": []
    },
    {
     "cell_type": "code",
     "collapsed": false,
     "input": [
      "df = pd.read_csv(\"clean_titanic.csv\")\n",
      "df.drop(['Unnamed: 0'],axis=1,inplace=True)"
     ],
     "language": "python",
     "metadata": {},
     "outputs": []
    },
    {
     "cell_type": "markdown",
     "metadata": {},
     "source": [
      "Voici les attributs conserv\u00e9s dans `clean_titanic` (sans compter les binaris\u00e9s)\n",
      "* pclass : int64   , it has  3  distinct values\n",
      "* survived : int64   , it has  2  distinct values\n",
      "* sex : int64   , it has  2  distinct values\n",
      "* age : float64   , it has  99  distinct values\n",
      "* sibsp : int64   , it has  7  distinct values\n",
      "* parch : int64   , it has  8  distinct values\n",
      "* fare : float64   , it has  282  distinct values\n",
      "* cabin : object   , it has  187  distinct values\n",
      "* embarked : object   , it has  4  distinct values\n",
      "\n",
      "Attributs binaris\u00e9s:\n",
      "* sex,pclass,cabin,embarked\n",
      "\n",
      "Attributs enlev\u00e9s:\n",
      "* home.dest,Unnamed: 0,name,body,boat,ticket\n",
      "\n",
      "Cr\u00e9ons une version purement num\u00e9rique de `df`"
     ]
    },
    {
     "cell_type": "code",
     "collapsed": false,
     "input": [
      "dfnum = df.copy()\n",
      "dfnum.drop(['sex','pclass','cabin','embarked'],axis=1,inplace=True)"
     ],
     "language": "python",
     "metadata": {},
     "outputs": []
    },
    {
     "cell_type": "code",
     "collapsed": false,
     "input": [
      "df.survived.value_counts()"
     ],
     "language": "python",
     "metadata": {},
     "outputs": []
    },
    {
     "cell_type": "code",
     "collapsed": false,
     "input": [
      "df.survived.value_counts().plot(kind='bar')"
     ],
     "language": "python",
     "metadata": {},
     "outputs": []
    },
    {
     "cell_type": "code",
     "collapsed": false,
     "input": [
      "df['age'].hist()"
     ],
     "language": "python",
     "metadata": {},
     "outputs": []
    },
    {
     "cell_type": "code",
     "collapsed": false,
     "input": [
      "df.age[df.pclass == 1].plot(kind='kde',color='g')\n",
      "df.age[df.pclass == 2].plot(kind='kde',color='r')\n",
      "df.age[df.pclass == 3].plot(kind='kde',color='b')"
     ],
     "language": "python",
     "metadata": {},
     "outputs": []
    },
    {
     "cell_type": "code",
     "collapsed": false,
     "input": [
      "alive = df[df.survived == 1]\n",
      "dead  = df[df.survived == 0]\n",
      "scatter(dead.pclass, dead.age ,color='r')\n",
      "scatter(alive.pclass, alive.age ,color='b')"
     ],
     "language": "python",
     "metadata": {},
     "outputs": []
    },
    {
     "cell_type": "code",
     "collapsed": false,
     "input": [
      "m = df.survived[df.sex_male == 1].value_counts()\n",
      "f = df.survived[df.sex_male == 0].value_counts()\n",
      "d = pd.DataFrame({'male' : m, 'female' : f}).reset_index()\n",
      "d[['male','female']].plot(kind='bar')"
     ],
     "language": "python",
     "metadata": {},
     "outputs": []
    },
    {
     "cell_type": "markdown",
     "metadata": {},
     "source": [
      "## scikit-learn\n",
      "avec ce module, on peut faire de l'ACP, AFD, etc..."
     ]
    },
    {
     "cell_type": "code",
     "collapsed": false,
     "input": [
      "import sklearn as sk\n",
      "from sklearn.decomposition import PCA\n",
      "from sklearn.lda import LDA\n",
      "from sklearn.preprocessing import StandardScaler"
     ],
     "language": "python",
     "metadata": {},
     "outputs": []
    },
    {
     "cell_type": "code",
     "collapsed": false,
     "input": [
      "df_unlab = dfnum.copy()\n",
      "df_unlab.drop('survived',axis=1,inplace=True)\n",
      "\n",
      "\n",
      "X = df_unlab.values\n",
      "X = (X.T[0:4]).T\n",
      "y = dfnum['survived'].values\n",
      "\n",
      "scaler = StandardScaler(with_std=True)\n",
      "X = scaler.fit_transform(X)\n",
      "\n",
      "pca = PCA(n_components=2)\n",
      "X_p = pca.fit(X).transform(X)"
     ],
     "language": "python",
     "metadata": {},
     "outputs": []
    },
    {
     "cell_type": "code",
     "collapsed": false,
     "input": [
      "X_alive = array([X_p[i] for i in range(len(X)) if y[i]==1])\n",
      "X_dead  = array([X_p[i] for i in range(len(X)) if y[i]==0])\n",
      "scatter(X_dead.T[0] , X_dead.T[1],color='r')\n",
      "scatter(X_alive.T[0] , X_alive.T[1],color='b')"
     ],
     "language": "python",
     "metadata": {},
     "outputs": []
    },
    {
     "cell_type": "markdown",
     "metadata": {},
     "source": [
      "Pour aller plus loin:\n",
      "* essayer les algorithms non num\u00e9riques avec les variables nominales de ce probl\u00e8me\n",
      "* importer [iris](https://raw.githubusercontent.com/pydata/pandas/master/pandas/tests/data/iris.csv) et essayer les algorithms des scikit learn dessus"
     ]
    }
   ],
   "metadata": {}
  }
 ]
}