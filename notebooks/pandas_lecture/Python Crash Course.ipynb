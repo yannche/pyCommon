{
 "metadata": {
  "name": "",
  "signature": "sha256:6db1a1b052ab024ed3bdf485164a4a0ebdc26d97b36bb61048125b82ec254a4f"
 },
 "nbformat": 3,
 "nbformat_minor": 0,
 "worksheets": [
  {
   "cells": [
    {
     "cell_type": "markdown",
     "metadata": {},
     "source": [
      "# Mini cours Python et iPython\n",
      "\n",
      "Ceci est fortement bas\u00e9 sur [ce tuto](http://nbviewer.ipython.org/gist/rpmuller/5920182) de [Rick Muller](http://www.cs.sandia.gov/~rmuller/), Sandia National Laboratories. This work is licensed under a [Creative Commons Attribution-ShareAlike 3.0 Unported License](http://creativecommons.org/licenses/by-sa/3.0/deed.en_US)."
     ]
    },
    {
     "cell_type": "markdown",
     "metadata": {},
     "source": [
      "## Resources pour apprendre python+ipython\n",
      "\n",
      "* L'excellent \"learn x in y minutes\": http://learnxinyminutes.com/docs/python/\n",
      "* Rob Johansson's [excellent notebooks](http://jrjohansson.github.io/), including [Scientific Computing with Python](https://github.com/jrjohansson/scientific-python-lectures), with a very good introduction to [Plotting in iPython](http://nbviewer.ipython.org/github/jrjohansson/scientific-python-lectures/blob/master/Lecture-4-Matplotlib.ipynb)\n",
      "* [A gallery of interesting IPython Notebooks](https://github.com/ipython/ipython/wiki/A-gallery-of-interesting-IPython-Notebooks)\n",
      "* http://ipython.reddit.com"
     ]
    },
    {
     "cell_type": "markdown",
     "metadata": {},
     "source": [
      "## Ce que j'ai install\u00e9 pour faire tourner l'ensemble du code\n",
      "\n",
      "* [Python](http://www.python.org) version 2.7;\n",
      "* [Numpy](http://www.numpy.org), the core numerical extensions for linear algebra and multidimensional arrays;\n",
      "* [Scipy](http://www.scipy.org), additional libraries for scientific programming;\n",
      "* [Matplotlib](http://matplotlib.sf.net), excellent plotting and graphing libraries;\n",
      "* [IPython](http://ipython.org), with the additional libraries required for the notebook interface.\n",
      "\n",
      "###Et des tas de packages d'analyse de donn\u00e9es:\n",
      "* [Pandas](http://pandas.pydata.org),\n",
      "* [sklearn](http://scikit-learn.org)\n",
      "* [Statmodels](http://statsmodels.sourceforge.net)\n",
      "* et plein d'autres modules\n",
      "\n",
      "Si vous installez une distribution python compl\u00eate, comme [Enthought](https://www.enthought.com/) ou [Anaconda](http://continuum.io/downloads), la plupart de ces modules sont d\u00e9j\u00e0 install\u00e9s."
     ]
    },
    {
     "cell_type": "markdown",
     "metadata": {},
     "source": [
      "# I. Python Overview\n",
      "This is a quick introduction to Python. There are lots of other places to learn the language more thoroughly. I have collected a list of useful links, including ones to other learning resources, at the end of this notebook. If you want a little more depth, [Python Tutorial](http://docs.python.org/2/tutorial/) is a great place to start, as is Zed Shaw's [Learn Python the Hard Way](http://learnpythonthehardway.org/book/).\n",
      "\n",
      "The lessons that follow make use of the IPython notebooks. There's a good introduction to notebooks [in the IPython notebook documentation](http://ipython.org/notebook.html) that even has a [nice video](http://www.youtube.com/watch?v=H6dLGQw9yFQ#!) on how to use the notebooks. You should probably also flip through the [IPython tutorial](http://ipython.org/ipython-doc/dev/interactive/tutorial.html) in your copious free time.\n",
      "\n",
      "Briefly, notebooks have code cells (that are generally followed by result cells) and text cells. The text cells are the stuff that you're reading now. The code cells start with \"In []:\" with some number generally in the brackets. If you put your cursor in the code cell and hit Shift-Enter, the code will run in the Python interpreter and the result will print out in the output cell. You can then change things around and see whether you understand what's going on. If you need to know more, see the [IPython notebook documentation](http://ipython.org/notebook.html) or the [IPython tutorial](http://ipython.org/ipython-doc/dev/interactive/tutorial.html)."
     ]
    },
    {
     "cell_type": "markdown",
     "metadata": {},
     "source": [
      "## Using Python as a Calculator"
     ]
    },
    {
     "cell_type": "markdown",
     "metadata": {},
     "source": [
      "Many of the things I used to use a calculator for, I now use Python for:"
     ]
    },
    {
     "cell_type": "code",
     "collapsed": false,
     "input": [
      "2+2"
     ],
     "language": "python",
     "metadata": {},
     "outputs": [
      {
       "metadata": {},
       "output_type": "pyout",
       "prompt_number": 1,
       "text": [
        "4"
       ]
      }
     ],
     "prompt_number": 1
    },
    {
     "cell_type": "code",
     "collapsed": false,
     "input": [
      "(50-5*6)/4"
     ],
     "language": "python",
     "metadata": {},
     "outputs": []
    },
    {
     "cell_type": "markdown",
     "metadata": {},
     "source": [
      "(If you're typing this into an IPython notebook, or otherwise using notebook file, you hit shift-Enter to evaluate a cell.)"
     ]
    },
    {
     "cell_type": "markdown",
     "metadata": {},
     "source": [
      "There are some gotchas compared to using a normal calculator."
     ]
    },
    {
     "cell_type": "code",
     "collapsed": false,
     "input": [
      "7/3"
     ],
     "language": "python",
     "metadata": {},
     "outputs": []
    },
    {
     "cell_type": "markdown",
     "metadata": {},
     "source": [
      "Python has a huge number of libraries included with the distribution. To keep things simple, most of these variables and functions are not accessible from a normal Python interactive session. Instead, you have to import the name. For example, there is a **math** module containing many useful functions. To access, say, the square root function, you can either first\n",
      "\n",
      "    from math import sqrt\n",
      "\n",
      "and then"
     ]
    },
    {
     "cell_type": "code",
     "collapsed": false,
     "input": [
      "from math import sqrt\n",
      "sqrt(81)"
     ],
     "language": "python",
     "metadata": {},
     "outputs": [
      {
       "metadata": {},
       "output_type": "pyout",
       "prompt_number": 3,
       "text": [
        "9.0"
       ]
      }
     ],
     "prompt_number": 3
    },
    {
     "cell_type": "markdown",
     "metadata": {},
     "source": [
      "or you can simply import the math library itself"
     ]
    },
    {
     "cell_type": "code",
     "collapsed": false,
     "input": [
      "import math\n",
      "math.sqrt(81)"
     ],
     "language": "python",
     "metadata": {},
     "outputs": []
    },
    {
     "cell_type": "markdown",
     "metadata": {},
     "source": [
      "You can define variables using the equals (=) sign:"
     ]
    },
    {
     "cell_type": "code",
     "collapsed": false,
     "input": [
      "width = 20\n",
      "length = 30\n",
      "area = length*width\n",
      "area"
     ],
     "language": "python",
     "metadata": {},
     "outputs": [
      {
       "metadata": {},
       "output_type": "pyout",
       "prompt_number": 4,
       "text": [
        "600"
       ]
      }
     ],
     "prompt_number": 4
    },
    {
     "cell_type": "markdown",
     "metadata": {},
     "source": [
      "If you try to access a variable that you haven't yet defined, you get an error:"
     ]
    },
    {
     "cell_type": "code",
     "collapsed": false,
     "input": [
      "volume"
     ],
     "language": "python",
     "metadata": {},
     "outputs": [
      {
       "ename": "NameError",
       "evalue": "name 'volume' is not defined",
       "output_type": "pyerr",
       "traceback": [
        "\u001b[0;31m---------------------------------------------------------------------------\u001b[0m\n\u001b[0;31mNameError\u001b[0m                                 Traceback (most recent call last)",
        "\u001b[0;32m<ipython-input-5-0c7fc58f9268>\u001b[0m in \u001b[0;36m<module>\u001b[0;34m()\u001b[0m\n\u001b[0;32m----> 1\u001b[0;31m \u001b[0mvolume\u001b[0m\u001b[0;34m\u001b[0m\u001b[0m\n\u001b[0m",
        "\u001b[0;31mNameError\u001b[0m: name 'volume' is not defined"
       ]
      }
     ],
     "prompt_number": 5
    },
    {
     "cell_type": "markdown",
     "metadata": {},
     "source": [
      "and you need to define it:"
     ]
    },
    {
     "cell_type": "code",
     "collapsed": false,
     "input": [
      "depth = 10\n",
      "volume = area*depth\n",
      "volume"
     ],
     "language": "python",
     "metadata": {},
     "outputs": [
      {
       "metadata": {},
       "output_type": "pyout",
       "prompt_number": 6,
       "text": [
        "6000"
       ]
      }
     ],
     "prompt_number": 6
    },
    {
     "cell_type": "markdown",
     "metadata": {},
     "source": [
      "## Strings\n",
      "Strings are lists of printable characters, and can be defined using either single quotes"
     ]
    },
    {
     "cell_type": "code",
     "collapsed": false,
     "input": [
      "\"Hello, World!\""
     ],
     "language": "python",
     "metadata": {},
     "outputs": [
      {
       "metadata": {},
       "output_type": "pyout",
       "prompt_number": 7,
       "text": [
        "'Hello, World!'"
       ]
      }
     ],
     "prompt_number": 7
    },
    {
     "cell_type": "code",
     "collapsed": false,
     "input": [
      "greeting = \"Hello, World!\""
     ],
     "language": "python",
     "metadata": {},
     "outputs": [],
     "prompt_number": 8
    },
    {
     "cell_type": "markdown",
     "metadata": {},
     "source": [
      "The **print** statement is often used for printing character strings:"
     ]
    },
    {
     "cell_type": "code",
     "collapsed": false,
     "input": [
      "print \"The area is \",area"
     ],
     "language": "python",
     "metadata": {},
     "outputs": [
      {
       "output_type": "stream",
       "stream": "stdout",
       "text": [
        "The area is  600\n"
       ]
      }
     ],
     "prompt_number": 9
    },
    {
     "cell_type": "markdown",
     "metadata": {},
     "source": [
      "In the above snipped, the number 600 (stored in the variable \"area\") is converted into a string before being printed out."
     ]
    },
    {
     "cell_type": "markdown",
     "metadata": {},
     "source": [
      "You can use the + operator to concatenate strings together:"
     ]
    },
    {
     "cell_type": "code",
     "collapsed": false,
     "input": [
      "statement = \"Hello, \" + \"World!\"\n",
      "print statement"
     ],
     "language": "python",
     "metadata": {},
     "outputs": [
      {
       "output_type": "stream",
       "stream": "stdout",
       "text": [
        "Hello, World!\n"
       ]
      }
     ],
     "prompt_number": 10
    },
    {
     "cell_type": "markdown",
     "metadata": {},
     "source": [
      "## Lists\n",
      "Very often in a programming language, one wants to keep a group of similar items together. Python does this using a data type called **lists**."
     ]
    },
    {
     "cell_type": "code",
     "collapsed": false,
     "input": [
      "days_of_the_week = [\"Sunday\",\"Monday\",\"Tuesday\",\"Wednesday\",\"Thursday\",\"Friday\",\"Saturday\"]"
     ],
     "language": "python",
     "metadata": {},
     "outputs": [],
     "prompt_number": 21
    },
    {
     "cell_type": "markdown",
     "metadata": {},
     "source": [
      "You can access members of the list using the **index** of that item:"
     ]
    },
    {
     "cell_type": "code",
     "collapsed": false,
     "input": [
      "days_of_the_week[2]"
     ],
     "language": "python",
     "metadata": {},
     "outputs": []
    },
    {
     "cell_type": "markdown",
     "metadata": {},
     "source": [
      "You can add additional items to the list using the .append() command:"
     ]
    },
    {
     "cell_type": "code",
     "collapsed": false,
     "input": [
      "languages = [\"Fortran\",\"C\",\"C++\"]\n",
      "languages.append(\"Python\")\n",
      "languages += [\"F#\"]\n",
      "print languages"
     ],
     "language": "python",
     "metadata": {},
     "outputs": [
      {
       "output_type": "stream",
       "stream": "stdout",
       "text": [
        "['Fortran', 'C', 'C++', 'Python', 'F#']\n"
       ]
      }
     ],
     "prompt_number": 12
    },
    {
     "cell_type": "markdown",
     "metadata": {},
     "source": [
      "The **range()** command is a convenient way to make sequential lists of numbers:"
     ]
    },
    {
     "cell_type": "code",
     "collapsed": false,
     "input": [
      "range(10)"
     ],
     "language": "python",
     "metadata": {},
     "outputs": [
      {
       "metadata": {},
       "output_type": "pyout",
       "prompt_number": 13,
       "text": [
        "[0, 1, 2, 3, 4, 5, 6, 7, 8, 9]"
       ]
      }
     ],
     "prompt_number": 13
    },
    {
     "cell_type": "markdown",
     "metadata": {},
     "source": [
      "Note that range(n) starts at 0 and gives the sequential list of integers less than n. If you want to start at a different number, use range(start,stop)"
     ]
    },
    {
     "cell_type": "code",
     "collapsed": false,
     "input": [
      "range(2,8)"
     ],
     "language": "python",
     "metadata": {},
     "outputs": [
      {
       "metadata": {},
       "output_type": "pyout",
       "prompt_number": 14,
       "text": [
        "[2, 3, 4, 5, 6, 7]"
       ]
      }
     ],
     "prompt_number": 14
    },
    {
     "cell_type": "markdown",
     "metadata": {},
     "source": [
      "Lists do not have to hold the same data type. For example,"
     ]
    },
    {
     "cell_type": "code",
     "collapsed": false,
     "input": [
      "[\"Today\",7,99.3,\"\"]"
     ],
     "language": "python",
     "metadata": {},
     "outputs": [
      {
       "metadata": {},
       "output_type": "pyout",
       "prompt_number": 15,
       "text": [
        "['Today', 7, 99.3, '']"
       ]
      }
     ],
     "prompt_number": 15
    },
    {
     "cell_type": "markdown",
     "metadata": {},
     "source": [
      "However, it's good (but not essential) to use lists for similar objects that are somehow logically connected. If you want to group different data types together into a composite data object, it's best to use **tuples**, which we will learn about below.\n",
      "\n",
      "You can find out how long a list is using the **len()** command:"
     ]
    },
    {
     "cell_type": "code",
     "collapsed": false,
     "input": [
      "len(range(10))"
     ],
     "language": "python",
     "metadata": {},
     "outputs": [
      {
       "metadata": {},
       "output_type": "pyout",
       "prompt_number": 18,
       "text": [
        "10"
       ]
      }
     ],
     "prompt_number": 18
    },
    {
     "cell_type": "markdown",
     "metadata": {},
     "source": [
      "## Iteration, Indentation, and Blocks\n",
      "One of the most useful things you can do with lists is to *iterate* through them, i.e. to go through each element one at a time. To do this in Python, we use the **for** statement."
     ]
    },
    {
     "cell_type": "markdown",
     "metadata": {},
     "source": [
      "The **range()** command is particularly useful with the **for** statement to execute loops of a specified length:"
     ]
    },
    {
     "cell_type": "code",
     "collapsed": false,
     "input": [
      "for i in range(20):\n",
      "    print \"The square of \",i,\" is \",i*i"
     ],
     "language": "python",
     "metadata": {},
     "outputs": [
      {
       "output_type": "stream",
       "stream": "stdout",
       "text": [
        "The square of  0  is  0\n",
        "The square of  1  is  1\n",
        "The square of  2  is  4\n",
        "The square of  3  is  9\n",
        "The square of  4  is  16\n",
        "The square of  5  is  25\n",
        "The square of  6  is  36\n",
        "The square of  7  is  49\n",
        "The square of  8  is  64\n",
        "The square of  9  is  81\n",
        "The square of  10  is  100\n",
        "The square of  11  is  121\n",
        "The square of  12  is  144\n",
        "The square of  13  is  169\n",
        "The square of  14  is  196\n",
        "The square of  15  is  225\n",
        "The square of  16  is  256\n",
        "The square of  17  is  289\n",
        "The square of  18  is  324\n",
        "The square of  19  is  361\n"
       ]
      }
     ],
     "prompt_number": 19
    },
    {
     "cell_type": "markdown",
     "metadata": {},
     "source": [
      "Avec une liste de strings, cela donne:"
     ]
    },
    {
     "cell_type": "code",
     "collapsed": false,
     "input": [
      "for day in days_of_the_week:\n",
      "    print day"
     ],
     "language": "python",
     "metadata": {},
     "outputs": [
      {
       "output_type": "stream",
       "stream": "stdout",
       "text": [
        "Sunday\n",
        "Monday\n",
        "Tuesday\n",
        "Wednesday\n",
        "Thursday\n",
        "Friday\n",
        "Saturday\n"
       ]
      }
     ],
     "prompt_number": 22
    },
    {
     "cell_type": "markdown",
     "metadata": {},
     "source": [
      "Ou je peux acc\u00e9der aux \u00e9l\u00e9ments de la liste par leur indice."
     ]
    },
    {
     "cell_type": "code",
     "collapsed": false,
     "input": [
      "nb_jours = len(days_of_the_week)\n",
      "\n",
      "for i in range(nb_jours):\n",
      "    print \"Today is \"+days_of_the_week[i]"
     ],
     "language": "python",
     "metadata": {},
     "outputs": []
    },
    {
     "cell_type": "markdown",
     "metadata": {},
     "source": [
      "Je peux aussi parcourir la liste et avoir l'index en m\u00eame temps"
     ]
    },
    {
     "cell_type": "code",
     "collapsed": false,
     "input": [
      "for i,day in enumerate(days_of_the_week):\n",
      "    print \"le \",i+1,\"ieme jour est le \",day"
     ],
     "language": "python",
     "metadata": {},
     "outputs": [
      {
       "output_type": "stream",
       "stream": "stdout",
       "text": [
        "le  1 ieme jour est le  Sunday\n",
        "le  2 ieme jour est le  Monday\n",
        "le  3 ieme jour est le  Tuesday\n",
        "le  4 ieme jour est le  Wednesday\n",
        "le  5 ieme jour est le  Thursday\n",
        "le  6 ieme jour est le  Friday\n",
        "le  7 ieme jour est le  Saturday\n"
       ]
      }
     ],
     "prompt_number": 23
    },
    {
     "cell_type": "markdown",
     "metadata": {},
     "source": [
      "## Un mot sur la \"list comprehension\"\n",
      "Il y a un moyen super rapide de cr\u00e9er des listes (ou des dictionnaires) en python. C'est la \"liste comprehension\n",
      "\n",
      "Au lieu d'\u00e9crire cela:"
     ]
    },
    {
     "cell_type": "code",
     "collapsed": false,
     "input": [
      "L = []\n",
      "for i in range(10):\n",
      "    L.append(i*i)\n",
      "print L"
     ],
     "language": "python",
     "metadata": {},
     "outputs": [
      {
       "output_type": "stream",
       "stream": "stdout",
       "text": [
        "[0, 1, 4, 9, 16, 25, 36, 49, 64, 81]\n"
       ]
      }
     ],
     "prompt_number": 24
    },
    {
     "cell_type": "markdown",
     "metadata": {},
     "source": [
      "On peut \u00e9crire cela (c'est la forme liste compr\u00e9hension):"
     ]
    },
    {
     "cell_type": "code",
     "collapsed": false,
     "input": [
      "L = [i*i for i in range(10)]\n",
      "print L"
     ],
     "language": "python",
     "metadata": {},
     "outputs": [
      {
       "output_type": "stream",
       "stream": "stdout",
       "text": [
        "[0, 1, 4, 9, 16, 25, 36, 49, 64, 81]\n"
       ]
      }
     ],
     "prompt_number": 25
    },
    {
     "cell_type": "markdown",
     "metadata": {},
     "source": [
      "## Slicing"
     ]
    },
    {
     "cell_type": "markdown",
     "metadata": {},
     "source": [
      "The *slicing* operation, which you can also use on any sequence. We already know that we can use *indexing* to get the first element of a list:"
     ]
    },
    {
     "cell_type": "markdown",
     "metadata": {},
     "source": [
      "If we want the list containing the first two elements of a list, we can do this via"
     ]
    },
    {
     "cell_type": "code",
     "collapsed": false,
     "input": [
      "days_of_the_week[0:2]"
     ],
     "language": "python",
     "metadata": {},
     "outputs": [
      {
       "metadata": {},
       "output_type": "pyout",
       "prompt_number": 26,
       "text": [
        "['Sunday', 'Monday']"
       ]
      }
     ],
     "prompt_number": 26
    },
    {
     "cell_type": "markdown",
     "metadata": {},
     "source": [
      "or simply"
     ]
    },
    {
     "cell_type": "code",
     "collapsed": false,
     "input": [
      "days_of_the_week[:2]"
     ],
     "language": "python",
     "metadata": {},
     "outputs": [
      {
       "metadata": {},
       "output_type": "pyout",
       "prompt_number": 27,
       "text": [
        "['Sunday', 'Monday']"
       ]
      }
     ],
     "prompt_number": 27
    },
    {
     "cell_type": "markdown",
     "metadata": {},
     "source": [
      "If we want the last items of the list, we can do this with negative slicing:"
     ]
    },
    {
     "cell_type": "code",
     "collapsed": false,
     "input": [
      "days_of_the_week[-2:]"
     ],
     "language": "python",
     "metadata": {},
     "outputs": [
      {
       "metadata": {},
       "output_type": "pyout",
       "prompt_number": 28,
       "text": [
        "['Friday', 'Saturday']"
       ]
      }
     ],
     "prompt_number": 28
    },
    {
     "cell_type": "markdown",
     "metadata": {},
     "source": [
      "which is somewhat logically consistent with negative indices accessing the last elements of the list.\n",
      "\n",
      "You can do:"
     ]
    },
    {
     "cell_type": "code",
     "collapsed": false,
     "input": [
      "workdays = days_of_the_week[1:6]\n",
      "print workdays"
     ],
     "language": "python",
     "metadata": {},
     "outputs": [
      {
       "output_type": "stream",
       "stream": "stdout",
       "text": [
        "['Monday', 'Tuesday', 'Wednesday', 'Thursday', 'Friday']\n"
       ]
      }
     ],
     "prompt_number": 29
    },
    {
     "cell_type": "markdown",
     "metadata": {},
     "source": [
      "## Booleans and Truth Testing"
     ]
    },
    {
     "cell_type": "markdown",
     "metadata": {},
     "source": [
      "For example:"
     ]
    },
    {
     "cell_type": "code",
     "collapsed": false,
     "input": [
      "if day == \"Sunday\":\n",
      "    print \"Sleep in\"\n",
      "else:\n",
      "    print \"Go to work\""
     ],
     "language": "python",
     "metadata": {},
     "outputs": []
    },
    {
     "cell_type": "markdown",
     "metadata": {},
     "source": [
      "(Quick quiz: why did the snippet print \"Go to work\" here? What is the variable \"day\" set to?)\n",
      "\n",
      "Let's take the snippet apart to see what happened. First, note the statement"
     ]
    },
    {
     "cell_type": "code",
     "collapsed": false,
     "input": [
      "day == \"Saturday\""
     ],
     "language": "python",
     "metadata": {},
     "outputs": [
      {
       "metadata": {},
       "output_type": "pyout",
       "prompt_number": 32,
       "text": [
        "True"
       ]
      }
     ],
     "prompt_number": 32
    },
    {
     "cell_type": "code",
     "collapsed": false,
     "input": [
      "day == \"Sunday\""
     ],
     "language": "python",
     "metadata": {},
     "outputs": [
      {
       "metadata": {},
       "output_type": "pyout",
       "prompt_number": 30,
       "text": [
        "False"
       ]
      }
     ],
     "prompt_number": 30
    },
    {
     "cell_type": "code",
     "collapsed": false,
     "input": [
      "[1,2,3] == [1,2,4]"
     ],
     "language": "python",
     "metadata": {},
     "outputs": []
    },
    {
     "cell_type": "code",
     "collapsed": false,
     "input": [
      "[1,2,3] < [1,2,4]"
     ],
     "language": "python",
     "metadata": {},
     "outputs": []
    },
    {
     "cell_type": "code",
     "collapsed": false,
     "input": [
      "5 in range(10)"
     ],
     "language": "python",
     "metadata": {},
     "outputs": [
      {
       "metadata": {},
       "output_type": "pyout",
       "prompt_number": 33,
       "text": [
        "True"
       ]
      }
     ],
     "prompt_number": 33
    },
    {
     "cell_type": "markdown",
     "metadata": {},
     "source": [
      "If statements can have **elif** parts (\"else if\"), in addition to if/else parts. For example:"
     ]
    },
    {
     "cell_type": "code",
     "collapsed": false,
     "input": [
      "if day == \"Sunday\":\n",
      "    print \"Sleep in\"\n",
      "elif day == \"Saturday\":\n",
      "    print \"Do chores\"\n",
      "else:\n",
      "    print \"Go to work\""
     ],
     "language": "python",
     "metadata": {},
     "outputs": []
    },
    {
     "cell_type": "markdown",
     "metadata": {},
     "source": [
      "Of course we can combine if statements with for loops, to make a snippet that is almost interesting:"
     ]
    },
    {
     "cell_type": "code",
     "collapsed": false,
     "input": [
      "for day in days_of_the_week:\n",
      "    statement = \"Today is \" + day\n",
      "    print statement\n",
      "    if day == \"Sunday\":\n",
      "        print \"   Sleep in\"\n",
      "    elif day == \"Saturday\":\n",
      "        print \"   Do chores\"\n",
      "    else:\n",
      "        print \"   Go to work\""
     ],
     "language": "python",
     "metadata": {},
     "outputs": [
      {
       "output_type": "stream",
       "stream": "stdout",
       "text": [
        "Today is Sunday\n",
        "   Sleep in\n",
        "Today is Monday\n",
        "   Go to work\n",
        "Today is Tuesday\n",
        "   Go to work\n",
        "Today is Wednesday\n",
        "   Go to work\n",
        "Today is Thursday\n",
        "   Go to work\n",
        "Today is Friday\n",
        "   Go to work\n",
        "Today is Saturday\n",
        "   Do chores\n"
       ]
      }
     ],
     "prompt_number": 34
    },
    {
     "cell_type": "markdown",
     "metadata": {},
     "source": [
      "## Code Example: The Fibonacci Sequence\n",
      "The [Fibonacci sequence](http://en.wikipedia.org/wiki/Fibonacci_number) is a sequence in math that starts with 0 and 1, and then each successive entry is the sum of the previous two. Thus, the sequence goes 0,1,1,2,3,5,8,13,21,34,55,89,...\n",
      "\n",
      "A very common exercise in programming books is to compute the Fibonacci sequence up to some number **n**. First I'll show the code, then I'll discuss what it is doing."
     ]
    },
    {
     "cell_type": "code",
     "collapsed": false,
     "input": [
      "sequence = [0,1]\n",
      "for i in range(2,10): # This is going to be a problem if we ever set n <= 2!\n",
      "    print \"iteration\",i,\", sequence=\",sequence\n",
      "    sequence.append(sequence[i-1]+sequence[i-2])"
     ],
     "language": "python",
     "metadata": {},
     "outputs": [
      {
       "output_type": "stream",
       "stream": "stdout",
       "text": [
        "iteration 2 , sequence= [0, 1]\n",
        "iteration 3 , sequence= [0, 1, 1]\n",
        "iteration 4 , sequence= [0, 1, 1, 2]\n",
        "iteration 5 , sequence= [0, 1, 1, 2, 3]\n",
        "iteration 6 , sequence= [0, 1, 1, 2, 3, 5]\n",
        "iteration 7 , sequence= [0, 1, 1, 2, 3, 5, 8]\n",
        "iteration 8 , sequence= [0, 1, 1, 2, 3, 5, 8, 13]\n",
        "iteration 9 , sequence= [0, 1, 1, 2, 3, 5, 8, 13, 21]\n"
       ]
      }
     ],
     "prompt_number": 35
    },
    {
     "cell_type": "markdown",
     "metadata": {},
     "source": [
      "## Functions\n",
      "Here is a recursive version of the factorial function. We do this with the **def** statement in Python:"
     ]
    },
    {
     "cell_type": "code",
     "collapsed": false,
     "input": [
      "def fact(n):\n",
      "    if n <= 0:\n",
      "        return 1\n",
      "    return n*fact(n-1)"
     ],
     "language": "python",
     "metadata": {},
     "outputs": [],
     "prompt_number": 2
    },
    {
     "cell_type": "code",
     "collapsed": false,
     "input": [
      "fact(20)"
     ],
     "language": "python",
     "metadata": {},
     "outputs": [
      {
       "metadata": {},
       "output_type": "pyout",
       "prompt_number": 37,
       "text": [
        "2432902008176640000"
       ]
      }
     ],
     "prompt_number": 37
    },
    {
     "cell_type": "markdown",
     "metadata": {},
     "source": [
      "on peut aussi renvoyer plusieurs \u00e9l\u00e9ments"
     ]
    },
    {
     "cell_type": "code",
     "collapsed": false,
     "input": [
      "def mirroir(x,y,z):\n",
      "    return z,y,x"
     ],
     "language": "python",
     "metadata": {},
     "outputs": [],
     "prompt_number": 39
    },
    {
     "cell_type": "code",
     "collapsed": false,
     "input": [
      "a,b,c = mirroir(\"le lapin\",\"tue\",\"le chasseur\")\n",
      "print a,b,c"
     ],
     "language": "python",
     "metadata": {},
     "outputs": [
      {
       "output_type": "stream",
       "stream": "stdout",
       "text": [
        "le chasseur tue le lapin\n"
       ]
      }
     ],
     "prompt_number": 40
    },
    {
     "cell_type": "markdown",
     "metadata": {},
     "source": [
      "## Dictionaries"
     ]
    },
    {
     "cell_type": "markdown",
     "metadata": {},
     "source": [
      "**Dictionaries** are an object called \"mappings\" or \"associative arrays\" in other languages. Whereas a list associates an integer index with a set of objects:"
     ]
    },
    {
     "cell_type": "markdown",
     "metadata": {},
     "source": [
      "The index in a dictionary is called the *key*, and the corresponding dictionary entry is the *value*. A dictionary can use (almost) anything as the key. Whereas lists are formed with square brackets [], dictionaries use curly brackets {}:"
     ]
    },
    {
     "cell_type": "code",
     "collapsed": false,
     "input": [
      "ages = {\"Rick\": 46, \"Bob\": 86, \"Fred\": 21}\n",
      "print \"Rick's age is \",ages[\"Rick\"]"
     ],
     "language": "python",
     "metadata": {},
     "outputs": [
      {
       "output_type": "stream",
       "stream": "stdout",
       "text": [
        "Rick's age is  46\n"
       ]
      }
     ],
     "prompt_number": 41
    },
    {
     "cell_type": "markdown",
     "metadata": {},
     "source": [
      "The **len()** command works on both tuples and dictionaries:"
     ]
    },
    {
     "cell_type": "code",
     "collapsed": false,
     "input": [
      "len(ages)"
     ],
     "language": "python",
     "metadata": {},
     "outputs": [
      {
       "metadata": {},
       "output_type": "pyout",
       "prompt_number": 43,
       "text": [
        "3"
       ]
      }
     ],
     "prompt_number": 43
    },
    {
     "cell_type": "code",
     "collapsed": false,
     "input": [
      "len(ages)"
     ],
     "language": "python",
     "metadata": {},
     "outputs": []
    },
    {
     "cell_type": "markdown",
     "metadata": {},
     "source": [
      "Pour parcourir toutes les cl\u00e9s du dictionnaire:"
     ]
    },
    {
     "cell_type": "code",
     "collapsed": false,
     "input": [
      "for k in ages:\n",
      "    print k"
     ],
     "language": "python",
     "metadata": {},
     "outputs": [
      {
       "output_type": "stream",
       "stream": "stdout",
       "text": [
        "Bob\n",
        "Rick\n",
        "Fred\n"
       ]
      }
     ],
     "prompt_number": 44
    },
    {
     "cell_type": "markdown",
     "metadata": {},
     "source": [
      "Pour parcourir tous les couples cl\u00e9/valeur du dictionnaire:"
     ]
    },
    {
     "cell_type": "code",
     "collapsed": false,
     "input": [
      "for k,v in ages.iteritems():\n",
      "    print \"Monsieur\" , k , \"a f\u00eat\u00e9 ses\" , v , \"ans\""
     ],
     "language": "python",
     "metadata": {},
     "outputs": [
      {
       "output_type": "stream",
       "stream": "stdout",
       "text": [
        "Monsieur Bob a f\u00eat\u00e9 ses 86 ans\n",
        "Monsieur Rick a f\u00eat\u00e9 ses 46 ans\n",
        "Monsieur Fred a f\u00eat\u00e9 ses 21 ans\n"
       ]
      }
     ],
     "prompt_number": 45
    },
    {
     "cell_type": "markdown",
     "metadata": {},
     "source": [
      "On peut aussi extraire la liste des cl\u00e9s et la liste des valeurs"
     ]
    },
    {
     "cell_type": "code",
     "collapsed": false,
     "input": [
      "print ages.keys()\n",
      "print ages.values()"
     ],
     "language": "python",
     "metadata": {},
     "outputs": [
      {
       "output_type": "stream",
       "stream": "stdout",
       "text": [
        "['Bob', 'Rick', 'Fred']\n",
        "[86, 46, 21]\n"
       ]
      }
     ],
     "prompt_number": 46
    },
    {
     "cell_type": "markdown",
     "metadata": {},
     "source": [
      "## Structure de donn\u00e9es complexe\n",
      "On peut m\u00e9langer dictionnaire et liste"
     ]
    },
    {
     "cell_type": "code",
     "collapsed": false,
     "input": [
      "friends = {\"jack\":[\"joyce\",\"julia\"],\"jim\":[\"julia\",\"jack\"],\n",
      "            \"harry\":[\"sally\",\"jack\",\"jim\"]\n",
      "           }\n",
      "\n",
      "friends[\"toto\"] = [\"tata\",\"titi\"]\n",
      "friends"
     ],
     "language": "python",
     "metadata": {},
     "outputs": [
      {
       "metadata": {},
       "output_type": "pyout",
       "prompt_number": 2,
       "text": [
        "{'harry': ['sally', 'jack', 'jim'],\n",
        " 'jack': ['joyce', 'julia'],\n",
        " 'jim': ['julia', 'jack'],\n",
        " 'toto': ['tata', 'titi']}"
       ]
      }
     ],
     "prompt_number": 2
    },
    {
     "cell_type": "code",
     "collapsed": false,
     "input": [
      "from collections import defaultdict\n",
      "from itertools import chain"
     ],
     "language": "python",
     "metadata": {},
     "outputs": [],
     "prompt_number": 10
    },
    {
     "cell_type": "code",
     "collapsed": false,
     "input": [
      "invfriends = defaultdict(list)\n",
      "for k,v in friends.iteritems():\n",
      "    for k2 in v:\n",
      "            invfriends[k2].append(k)\n",
      "dict(invfriends)"
     ],
     "language": "python",
     "metadata": {},
     "outputs": [
      {
       "metadata": {},
       "output_type": "pyout",
       "prompt_number": 11,
       "text": [
        "{'jack': ['jim', 'harry'],\n",
        " 'jim': ['harry'],\n",
        " 'joyce': ['jack'],\n",
        " 'julia': ['jim', 'jack'],\n",
        " 'sally': ['harry'],\n",
        " 'tata': ['toto'],\n",
        " 'titi': ['toto']}"
       ]
      }
     ],
     "prompt_number": 11
    },
    {
     "cell_type": "code",
     "collapsed": false,
     "input": [
      "{k:[f for f in friends if k in friends[f]] for k in chain(*friends.values())}"
     ],
     "language": "python",
     "metadata": {},
     "outputs": [
      {
       "metadata": {},
       "output_type": "pyout",
       "prompt_number": 13,
       "text": [
        "{'jack': ['jim', 'harry'],\n",
        " 'jim': ['harry'],\n",
        " 'joyce': ['jack'],\n",
        " 'julia': ['jim', 'jack'],\n",
        " 'sally': ['harry'],\n",
        " 'tata': ['toto'],\n",
        " 'titi': ['toto']}"
       ]
      }
     ],
     "prompt_number": 13
    },
    {
     "cell_type": "code",
     "collapsed": false,
     "input": [],
     "language": "python",
     "metadata": {},
     "outputs": []
    },
    {
     "cell_type": "markdown",
     "metadata": {},
     "source": [
      "## Plotting with Matplotlib\n",
      "We can generally understand trends in data by using a plotting program to chart it. Python has a wonderful plotting library called [Matplotlib](http://matplotlib.sf.net). The IPython notebook interface we are using for these notes has that functionality built in.\n",
      "\n",
      "The first thing to do is to tell iPython and Python that we want graphics inside the notebook, and that we will use functions from the pylab module from matplotlib\n"
     ]
    },
    {
     "cell_type": "code",
     "collapsed": false,
     "input": [
      "%pylab inline"
     ],
     "language": "python",
     "metadata": {},
     "outputs": [
      {
       "output_type": "stream",
       "stream": "stdout",
       "text": [
        "Populating the interactive namespace from numpy and matplotlib\n"
       ]
      }
     ],
     "prompt_number": 1
    },
    {
     "cell_type": "markdown",
     "metadata": {},
     "source": [
      "Next lets generate the factorials."
     ]
    },
    {
     "cell_type": "code",
     "collapsed": false,
     "input": [
      "facts = []\n",
      "for i in range(10):\n",
      "    facts.append(fact(i))\n",
      "    \n",
      "exps = [exp(x*log(x+1)-x) for x in range(10)]"
     ],
     "language": "python",
     "metadata": {},
     "outputs": [],
     "prompt_number": 3
    },
    {
     "cell_type": "markdown",
     "metadata": {},
     "source": [
      "Now we use the Matplotlib function **plot** to compare the two."
     ]
    },
    {
     "cell_type": "code",
     "collapsed": false,
     "input": [
      "#figsize(8,6)\n",
      "plot(facts,label=\"factorial\")\n",
      "plot(exps,label=\"Exponential\")\n",
      "xlabel(\"n\")\n",
      "legend()"
     ],
     "language": "python",
     "metadata": {},
     "outputs": [
      {
       "metadata": {},
       "output_type": "pyout",
       "prompt_number": 5,
       "text": [
        "<matplotlib.legend.Legend at 0x10600e950>"
       ]
      },
      {
       "metadata": {},
       "output_type": "display_data",
       "png": "[encoded data removed]",
       "text": [
        "<matplotlib.figure.Figure at 0x105e47b10>"
       ]
      }
     ],
     "prompt_number": 5
    },
    {
     "cell_type": "markdown",
     "metadata": {},
     "source": [
      "The factorial function grows much faster. In fact, you can't even see the Fibonacci sequence. It's not entirely surprising: a function where we multiply by n each iteration is bound to grow faster than one where we add (roughly) n each iteration.\n",
      "\n",
      "Let's plot these on a semilog plot so we can see them both a little more clearly:"
     ]
    },
    {
     "cell_type": "code",
     "collapsed": false,
     "input": [
      "semilogy(facts,label=\"factorial\")\n",
      "semilogy(exps,label=\"Exponential\")\n",
      "xlabel(\"n\")\n",
      "legend()"
     ],
     "language": "python",
     "metadata": {},
     "outputs": [
      {
       "metadata": {},
       "output_type": "pyout",
       "prompt_number": 6,
       "text": [
        "<matplotlib.legend.Legend at 0x1061aa9d0>"
       ]
      },
      {
       "metadata": {},
       "output_type": "display_data",
       "png": "[encoded data removed]",
       "text": [
        "<matplotlib.figure.Figure at 0x106061490>"
       ]
      }
     ],
     "prompt_number": 6
    },
    {
     "cell_type": "markdown",
     "metadata": {},
     "source": [
      "There are many more things you can do with Matplotlib. We'll be looking at some of them in the sections to come. In the meantime, if you want an idea of the different things you can do, look at the Matplotlib [Gallery](http://matplotlib.org/gallery.html). Rob Johansson's IPython notebook [Introduction to Matplotlib](http://nbviewer.ipython.org/urls/raw.github.com/jrjohansson/scientific-python-lectures/master/Lecture-4-Matplotlib.ipynb) is also particularly good."
     ]
    },
    {
     "cell_type": "markdown",
     "metadata": {},
     "source": [
      "## Conclusion of the Python Overview\n",
      "There is, of course, much more to the language than I've covered here. I've tried to keep this brief enough so that you can jump in and start using Python to simplify your life and work. My own experience in learning new things is that the information doesn't \"stick\" unless you try and use it for something in real life.\n",
      "\n",
      "You will no doubt need to learn more as you go. I've listed several other good references, including the [Python Tutorial](http://docs.python.org/2/tutorial/) and [Learn Python the Hard Way](http://learnpythonthehardway.org/book/). Additionally, now is a good time to start familiarizing yourself with the [Python Documentation](http://docs.python.org/2.7/), and, in particular, the [Python Language Reference](http://docs.python.org/2.7/reference/index.html).\n",
      "\n",
      "Tim Peters, one of the earliest and most prolific Python contributors, wrote the \"Zen of Python\", which can be accessed via the \"import this\" command:"
     ]
    },
    {
     "cell_type": "code",
     "collapsed": false,
     "input": [
      "import this"
     ],
     "language": "python",
     "metadata": {},
     "outputs": []
    },
    {
     "cell_type": "markdown",
     "metadata": {},
     "source": [
      "No matter how experienced a programmer you are, these are words to meditate on."
     ]
    },
    {
     "cell_type": "markdown",
     "metadata": {},
     "source": [
      "# II. Numpy and Scipy\n",
      "\n",
      "[Numpy](http://numpy.org) contains core routines for doing fast vector, matrix, and linear algebra-type operations in Python. [Scipy](http://scipy) contains additional routines for optimization, special functions, and so on. Both contain modules written in C and Fortran so that they're as fast as possible. Together, they give Python roughly the same capability that the [Matlab](http://www.mathworks.com/products/matlab/) program offers. (In fact, if you're an experienced Matlab user, there a [guide to Numpy for Matlab users](http://www.scipy.org/NumPy_for_Matlab_Users) just for you.)\n",
      "\n",
      "## Making vectors and matrices\n",
      "Fundamental to both Numpy and Scipy is the ability to work with vectors and matrices. You can create vectors from lists using the **array** command:"
     ]
    },
    {
     "cell_type": "code",
     "collapsed": false,
     "input": [
      "array([1,2,3,4,5,6])"
     ],
     "language": "python",
     "metadata": {},
     "outputs": [
      {
       "metadata": {},
       "output_type": "pyout",
       "prompt_number": 7,
       "text": [
        "array([1, 2, 3, 4, 5, 6])"
       ]
      }
     ],
     "prompt_number": 7
    },
    {
     "cell_type": "markdown",
     "metadata": {},
     "source": [
      "You can pass in a second argument to **array** that gives the numeric type. There are a number of types [listed here](http://docs.scipy.org/doc/numpy/user/basics.types.html) that your matrix can be. Some of these are aliased to single character codes. The most common ones are 'd' (double precision floating point number), 'D' (double precision complex number), and 'i' (int32). Thus,"
     ]
    },
    {
     "cell_type": "code",
     "collapsed": false,
     "input": [
      "array([1,2,3,4,5,6],'d')"
     ],
     "language": "python",
     "metadata": {},
     "outputs": [
      {
       "metadata": {},
       "output_type": "pyout",
       "prompt_number": 10,
       "text": [
        "array([ 1.,  2.,  3.,  4.,  5.,  6.])"
       ]
      }
     ],
     "prompt_number": 10
    },
    {
     "cell_type": "code",
     "collapsed": false,
     "input": [
      "array([1,2,3,4,5,6],'D')"
     ],
     "language": "python",
     "metadata": {},
     "outputs": [
      {
       "metadata": {},
       "output_type": "pyout",
       "prompt_number": 9,
       "text": [
        "array([ 1.+0.j,  2.+0.j,  3.+0.j,  4.+0.j,  5.+0.j,  6.+0.j])"
       ]
      }
     ],
     "prompt_number": 9
    },
    {
     "cell_type": "code",
     "collapsed": false,
     "input": [
      "array([1,2,3,4,5,6],'i')"
     ],
     "language": "python",
     "metadata": {},
     "outputs": [
      {
       "metadata": {},
       "output_type": "pyout",
       "prompt_number": 8,
       "text": [
        "array([1, 2, 3, 4, 5, 6], dtype=int32)"
       ]
      }
     ],
     "prompt_number": 8
    },
    {
     "cell_type": "markdown",
     "metadata": {},
     "source": [
      "To build matrices, you can either use the array command with lists of lists:"
     ]
    },
    {
     "cell_type": "code",
     "collapsed": false,
     "input": [
      "array([[0,1],[1,0]],'d')"
     ],
     "language": "python",
     "metadata": {},
     "outputs": [
      {
       "metadata": {},
       "output_type": "pyout",
       "prompt_number": 11,
       "text": [
        "array([[ 0.,  1.],\n",
        "       [ 1.,  0.]])"
       ]
      }
     ],
     "prompt_number": 11
    },
    {
     "cell_type": "markdown",
     "metadata": {},
     "source": [
      "You can also form empty (zero) matrices of arbitrary shape (including vectors, which Numpy treats as vectors with one row), using the **zeros** command:"
     ]
    },
    {
     "cell_type": "code",
     "collapsed": false,
     "input": [
      "zeros((3,3),'d')"
     ],
     "language": "python",
     "metadata": {},
     "outputs": [
      {
       "metadata": {},
       "output_type": "pyout",
       "prompt_number": 12,
       "text": [
        "array([[ 0.,  0.,  0.],\n",
        "       [ 0.,  0.,  0.],\n",
        "       [ 0.,  0.,  0.]])"
       ]
      }
     ],
     "prompt_number": 12
    },
    {
     "cell_type": "markdown",
     "metadata": {},
     "source": [
      "The first argument is a tuple containing the shape of the matrix, and the second is the data type argument, which follows the same conventions as in the array command. Thus, you can make row vectors:"
     ]
    },
    {
     "cell_type": "code",
     "collapsed": false,
     "input": [
      "zeros(3,'d')"
     ],
     "language": "python",
     "metadata": {},
     "outputs": [
      {
       "metadata": {},
       "output_type": "pyout",
       "prompt_number": 13,
       "text": [
        "array([ 0.,  0.,  0.])"
       ]
      }
     ],
     "prompt_number": 13
    },
    {
     "cell_type": "code",
     "collapsed": false,
     "input": [
      "zeros((1,3),'d')"
     ],
     "language": "python",
     "metadata": {},
     "outputs": []
    },
    {
     "cell_type": "markdown",
     "metadata": {},
     "source": [
      "or column vectors:"
     ]
    },
    {
     "cell_type": "code",
     "collapsed": false,
     "input": [
      "zeros((3,1),'d')"
     ],
     "language": "python",
     "metadata": {},
     "outputs": []
    },
    {
     "cell_type": "markdown",
     "metadata": {},
     "source": [
      "There's also an **identity** command that behaves as you'd expect:"
     ]
    },
    {
     "cell_type": "code",
     "collapsed": false,
     "input": [
      "identity(4,'d')"
     ],
     "language": "python",
     "metadata": {},
     "outputs": []
    },
    {
     "cell_type": "markdown",
     "metadata": {},
     "source": [
      "as well as a **ones** command."
     ]
    },
    {
     "cell_type": "markdown",
     "metadata": {},
     "source": [
      "## Linspace, matrix functions, and plotting\n",
      "The **linspace** command makes a linear array of points from a starting to an ending value."
     ]
    },
    {
     "cell_type": "code",
     "collapsed": false,
     "input": [
      "linspace(0,1)"
     ],
     "language": "python",
     "metadata": {},
     "outputs": []
    },
    {
     "cell_type": "markdown",
     "metadata": {},
     "source": [
      "If you provide a third argument, it takes that as the number of points in the space. If you don't provide the argument, it gives a length 50 linear space."
     ]
    },
    {
     "cell_type": "code",
     "collapsed": false,
     "input": [
      "linspace(0,1,11)"
     ],
     "language": "python",
     "metadata": {},
     "outputs": []
    },
    {
     "cell_type": "markdown",
     "metadata": {},
     "source": [
      "**linspace** is an easy way to make coordinates for plotting. Functions in the numpy library (all of which are imported into IPython notebook) can act on an entire vector (or even a matrix) of points at once. Thus,"
     ]
    },
    {
     "cell_type": "code",
     "collapsed": false,
     "input": [
      "x = linspace(0,2*pi)\n",
      "sin(x)"
     ],
     "language": "python",
     "metadata": {},
     "outputs": []
    },
    {
     "cell_type": "markdown",
     "metadata": {},
     "source": [
      "In conjunction with **matplotlib**, this is a nice way to plot things:"
     ]
    },
    {
     "cell_type": "code",
     "collapsed": false,
     "input": [
      "plot(x,sin(x))"
     ],
     "language": "python",
     "metadata": {},
     "outputs": []
    },
    {
     "cell_type": "markdown",
     "metadata": {},
     "source": [
      "## Matrix operations\n",
      "Matrix objects act sensibly when multiplied by scalars:"
     ]
    },
    {
     "cell_type": "code",
     "collapsed": false,
     "input": [
      "0.125*identity(3,'d')"
     ],
     "language": "python",
     "metadata": {},
     "outputs": []
    },
    {
     "cell_type": "markdown",
     "metadata": {},
     "source": [
      "as well as when you add two matrices together. (However, the matrices have to be the same shape.)"
     ]
    },
    {
     "cell_type": "code",
     "collapsed": false,
     "input": [
      "identity(2,'d') + array([[1,1],[1,2]])"
     ],
     "language": "python",
     "metadata": {},
     "outputs": []
    },
    {
     "cell_type": "markdown",
     "metadata": {},
     "source": [
      "Something that confuses Matlab users is that the times (*) operator give element-wise multiplication rather than matrix multiplication:"
     ]
    },
    {
     "cell_type": "code",
     "collapsed": false,
     "input": [
      "identity(2)*ones((2,2))"
     ],
     "language": "python",
     "metadata": {},
     "outputs": []
    },
    {
     "cell_type": "markdown",
     "metadata": {},
     "source": [
      "To get matrix multiplication, you need the **dot** command:"
     ]
    },
    {
     "cell_type": "code",
     "collapsed": false,
     "input": [
      "dot(identity(2),ones((2,2)))"
     ],
     "language": "python",
     "metadata": {},
     "outputs": []
    },
    {
     "cell_type": "markdown",
     "metadata": {},
     "source": [
      "**dot** can also do dot products (duh!):"
     ]
    },
    {
     "cell_type": "code",
     "collapsed": false,
     "input": [
      "v = array([3,4],'d')\n",
      "sqrt(dot(v,v))"
     ],
     "language": "python",
     "metadata": {},
     "outputs": []
    },
    {
     "cell_type": "markdown",
     "metadata": {},
     "source": [
      "as well as matrix-vector products."
     ]
    },
    {
     "cell_type": "markdown",
     "metadata": {},
     "source": [
      "There are **determinant**, **inverse**, and **transpose** functions that act as you would suppose. Transpose can be abbreviated with \".T\" at the end of a matrix object:"
     ]
    },
    {
     "cell_type": "code",
     "collapsed": false,
     "input": [
      "m = array([[1,2],[3,4]])\n",
      "m.T"
     ],
     "language": "python",
     "metadata": {},
     "outputs": []
    },
    {
     "cell_type": "markdown",
     "metadata": {},
     "source": [
      "There's also a **diag()** function that takes a list or a vector and puts it along the diagonal of a square matrix. "
     ]
    },
    {
     "cell_type": "code",
     "collapsed": false,
     "input": [
      "diag([1,2,3,4,5])"
     ],
     "language": "python",
     "metadata": {},
     "outputs": []
    },
    {
     "cell_type": "markdown",
     "metadata": {},
     "source": [
      "We'll find this useful later on."
     ]
    },
    {
     "cell_type": "markdown",
     "metadata": {},
     "source": [
      "## Matrix Solvers\n",
      "You can solve systems of linear equations using the **solve** command:"
     ]
    },
    {
     "cell_type": "code",
     "collapsed": false,
     "input": [
      "A = array([[1,1,1],[0,2,5],[2,5,-1]])\n",
      "b = array([6,-4,27])\n",
      "solve(A,b)"
     ],
     "language": "python",
     "metadata": {},
     "outputs": []
    },
    {
     "cell_type": "markdown",
     "metadata": {},
     "source": [
      "There are a number of routines to compute eigenvalues and eigenvectors\n",
      "\n",
      "* **eigvals** returns the eigenvalues of a matrix\n",
      "* **eigvalsh** returns the eigenvalues of a Hermitian matrix\n",
      "* **eig** returns the eigenvalues and eigenvectors of a matrix\n",
      "* **eigh** returns the eigenvalues and eigenvectors of a Hermitian matrix."
     ]
    },
    {
     "cell_type": "code",
     "collapsed": false,
     "input": [
      "A = array([[13,-4],[-4,7]],'d')\n",
      "eigvalsh(A)"
     ],
     "language": "python",
     "metadata": {},
     "outputs": []
    },
    {
     "cell_type": "code",
     "collapsed": false,
     "input": [
      "eigh(A)"
     ],
     "language": "python",
     "metadata": {},
     "outputs": []
    },
    {
     "cell_type": "markdown",
     "metadata": {},
     "source": [
      "# III. Intermediate Python\n",
      "\n",
      "## Output Parsing\n",
      "As more and more of our day-to-day work is being done on and through computers, we increasingly have output that one program writes, often in a text file, that we need to analyze in one way or another, and potentially feed that output into another file.\n",
      "\n",
      "Suppose we have the following output:"
     ]
    },
    {
     "cell_type": "code",
     "collapsed": false,
     "input": [
      "myoutput = \"\"\"\\\n",
      "@ Step       Energy      Delta E   Gmax     Grms     Xrms     Xmax   Walltime\n",
      "@ ---- ---------------- -------- -------- -------- -------- -------- --------\n",
      "@    0   -6095.12544083  0.0D+00  0.03686  0.00936  0.00000  0.00000   1391.5\n",
      "@    1   -6095.25762870 -1.3D-01  0.00732  0.00168  0.32456  0.84140  10468.0\n",
      "@    2   -6095.26325979 -5.6D-03  0.00233  0.00056  0.06294  0.14009  11963.5\n",
      "@    3   -6095.26428124 -1.0D-03  0.00109  0.00024  0.03245  0.10269  13331.9\n",
      "@    4   -6095.26463203 -3.5D-04  0.00057  0.00013  0.02737  0.09112  14710.8\n",
      "@    5   -6095.26477615 -1.4D-04  0.00043  0.00009  0.02259  0.08615  20211.1\n",
      "@    6   -6095.26482624 -5.0D-05  0.00015  0.00002  0.00831  0.03147  21726.1\n",
      "@    7   -6095.26483584 -9.6D-06  0.00021  0.00004  0.01473  0.05265  24890.5\n",
      "@    8   -6095.26484405 -8.2D-06  0.00005  0.00001  0.00555  0.01929  26448.7\n",
      "@    9   -6095.26484599 -1.9D-06  0.00003  0.00001  0.00164  0.00564  27258.1\n",
      "@   10   -6095.26484676 -7.7D-07  0.00003  0.00001  0.00161  0.00553  28155.3\n",
      "@   11   -6095.26484693 -1.8D-07  0.00002  0.00000  0.00054  0.00151  28981.7\n",
      "@   11   -6095.26484693 -1.8D-07  0.00002  0.00000  0.00054  0.00151  28981.7\"\"\""
     ],
     "language": "python",
     "metadata": {},
     "outputs": []
    },
    {
     "cell_type": "markdown",
     "metadata": {},
     "source": [
      "This output actually came from a geometry optimization of a Silicon cluster using the [NWChem](http://www.nwchem-sw.org/index.php/Main_Page) quantum chemistry suite. At every step the program computes the energy of the molecular geometry, and then changes the geometry to minimize the computed forces, until the energy converges. I obtained this output via the unix command\n",
      "\n",
      "    % grep @ nwchem.out\n",
      "\n",
      "since NWChem is nice enough to precede the lines that you need to monitor job progress with the '@' symbol.\n",
      "\n",
      "We could do the entire analysis in Python; I'll show how to do this later on, but first let's focus on turning this code into a usable Python object that we can plot.\n",
      "\n",
      "First, note that the data is entered into a multi-line string. When Python sees three quote marks \"\"\" or ''' it treats everything following as part of a single string, including newlines, tabs, and anything else, until it sees the same three quote marks (\"\"\" has to be followed by another \"\"\", and ''' has to be followed by another ''') again. This is a convenient way to quickly dump data into Python, and it also reinforces the important idea that you don't have to open a file and deal with it one line at a time. You can read everything in, and deal with it as one big chunk.\n",
      "\n",
      "The first thing we'll do, though, is to split the big string into a list of strings, since each line corresponds to a separate piece of data. We will use the **splitlines()** function on the big myout string to break it into a new element every time it sees a newline (\\n) character:"
     ]
    },
    {
     "cell_type": "code",
     "collapsed": false,
     "input": [
      "lines = myoutput.splitlines()\n",
      "lines"
     ],
     "language": "python",
     "metadata": {},
     "outputs": []
    },
    {
     "cell_type": "markdown",
     "metadata": {},
     "source": [
      "Splitting is a big concept in text processing. We used **splitlines()** here, and we will use the more general **split()** function below to split each line into whitespace-delimited words.\n",
      "\n",
      "We now want to do three things:\n",
      "\n",
      "* Skip over the lines that don't carry any information\n",
      "* Break apart each line that does carry information and grab the pieces we want\n",
      "* Turn the resulting data into something that we can plot.\n",
      "\n",
      "For this data, we really only want the Energy column, the Gmax column (which contains the maximum gradient at each step), and perhaps the Walltime column. \n",
      "\n",
      "Since the data is now in a list of lines, we can iterate over it:"
     ]
    },
    {
     "cell_type": "code",
     "collapsed": false,
     "input": [
      "for line in lines[2:]:\n",
      "    # do something with each line\n",
      "    words = line.split()"
     ],
     "language": "python",
     "metadata": {},
     "outputs": []
    },
    {
     "cell_type": "markdown",
     "metadata": {},
     "source": [
      "Let's examine what we just did: first, we used a **for** loop to iterate over each line. However, we skipped the first two (the lines[2:] only takes the lines starting from index 2), since lines[0] contained the title information, and lines[1] contained underscores.\n",
      "\n",
      "We then split each line into chunks (which we're calling \"words\", even though in most cases they're numbers) using the string **split()** command. Here's what split does:"
     ]
    },
    {
     "cell_type": "code",
     "collapsed": false,
     "input": [
      "import string\n",
      "help(string.split)"
     ],
     "language": "python",
     "metadata": {},
     "outputs": []
    },
    {
     "cell_type": "markdown",
     "metadata": {},
     "source": [
      "Here we're implicitly passing in the first argument (s, in the doctext) by calling a method .split() on a string object. In this instance, we're not passing in a sep character, which means that the function splits on whitespace. Let's see what that does to one of our lines:"
     ]
    },
    {
     "cell_type": "code",
     "collapsed": false,
     "input": [
      "lines[2].split()"
     ],
     "language": "python",
     "metadata": {},
     "outputs": []
    },
    {
     "cell_type": "markdown",
     "metadata": {},
     "source": [
      "This is almost exactly what we want. We just have to now pick the fields we want:"
     ]
    },
    {
     "cell_type": "code",
     "collapsed": false,
     "input": [
      "for line in lines[2:]:\n",
      "    # do something with each line\n",
      "    words = line.split()\n",
      "    energy = words[2]\n",
      "    gmax = words[4]\n",
      "    time = words[8]\n",
      "    print energy,gmax,time"
     ],
     "language": "python",
     "metadata": {},
     "outputs": []
    },
    {
     "cell_type": "markdown",
     "metadata": {},
     "source": [
      "This is fine for printing things out, but if we want to do something with the data, either make a calculation with it or pass it into a plotting, we need to convert the strings into regular floating point numbers. We can use the **float()** command for this. We also need to save it in some form. I'll do this as follows:"
     ]
    },
    {
     "cell_type": "code",
     "collapsed": false,
     "input": [
      "data = []\n",
      "for line in lines[2:]:\n",
      "    # do something with each line\n",
      "    words = line.split()\n",
      "    energy = float(words[2])\n",
      "    gmax = float(words[4])\n",
      "    time = float(words[8])\n",
      "    data.append((energy,gmax,time))\n",
      "data = array(data)"
     ],
     "language": "python",
     "metadata": {},
     "outputs": []
    },
    {
     "cell_type": "markdown",
     "metadata": {},
     "source": [
      "We now have our data in a numpy array, so we can choose columns to print:"
     ]
    },
    {
     "cell_type": "code",
     "collapsed": false,
     "input": [
      "plot(data[:,0])\n",
      "xlabel('step')\n",
      "ylabel('Energy (hartrees)')\n",
      "title('Convergence of NWChem geometry optimization for Si cluster')"
     ],
     "language": "python",
     "metadata": {},
     "outputs": []
    },
    {
     "cell_type": "markdown",
     "metadata": {},
     "source": [
      "I would write the code a little more succinctly if I were doing this for myself, but this is essentially a snippet I use repeatedly. \n",
      "\n",
      "Suppose our data was in CSV (comma separated values) format, a format that originally came from Microsoft Excel, and is increasingly used as a data interchange format in big data applications. How would we parse that?"
     ]
    },
    {
     "cell_type": "code",
     "collapsed": false,
     "input": [
      "csv = \"\"\"\\\n",
      "-6095.12544083, 0.03686, 1391.5\n",
      "-6095.25762870, 0.00732, 10468.0\n",
      "-6095.26325979, 0.00233, 11963.5\n",
      "-6095.26428124, 0.00109, 13331.9\n",
      "-6095.26463203, 0.00057, 14710.8\n",
      "-6095.26477615, 0.00043, 20211.1\n",
      "-6095.26482624, 0.00015, 21726.1\n",
      "-6095.26483584, 0.00021, 24890.5\n",
      "-6095.26484405, 0.00005, 26448.7\n",
      "-6095.26484599, 0.00003, 27258.1\n",
      "-6095.26484676, 0.00003, 28155.3\n",
      "-6095.26484693, 0.00002, 28981.7\n",
      "-6095.26484693, 0.00002, 28981.7\"\"\""
     ],
     "language": "python",
     "metadata": {},
     "outputs": []
    },
    {
     "cell_type": "markdown",
     "metadata": {},
     "source": [
      "We can do much the same as before:"
     ]
    },
    {
     "cell_type": "code",
     "collapsed": false,
     "input": [
      "data = []\n",
      "for line in csv.splitlines():\n",
      "    words = line.split(',')\n",
      "    data.append(map(float,words))\n",
      "data = array(data)"
     ],
     "language": "python",
     "metadata": {},
     "outputs": []
    },
    {
     "cell_type": "markdown",
     "metadata": {},
     "source": [
      "There are two significant changes over what we did earlier. First, I'm passing the comma character ',' into the split function, so that it breaks to a new word every time it sees a comma. Next, to simplify things a big, I'm using the **map()** command to repeatedly apply a single function (**float()**) to a list, and to return the output as a list."
     ]
    },
    {
     "cell_type": "code",
     "collapsed": false,
     "input": [
      "help(map)"
     ],
     "language": "python",
     "metadata": {},
     "outputs": []
    },
    {
     "cell_type": "markdown",
     "metadata": {},
     "source": [
      "Despite the differences, the resulting plot should be the same:"
     ]
    },
    {
     "cell_type": "code",
     "collapsed": false,
     "input": [
      "plot(data[:,0])\n",
      "xlabel('step')\n",
      "ylabel('Energy (hartrees)')\n",
      "title('Convergence of NWChem geometry optimization for Si cluster')"
     ],
     "language": "python",
     "metadata": {},
     "outputs": []
    },
    {
     "cell_type": "markdown",
     "metadata": {},
     "source": [
      "Hartrees (what most quantum chemistry programs use by default) are really stupid units. We really want this in kcal/mol or eV or something we use. So let's quickly replot this in terms of eV above the minimum energy, which will give us a much more useful plot:"
     ]
    },
    {
     "cell_type": "code",
     "collapsed": false,
     "input": [
      "energies = data[:,0]\n",
      "minE = min(energies)\n",
      "energies_eV = 27.211*(energies-minE)\n",
      "plot(energies_eV)\n",
      "xlabel('step')\n",
      "ylabel('Energy (eV)')\n",
      "title('Convergence of NWChem geometry optimization for Si cluster')"
     ],
     "language": "python",
     "metadata": {},
     "outputs": []
    },
    {
     "cell_type": "markdown",
     "metadata": {},
     "source": [
      "This gives us the output in a form that we can think about: 4 eV is a fairly substantial energy change (chemical bonds are roughly this magnitude of energy), and most of the energy decrease was obtained in the first geometry iteration."
     ]
    },
    {
     "cell_type": "markdown",
     "metadata": {},
     "source": [
      "We mentioned earlier that we don't have to rely on **grep** to pull out the relevant lines for us. The **string** module has a lot of useful functions we can use for this. Among them is the **startswith** function. For example:"
     ]
    },
    {
     "cell_type": "code",
     "collapsed": false,
     "input": [
      "lines = \"\"\"\\\n",
      "                 ----------------------------------------\n",
      "                 |  WALL  |       0.45   |     443.61   |\n",
      "                 ----------------------------------------\n",
      "\n",
      "@ Step       Energy      Delta E   Gmax     Grms     Xrms     Xmax   Walltime\n",
      "@ ---- ---------------- -------- -------- -------- -------- -------- --------\n",
      "@    0   -6095.12544083  0.0D+00  0.03686  0.00936  0.00000  0.00000   1391.5\n",
      "                                                       ok       ok\n",
      "\n",
      "\n",
      "\n",
      "                                Z-matrix (autoz)\n",
      "                                --------\n",
      "\"\"\".splitlines()\n",
      "\n",
      "for line in lines:\n",
      "    if line.startswith('@'):\n",
      "        print line\n",
      "        "
     ],
     "language": "python",
     "metadata": {},
     "outputs": []
    },
    {
     "cell_type": "markdown",
     "metadata": {},
     "source": [
      "and we've successfully grabbed all of the lines that begin with the @ symbol."
     ]
    },
    {
     "cell_type": "markdown",
     "metadata": {},
     "source": [
      "The real value in a language like Python is that it makes it easy to take additional steps to analyze data in this fashion, which means you are thinking more about your data, and are more likely to see important patterns."
     ]
    },
    {
     "cell_type": "markdown",
     "metadata": {},
     "source": [
      "## More Sophisticated String Formatting and Processing\n",
      "Strings are a big deal in most modern languages, and hopefully the previous sections helped underscore how versatile Python's string processing techniques are. We will continue this topic in this chapter.\n",
      "\n",
      "We can print out lines in Python using the print command. "
     ]
    },
    {
     "cell_type": "code",
     "collapsed": false,
     "input": [
      "print \"I have 3 errands to run\""
     ],
     "language": "python",
     "metadata": {},
     "outputs": []
    },
    {
     "cell_type": "markdown",
     "metadata": {},
     "source": [
      "In IPython we don't even need the print command, since it will display the last expression not assigned to a variable."
     ]
    },
    {
     "cell_type": "code",
     "collapsed": false,
     "input": [
      "\"I have 3 errands to run\""
     ],
     "language": "python",
     "metadata": {},
     "outputs": []
    },
    {
     "cell_type": "markdown",
     "metadata": {},
     "source": [
      "**print** even converts some arguments to strings for us:"
     ]
    },
    {
     "cell_type": "code",
     "collapsed": false,
     "input": [
      "a,b,c = 1,2,3\n",
      "print \"The variables are \",1,2,3"
     ],
     "language": "python",
     "metadata": {},
     "outputs": []
    },
    {
     "cell_type": "markdown",
     "metadata": {},
     "source": [
      "As versatile as this is, you typically need more freedom over the data you print out. For example, what if we want to print a bunch of data to exactly 4 decimal places? We can do this using formatted strings.\n",
      "\n",
      "Formatted strings share a syntax with the C **printf** statement. We make a string that has some funny *format characters* in it, and then pass a bunch of variables into the string that fill out those characters in different ways.\n",
      "\n",
      "For example,"
     ]
    },
    {
     "cell_type": "code",
     "collapsed": false,
     "input": [
      "print \"Pi as a decimal = %d\" % pi\n",
      "print \"Pi as a float = %f\" % pi\n",
      "print \"Pi with 4 decimal places = %.4f\" % pi\n",
      "print \"Pi with overall fixed length of 10 spaces, with 6 decimal places = %10.6f\" % pi\n",
      "print \"Pi as in exponential format = %e\" % pi"
     ],
     "language": "python",
     "metadata": {},
     "outputs": []
    },
    {
     "cell_type": "markdown",
     "metadata": {},
     "source": [
      "We use a percent sign in two different ways here. First, the format character itself starts with a percent sign. %d or %i are for integers, %f is for floats, %e is for numbers in exponential formats. All of the numbers can take number immediately after the percent that specifies the total spaces used to print the number. Formats with a decimal can take an additional number after a dot . to specify the number of decimal places to print.\n",
      "\n",
      "The other use of the percent sign is after the string, to pipe a set of variables in. You can pass in multiple variables (if your formatting string supports it) by putting a tuple after the percent. Thus,"
     ]
    },
    {
     "cell_type": "code",
     "collapsed": false,
     "input": [
      "print \"The variables specified earlier are %d, %d, and %d\" % (a,b,c)"
     ],
     "language": "python",
     "metadata": {},
     "outputs": []
    },
    {
     "cell_type": "markdown",
     "metadata": {},
     "source": [
      "This is a simple formatting structure that will satisfy most of your string formatting needs. More information on different format symbols is available in the [string formatting part of the standard docs](http://docs.python.org/release/2.5.2/lib/typesseq-strings.html).\n",
      "\n",
      "It's worth noting that more complicated string formatting methods are in development, but I prefer this system due to its simplicity and its similarity to C formatting strings.\n",
      "\n",
      "Recall we discussed multiline strings. We can put format characters in these as well, and fill them with the percent sign as before."
     ]
    },
    {
     "cell_type": "code",
     "collapsed": false,
     "input": [
      "form_letter = \"\"\"\\\n",
      "\n",
      "          %s\n",
      "\n",
      "Dear %s,\n",
      "\n",
      "We regret to inform you that your product did not\n",
      "ship today due to %s.\n",
      "\n",
      "We hope to remedy this as soon as possible.\n",
      "\n",
      "          From,\n",
      "          Your Supplier\n",
      "\"\"\"\n",
      "\n",
      "print form_letter % (\"July 1, 2013\",\"Valued Customer Bob\",\"alien attack\")"
     ],
     "language": "python",
     "metadata": {},
     "outputs": []
    },
    {
     "cell_type": "markdown",
     "metadata": {},
     "source": [
      "The problem with a long block of text like this is that it's often hard to keep track of what all of the variables are supposed to stand for. There's an alternate format where you can pass a dictionary into the formatted string, and give a little bit more information to the formatted string itself. This method looks like:"
     ]
    },
    {
     "cell_type": "code",
     "collapsed": false,
     "input": [
      "form_letter = \"\"\"\\\n",
      "\n",
      "          %(date)s\n",
      "\n",
      "Dear %(customer)s,\n",
      "\n",
      "We regret to inform you that your product did not\n",
      "ship today due to %(lame_excuse)s.\n",
      "\n",
      "We hope to remedy this as soon as possible.\n",
      "\n",
      "          From,\n",
      "          Your Supplier\n",
      "\"\"\"\n",
      "\n",
      "print form_letter % {\"date\" : \"July 1, 2013\",\"customer\":\"Valued Customer Bob\",\"lame_excuse\":\"alien attack\"}"
     ],
     "language": "python",
     "metadata": {},
     "outputs": []
    },
    {
     "cell_type": "markdown",
     "metadata": {},
     "source": [
      "By providing a little bit more information, you're less likely to make mistakes, like referring to your customer as \"alien attack\".\n",
      "\n",
      "As a scientist, you're less likely to be sending bulk mailings to a bunch of customers. But these are great methods for generating and submitting lots of similar runs, say scanning a bunch of different structures to find the optimal configuration for something.\n",
      "\n",
      "For example, you can use the following template for NWChem input files:"
     ]
    },
    {
     "cell_type": "code",
     "collapsed": false,
     "input": [
      "nwchem_format = \"\"\"\n",
      "start %(jobname)s\n",
      "\n",
      "title \"%(thetitle)s\"\n",
      "charge %(charge)d\n",
      "\n",
      "geometry units angstroms print xyz autosym\n",
      "%(geometry)s\n",
      "end\n",
      "\n",
      "basis\n",
      "  * library 6-31G**\n",
      "end\n",
      "\n",
      "dft\n",
      "  xc %(dft_functional)s\n",
      "  mult %(multiplicity)d\n",
      "end\n",
      "\n",
      "task dft %(jobtype)s\n",
      "\"\"\""
     ],
     "language": "python",
     "metadata": {},
     "outputs": []
    },
    {
     "cell_type": "markdown",
     "metadata": {},
     "source": [
      "If you want to submit a sequence of runs to a computer somewhere, it's pretty easy to put together a little script, maybe even with some more string formatting in it:"
     ]
    },
    {
     "cell_type": "code",
     "collapsed": false,
     "input": [
      "oxygen_xy_coords = [(0,0),(0,0.1),(0.1,0),(0.1,0.1)]\n",
      "charge = 0\n",
      "multiplicity = 1\n",
      "dft_functional = \"b3lyp\"\n",
      "jobtype = \"optimize\"\n",
      "\n",
      "geometry_template = \"\"\"\\\n",
      "  O    %f     %f      0.0\n",
      "  H    0.0    1.0     0.0\n",
      "  H    1.0    0.0     0.0\"\"\"\n",
      "\n",
      "for i,xy in enumerate(oxygen_xy_coords):\n",
      "    thetitle = \"Water run #%d\" % i\n",
      "    jobname = \"h2o-%d\" % i\n",
      "    geometry = geometry_template % xy\n",
      "    print \"---------\"\n",
      "    print nwchem_format % dict(thetitle=thetitle,charge=charge,jobname=jobname,jobtype=jobtype,\n",
      "                               geometry=geometry,dft_functional=dft_functional,multiplicity=multiplicity)"
     ],
     "language": "python",
     "metadata": {},
     "outputs": []
    },
    {
     "cell_type": "markdown",
     "metadata": {},
     "source": [
      "This is a very bad geometry for a water molecule, and it would be silly to run so many geometry optimizations of structures that are guaranteed to converge to the same single geometry, but you get the idea of how you can run vast numbers of simulations with a technique like this.\n",
      "\n",
      "We used the **enumerate** function to loop over both the indices and the items of a sequence, which is valuable when you want a clean way of getting both. **enumerate** is roughly equivalent to:"
     ]
    },
    {
     "cell_type": "code",
     "collapsed": false,
     "input": [
      "def my_enumerate(seq):\n",
      "    l = []\n",
      "    for i in range(len(seq)):\n",
      "        l.append((i,seq[i]))\n",
      "    return l\n",
      "my_enumerate(oxygen_xy_coords)"
     ],
     "language": "python",
     "metadata": {},
     "outputs": []
    },
    {
     "cell_type": "markdown",
     "metadata": {},
     "source": [
      "Although enumerate uses **generators** (see below) so that it doesn't have to create a big list, which makes it faster for really long sequenes."
     ]
    },
    {
     "cell_type": "markdown",
     "metadata": {},
     "source": [
      "## Optional arguments\n",
      "You will recall that the **linspace** function can take either two arguments (for the starting and ending points):"
     ]
    },
    {
     "cell_type": "code",
     "collapsed": false,
     "input": [
      "linspace(0,1)"
     ],
     "language": "python",
     "metadata": {},
     "outputs": []
    },
    {
     "cell_type": "markdown",
     "metadata": {},
     "source": [
      "or it can take three arguments, for the starting point, the ending point, and the number of points:"
     ]
    },
    {
     "cell_type": "code",
     "collapsed": false,
     "input": [
      "linspace(0,1,5)"
     ],
     "language": "python",
     "metadata": {},
     "outputs": []
    },
    {
     "cell_type": "markdown",
     "metadata": {},
     "source": [
      "You can also pass in keywords to exclude the endpoint:"
     ]
    },
    {
     "cell_type": "code",
     "collapsed": false,
     "input": [
      "linspace(0,1,5,endpoint=False)"
     ],
     "language": "python",
     "metadata": {},
     "outputs": []
    },
    {
     "cell_type": "markdown",
     "metadata": {},
     "source": [
      "Right now, we only know how to specify functions that have a fixed number of arguments. We'll learn how to do the more general cases here.\n",
      "\n",
      "If we're defining a simple version of linspace, we would start with:"
     ]
    },
    {
     "cell_type": "code",
     "collapsed": false,
     "input": [
      "def my_linspace(start,end):\n",
      "    npoints = 50\n",
      "    v = []\n",
      "    d = (end-start)/float(npoints-1)\n",
      "    for i in range(npoints):\n",
      "        v.append(start + i*d)\n",
      "    return v\n",
      "my_linspace(0,1)"
     ],
     "language": "python",
     "metadata": {},
     "outputs": []
    },
    {
     "cell_type": "markdown",
     "metadata": {},
     "source": [
      "We can add an optional argument by specifying a default value in the argument list:"
     ]
    },
    {
     "cell_type": "code",
     "collapsed": false,
     "input": [
      "def my_linspace(start,end,npoints = 50):\n",
      "    v = []\n",
      "    d = (end-start)/float(npoints-1)\n",
      "    for i in range(npoints):\n",
      "        v.append(start + i*d)\n",
      "    return v"
     ],
     "language": "python",
     "metadata": {},
     "outputs": []
    },
    {
     "cell_type": "markdown",
     "metadata": {},
     "source": [
      "This gives exactly the same result if we don't specify anything:"
     ]
    },
    {
     "cell_type": "code",
     "collapsed": false,
     "input": [
      "my_linspace(0,1)"
     ],
     "language": "python",
     "metadata": {},
     "outputs": []
    },
    {
     "cell_type": "markdown",
     "metadata": {},
     "source": [
      "But also let's us override the default value with a third argument:"
     ]
    },
    {
     "cell_type": "code",
     "collapsed": false,
     "input": [
      "my_linspace(0,1,5)"
     ],
     "language": "python",
     "metadata": {},
     "outputs": []
    },
    {
     "cell_type": "markdown",
     "metadata": {},
     "source": [
      "We can add arbitrary keyword arguments to the function definition by putting a keyword argument \\*\\*kwargs handle in:"
     ]
    },
    {
     "cell_type": "code",
     "collapsed": false,
     "input": [
      "def my_linspace(start,end,npoints=50,**kwargs):\n",
      "    endpoint = kwargs.get('endpoint',True)\n",
      "    v = []\n",
      "    if endpoint:\n",
      "        d = (end-start)/float(npoints-1)\n",
      "    else:\n",
      "        d = (end-start)/float(npoints)\n",
      "    for i in range(npoints):\n",
      "        v.append(start + i*d)\n",
      "    return v\n",
      "my_linspace(0,1,5,endpoint=False)"
     ],
     "language": "python",
     "metadata": {},
     "outputs": []
    },
    {
     "cell_type": "markdown",
     "metadata": {},
     "source": [
      "What the keyword argument construction does is to take any additional keyword arguments (i.e. arguments specified by name, like \"endpoint=False\"), and stick them into a dictionary called \"kwargs\" (you can call it anything you like, but it has to be preceded by two stars). You can then grab items out of the dictionary using the **get** command, which also lets you specify a default value. I realize it takes a little getting used to, but it is a common construction in Python code, and you should be able to recognize it.\n",
      "\n",
      "There's an analogous \\*args that dumps any additional arguments into a list called \"args\". Think about the **range** function: it can take one (the endpoint), two (starting and ending points), or three (starting, ending, and step) arguments. How would we define this?"
     ]
    },
    {
     "cell_type": "code",
     "collapsed": false,
     "input": [
      "def my_range(*args):\n",
      "    start = 0\n",
      "    step = 1\n",
      "    if len(args) == 1:\n",
      "        end = args[0]\n",
      "    elif len(args) == 2:\n",
      "        start,end = args\n",
      "    elif len(args) == 3:\n",
      "        start,end,step = args\n",
      "    else:\n",
      "        raise Exception(\"Unable to parse arguments\")\n",
      "    v = []\n",
      "    value = start\n",
      "    while True:\n",
      "        v.append(value)\n",
      "        value += step\n",
      "        if value > end: break\n",
      "    return v"
     ],
     "language": "python",
     "metadata": {},
     "outputs": []
    },
    {
     "cell_type": "markdown",
     "metadata": {},
     "source": [
      "Note that we have defined a few new things you haven't seen before: a **break** statement, that allows us to exit a for loop if some conditions are met, and an exception statement, that causes the interpreter to exit with an error message. For example:"
     ]
    },
    {
     "cell_type": "code",
     "collapsed": false,
     "input": [
      "my_range()"
     ],
     "language": "python",
     "metadata": {},
     "outputs": []
    },
    {
     "cell_type": "markdown",
     "metadata": {},
     "source": [
      "## List Comprehensions and Generators\n",
      "List comprehensions are a streamlined way to make lists. They look something like a list definition, with some logic thrown in. For example:"
     ]
    },
    {
     "cell_type": "code",
     "collapsed": false,
     "input": [
      "evens1 = [2*i for i in range(10)]\n",
      "print evens1"
     ],
     "language": "python",
     "metadata": {},
     "outputs": []
    },
    {
     "cell_type": "markdown",
     "metadata": {},
     "source": [
      "You can also put some boolean testing into the construct:"
     ]
    },
    {
     "cell_type": "code",
     "collapsed": false,
     "input": [
      "odds = [i for i in range(20) if i%2==1]\n",
      "odds"
     ],
     "language": "python",
     "metadata": {},
     "outputs": []
    },
    {
     "cell_type": "markdown",
     "metadata": {},
     "source": [
      "Here i%2 is the remainder when i is divided by 2, so that i%2==1 is true if the number is odd. Even though this is a relative new addition to the language, it is now fairly common since it's so convenient."
     ]
    },
    {
     "cell_type": "markdown",
     "metadata": {},
     "source": [
      "**iterators** are a way of making virtual sequence objects. Consider if we had the nested loop structure:\n",
      "\n",
      "    for i in range(1000000):\n",
      "        for j in range(1000000):\n",
      "\n",
      "Inside the main loop, we make a list of 1,000,000 integers, just to loop over them one at a time. We don't need any of the additional things that a lists gives us, like slicing or random access, we just need to go through the numbers one at a time. And we're making 1,000,000 of them. \n",
      "\n",
      "**iterators** are a way around this. For example, the **xrange** function is the iterator version of range. This simply makes a counter that is looped through in sequence, so that the analogous loop structure would look like:\n",
      "\n",
      "    for i in xrange(1000000):\n",
      "        for j in xrange(1000000):\n",
      "\n",
      "Even though we've only added two characters, we've dramatically sped up the code, because we're not making 1,000,000 big lists.\n",
      "\n",
      "We can define our own iterators using the **yield** statement:"
     ]
    },
    {
     "cell_type": "code",
     "collapsed": false,
     "input": [
      "def evens_below(n):\n",
      "    for i in xrange(n):\n",
      "        if i%2 == 0:\n",
      "            yield i\n",
      "    return\n",
      "\n",
      "for i in evens_below(9):\n",
      "    print i"
     ],
     "language": "python",
     "metadata": {},
     "outputs": []
    },
    {
     "cell_type": "markdown",
     "metadata": {},
     "source": [
      "We can always turn an iterator into a list using the **list** command:"
     ]
    },
    {
     "cell_type": "code",
     "collapsed": false,
     "input": [
      "list(evens_below(9))"
     ],
     "language": "python",
     "metadata": {},
     "outputs": []
    },
    {
     "cell_type": "markdown",
     "metadata": {},
     "source": [
      "There's a special syntax called a **generator expression** that looks a lot like a list comprehension:"
     ]
    },
    {
     "cell_type": "code",
     "collapsed": false,
     "input": [
      "evens_gen = (i for i in xrange(9) if i%2==0)\n",
      "for i in evens_gen:\n",
      "    print i"
     ],
     "language": "python",
     "metadata": {},
     "outputs": []
    },
    {
     "cell_type": "markdown",
     "metadata": {},
     "source": [
      "## Factory Functions\n",
      "A factory function is a function that returns a function. They have the fancy name *lexical closure*, which makes you sound really intelligent in front of your CS friends. But, despite the arcane names, factory functions can play a very practical role.\n",
      "\n",
      "Suppose you want the Gaussian function centered at 0.5, with height 99 and width 1.0. You could write a general function."
     ]
    },
    {
     "cell_type": "code",
     "collapsed": false,
     "input": [
      "def gauss(x,A,a,x0):\n",
      "    return A*exp(-a*(x-x0)**2)"
     ],
     "language": "python",
     "metadata": {},
     "outputs": []
    },
    {
     "cell_type": "markdown",
     "metadata": {},
     "source": [
      "But what if you need a function with only one argument, like f(x) rather than f(x,y,z,...)? You can do this with Factory Functions:"
     ]
    },
    {
     "cell_type": "code",
     "collapsed": false,
     "input": [
      "def gauss_maker(A,a,x0):\n",
      "    def f(x):\n",
      "        return A*exp(-a*(x-x0)**2)\n",
      "    return f"
     ],
     "language": "python",
     "metadata": {},
     "outputs": []
    },
    {
     "cell_type": "code",
     "collapsed": false,
     "input": [
      "x = linspace(0,1)\n",
      "g = gauss_maker(99.0,1.0,0.5)\n",
      "plot(x,g(x))"
     ],
     "language": "python",
     "metadata": {},
     "outputs": []
    },
    {
     "cell_type": "markdown",
     "metadata": {},
     "source": [
      "Everything in Python is an object, including functions. This means that functions can be returned by other functions. (They can also be passed into other functions, which is also useful, but a topic for another discussion.) In the **gauss_maker** example, the *g* function that is output \"remembers\" the A, a, x0 values it was constructed with, since they're all stored in the local memory space (this is what the *lexical closure* really refers to) of that function.\n",
      "\n",
      "Factories are one of the more important of the [Software Design Patterns](http://en.wikipedia.org/wiki/Software_design_pattern), which are a set of guidelines to follow to make high-quality, portable, readable, stable software. It's beyond the scope of the current work to go more into either factories or design patterns, but I thought I would mention them for people interested in software design."
     ]
    },
    {
     "cell_type": "markdown",
     "metadata": {},
     "source": [
      "## Serialization: Save it for later\n",
      "*Serialization* refers to the process of outputting data (and occasionally functions) to a database or a regular file, for the purpose of using it later on. In the very early days of programming languages, this was normally done in regular text files. Python is excellent at text processing, and you probably already know enough to get started with this.\n",
      "\n",
      "When accessing large amounts of data became important, people developed database software based around the Structured Query Language (SQL) standard. I'm not going to cover SQL here, but, if you're interested, I recommend using the [sqlite3](http://docs.python.org/2/library/sqlite3.html) module in the Python standard library.\n",
      "\n",
      "As data interchange became important, the eXtensible Markup Language (XML) has emerged. XML makes data formats that are easy to write parsers for, greatly simplifying the ambiguity that sometimes arises in the process. Again, I'm not going to cover XML here, but if you're interested in learning more, look into [Element Trees](http://docs.python.org/2/library/xml.etree.elementtree.html), now part of the Python standard library.\n",
      "\n",
      "Python has a very general serialization format called **pickle** that can turn any Python object, even a function or a class, into a representation that can be written to a file and read in later. But, again, I'm not going to talk about this, since I rarely use it myself. Again, [the standard library documentation for pickle](http://docs.python.org/2/library/pickle.html#module-cPickle) is the place to go.\n",
      "\n",
      "What I am going to talk about is a relatively recent format call [JavaScript Object Notation](http://json.org/) (JSON) that has become very popular over the past few years. [There's a module in the standard library](http://docs.python.org/2/library/json.html) for encoding and decoding JSON formats. The reason I like JSON so much is that it looks almost like Python, so that, unlike the other options, you can look at your data and edit it, use it in another program, etc.\n",
      "\n",
      "Here's a little example:"
     ]
    },
    {
     "cell_type": "code",
     "collapsed": false,
     "input": [
      "# Data in a json format:\n",
      "json_data = \"\"\"\\\n",
      "{\n",
      "    \"a\": [1,2,3],\n",
      "    \"b\": [4,5,6],\n",
      "    \"greeting\" : \"Hello\"\n",
      "}\"\"\"\n",
      "import json\n",
      "json.loads(json_data)"
     ],
     "language": "python",
     "metadata": {},
     "outputs": []
    },
    {
     "cell_type": "markdown",
     "metadata": {},
     "source": [
      "Ignore the little u's before the strings, these just mean the strings are in UNICODE. Your data sits in something that looks like a Python dictionary, and in a single line of code, you can load it into a Python dictionary for use later.\n",
      "\n",
      "In the same way, you can, with a single line of code, put a bunch of variables into a dictionary, and then output to a file using json:"
     ]
    },
    {
     "cell_type": "code",
     "collapsed": false,
     "input": [
      "json.dumps({\"a\":[1,2,3],\"b\":[9,10,11],\"greeting\":\"Hola\"})"
     ],
     "language": "python",
     "metadata": {},
     "outputs": []
    },
    {
     "cell_type": "markdown",
     "metadata": {},
     "source": [
      "## Functional programming\n",
      "Functional programming is a very broad subject. The idea is to have a series of functions, each of which generates a new data structure from an input, without changing the input structure at all. By not modifying the input structure (something that is called not having *side effects*), many guarantees can be made about how independent the processes are, which can help parallelization and guarantees of program accuracy. There is a [Python Functional Programming HOWTO](http://docs.python.org/2/howto/functional.html) in the standard docs that goes into more details on functional programming. I just wanted to touch on a few of the most important ideas here.\n",
      "\n",
      "There is an **operator** module that has function versions of most of the Python operators. For example:"
     ]
    },
    {
     "cell_type": "code",
     "collapsed": false,
     "input": [
      "from operator import add, mul\n",
      "add(1,2)"
     ],
     "language": "python",
     "metadata": {},
     "outputs": []
    },
    {
     "cell_type": "code",
     "collapsed": false,
     "input": [
      "mul(3,4)"
     ],
     "language": "python",
     "metadata": {},
     "outputs": []
    },
    {
     "cell_type": "markdown",
     "metadata": {},
     "source": [
      "These are useful building blocks for functional programming."
     ]
    },
    {
     "cell_type": "markdown",
     "metadata": {},
     "source": [
      "The **lambda** operator allows us to build *anonymous functions*, which are simply functions that aren't defined by a normal **def** statement with a name. For example, a function that doubles the input is:"
     ]
    },
    {
     "cell_type": "code",
     "collapsed": false,
     "input": [
      "def doubler(x): return 2*x\n",
      "doubler(17)"
     ],
     "language": "python",
     "metadata": {},
     "outputs": []
    },
    {
     "cell_type": "markdown",
     "metadata": {},
     "source": [
      "We could also write this as:"
     ]
    },
    {
     "cell_type": "code",
     "collapsed": false,
     "input": [
      "lambda x: 2*x"
     ],
     "language": "python",
     "metadata": {},
     "outputs": []
    },
    {
     "cell_type": "markdown",
     "metadata": {},
     "source": [
      "And assign it to a function separately:"
     ]
    },
    {
     "cell_type": "code",
     "collapsed": false,
     "input": [
      "another_doubler = lambda x: 2*x\n",
      "another_doubler(19)"
     ],
     "language": "python",
     "metadata": {},
     "outputs": []
    },
    {
     "cell_type": "markdown",
     "metadata": {},
     "source": [
      "**lambda** is particularly convenient (as we'll see below) in passing simple functions as arguments to other functions."
     ]
    },
    {
     "cell_type": "markdown",
     "metadata": {},
     "source": [
      "**map** is a way to repeatedly apply a function to a list:"
     ]
    },
    {
     "cell_type": "code",
     "collapsed": false,
     "input": [
      "map(float,'1 2 3 4 5'.split())"
     ],
     "language": "python",
     "metadata": {},
     "outputs": []
    },
    {
     "cell_type": "markdown",
     "metadata": {},
     "source": [
      "**reduce** is a way to repeatedly apply a function to the first two items of the list. There already is a **sum** function in Python that is a reduction:"
     ]
    },
    {
     "cell_type": "code",
     "collapsed": false,
     "input": [
      "sum([1,2,3,4,5])"
     ],
     "language": "python",
     "metadata": {},
     "outputs": []
    },
    {
     "cell_type": "markdown",
     "metadata": {},
     "source": [
      "We can use **reduce** to define an analogous **prod** function:"
     ]
    },
    {
     "cell_type": "code",
     "collapsed": false,
     "input": [
      "def prod(l): return reduce(mul,l)\n",
      "prod([1,2,3,4,5])"
     ],
     "language": "python",
     "metadata": {},
     "outputs": []
    },
    {
     "cell_type": "markdown",
     "metadata": {},
     "source": [
      "## Object Oriented Programming"
     ]
    },
    {
     "cell_type": "markdown",
     "metadata": {},
     "source": [
      "We've seen a lot of examples of **objects** in Python. We create a string object with quote marks:"
     ]
    },
    {
     "cell_type": "code",
     "collapsed": false,
     "input": [
      "mystring = \"Hi there\""
     ],
     "language": "python",
     "metadata": {},
     "outputs": []
    },
    {
     "cell_type": "markdown",
     "metadata": {},
     "source": [
      "and we have a bunch of methods we can use on the object:"
     ]
    },
    {
     "cell_type": "code",
     "collapsed": false,
     "input": [
      "mystring.split()"
     ],
     "language": "python",
     "metadata": {},
     "outputs": []
    },
    {
     "cell_type": "code",
     "collapsed": false,
     "input": [
      "mystring.startswith('Hi')"
     ],
     "language": "python",
     "metadata": {},
     "outputs": []
    },
    {
     "cell_type": "code",
     "collapsed": false,
     "input": [
      "len(mystring)"
     ],
     "language": "python",
     "metadata": {},
     "outputs": []
    },
    {
     "cell_type": "markdown",
     "metadata": {},
     "source": [
      "Object oriented programming simply gives you the tools to define objects and methods for yourself. It's useful anytime you want to keep some data (like the characters in the string) tightly coupled to the functions that act on the data (length, split, startswith, etc.).\n",
      "\n",
      "As an example, we're going to bundle the functions we did to make the 1d harmonic oscillator eigenfunctions with arbitrary potentials, so we can pass in a function defining that potential, some additional specifications, and get out something that can plot the orbitals, as well as do other things with them, if desired."
     ]
    },
    {
     "cell_type": "code",
     "collapsed": false,
     "input": [
      "class Schrod1d:\n",
      "    \"\"\"\\\n",
      "    Schrod1d: Solver for the one-dimensional Schrodinger equation.\n",
      "    \"\"\"\n",
      "    def __init__(self,V,start=0,end=1,npts=50,**kwargs):\n",
      "        m = kwargs.get('m',1.0)\n",
      "        self.x = linspace(start,end,npts)\n",
      "        self.Vx = V(self.x)\n",
      "        self.H = (-0.5/m)*self.laplacian() + diag(self.Vx)\n",
      "        return\n",
      "    \n",
      "    def plot(self,*args,**kwargs):\n",
      "        titlestring = kwargs.get('titlestring',\"Eigenfunctions of the 1d Potential\")\n",
      "        xstring = kwargs.get('xstring',\"Displacement (bohr)\")\n",
      "        ystring = kwargs.get('ystring',\"Energy (hartree)\")\n",
      "        if not args:\n",
      "            args = [3]\n",
      "        x = self.x\n",
      "        E,U = eigh(self.H)\n",
      "        h = x[1]-x[0]\n",
      "\n",
      "        # Plot the Potential\n",
      "        plot(x,self.Vx,color='k')\n",
      "\n",
      "        for i in range(*args):\n",
      "            # For each of the first few solutions, plot the energy level:\n",
      "            axhline(y=E[i],color='k',ls=\":\")\n",
      "            # as well as the eigenfunction, displaced by the energy level so they don't\n",
      "            # all pile up on each other:\n",
      "            plot(x,U[:,i]/sqrt(h)+E[i])\n",
      "        title(titlestring)\n",
      "        xlabel(xstring)\n",
      "        ylabel(ystring) \n",
      "        return\n",
      "        \n",
      "    def laplacian(self):\n",
      "        x = self.x\n",
      "        h = x[1]-x[0] # assume uniformly spaced points\n",
      "        n = len(x)\n",
      "        M = -2*identity(n,'d')\n",
      "        for i in range(1,n):\n",
      "            M[i,i-1] = M[i-1,i] = 1\n",
      "        return M/h**2"
     ],
     "language": "python",
     "metadata": {},
     "outputs": []
    },
    {
     "cell_type": "markdown",
     "metadata": {},
     "source": [
      "The **__init__()** function specifies what operations go on when the object is created. The **self** argument is the object itself, and we don't pass it in. The only required argument is the function that defines the QM potential. We can also specify additional arguments that define the numerical grid that we're going to use for the calculation.\n",
      "\n",
      "For example, to do an infinite square well potential, we have a function that is 0 everywhere. We don't have to specify the barriers, since we'll only define the potential in the well, which means that it can't be defined anywhere else."
     ]
    },
    {
     "cell_type": "code",
     "collapsed": false,
     "input": [
      "square_well = Schrod1d(lambda x: 0*x,m=10)\n",
      "square_well.plot(4,titlestring=\"Square Well Potential\")"
     ],
     "language": "python",
     "metadata": {},
     "outputs": []
    },
    {
     "cell_type": "markdown",
     "metadata": {},
     "source": [
      "We can similarly redefine the Harmonic Oscillator potential."
     ]
    },
    {
     "cell_type": "code",
     "collapsed": false,
     "input": [
      "ho = Schrod1d(lambda x: x**2,start=-3,end=3)\n",
      "ho.plot(6,titlestring=\"Harmonic Oscillator\")"
     ],
     "language": "python",
     "metadata": {},
     "outputs": []
    },
    {
     "cell_type": "markdown",
     "metadata": {},
     "source": [
      "Let's define a finite well potential:"
     ]
    },
    {
     "cell_type": "code",
     "collapsed": false,
     "input": [
      "def finite_well(x,V_left=1,V_well=0,V_right=1,d_left=10,d_well=10,d_right=10):\n",
      "    V = zeros(x.size,'d')\n",
      "    for i in range(x.size):\n",
      "        if x[i] < d_left: \n",
      "            V[i] = V_left\n",
      "        elif x[i] > (d_left+d_well):\n",
      "            V[i] = V_right\n",
      "        else:\n",
      "            V[i] = V_well\n",
      "    return V\n",
      "        \n",
      "fw = Schrod1d(finite_well,start=0,end=30,npts=100)\n",
      "fw.plot()"
     ],
     "language": "python",
     "metadata": {},
     "outputs": []
    },
    {
     "cell_type": "markdown",
     "metadata": {},
     "source": [
      "A triangular well:"
     ]
    },
    {
     "cell_type": "code",
     "collapsed": false,
     "input": [
      "def triangular(x,F=30): return F*x\n",
      "\n",
      "tw = Schrod1d(triangular,m=10)\n",
      "tw.plot()"
     ],
     "language": "python",
     "metadata": {},
     "outputs": []
    },
    {
     "cell_type": "markdown",
     "metadata": {},
     "source": [
      "Or we can combine the two, making something like a semiconductor quantum well with a top gate:"
     ]
    },
    {
     "cell_type": "code",
     "collapsed": false,
     "input": [
      "def tri_finite(x): return finite_well(x)+triangular(x,F=0.025)\n",
      "\n",
      "tfw = Schrod1d(tri_finite,start=0,end=30,npts=100)\n",
      "tfw.plot()"
     ],
     "language": "python",
     "metadata": {},
     "outputs": []
    },
    {
     "cell_type": "markdown",
     "metadata": {},
     "source": [
      "There's a lot of philosophy behind object oriented programming. Since I'm trying to focus on just the basics here, I won't go into them, but the internet is full of lots of resources on OO programming and theory. The best of this is contained in the [Design Patterns](http://en.wikipedia.org/wiki/Design_Patterns_(book)) book, which I highly recommend."
     ]
    },
    {
     "cell_type": "markdown",
     "metadata": {},
     "source": [
      "# IV. Speeding Python: Timeit, Profiling, Cython, SWIG, and PyPy\n",
      "\n",
      "The first rule of speeding up your code is not to do it at all. As Donald Knuth said:\n",
      "\n",
      "> \"We should forget about small efficiencies, say about 97% of the time: premature optimization is the root of all evil.\"\n",
      "\n",
      "The second rule of speeding up your code is to only do it if you really think you need to do it. Python has two tools to help with this process: a timing program called **timeit**, and a very good code profiler. We will discuss both of these tools in this section, as well as techniques to use to speed up your code once you know it's too slow.\n",
      "\n",
      "## Timeit\n",
      "**timeit** helps determine which of two similar routines is faster. Recall that some time ago we wrote a factorial routine, but also pointed out that Python had its own routine built into the math module. Is there any difference in the speed of the two? **timeit** helps us determine this. For example, **timeit** tells how long each method takes:"
     ]
    },
    {
     "cell_type": "code",
     "collapsed": false,
     "input": [
      "%timeit factorial(20)"
     ],
     "language": "python",
     "metadata": {},
     "outputs": []
    },
    {
     "cell_type": "markdown",
     "metadata": {},
     "source": [
      "The little % sign that we have in front of the timeit call is an example of an IPython magic function, which we don't have time to go into here, but it's just some little extra mojo that IPython adds to the functions to make it run better in the IPython environment. You can read more about it in the [IPython tutorial](http://ipython.org/ipython-doc/dev/interactive/tutorial.html).\n",
      "\n",
      "In any case, the timeit function runs 3 loops, and tells us that it took on the average of 583 ns to compute 20!. In contrast:"
     ]
    },
    {
     "cell_type": "code",
     "collapsed": false,
     "input": [
      "%timeit fact(20)"
     ],
     "language": "python",
     "metadata": {},
     "outputs": []
    },
    {
     "cell_type": "markdown",
     "metadata": {},
     "source": [
      "the factorial function we wrote is about a factor of 10 slower. This is because the built-in factorial function is written in C code and called from Python, and the version we wrote is written in plain old Python. A Python program has a lot of stuff in it that make it nice to interact with, but all that friendliness slows down the code. In contrast, the C code is less friendly but more efficient. If you want speed with as little effort as possible, write your code in an easy to program language like Python, but dump the slow parts into a faster language like C, and call it from Python. We'll go through some tricks to do this in this section."
     ]
    },
    {
     "cell_type": "markdown",
     "metadata": {},
     "source": [
      "## Profiling"
     ]
    },
    {
     "cell_type": "markdown",
     "metadata": {},
     "source": [
      "Profiling complements what **timeit** does by splitting the overall timing into the time spent in each function. It can give us a better understanding of what our program is really spending its time on.\n",
      "\n",
      "Suppose we want to create a list of even numbers. Our first effort yields this:"
     ]
    },
    {
     "cell_type": "code",
     "collapsed": false,
     "input": [
      "def evens(n):\n",
      "    \"Return a list of even numbers below n\"\n",
      "    l = []\n",
      "    for x in range(n):\n",
      "        if x % 2 == 0:\n",
      "            l.append(x)\n",
      "    return l"
     ],
     "language": "python",
     "metadata": {},
     "outputs": []
    },
    {
     "cell_type": "markdown",
     "metadata": {},
     "source": [
      "Is this code fast enough? We find out by running the Python profiler on a longer run:"
     ]
    },
    {
     "cell_type": "code",
     "collapsed": false,
     "input": [
      "import cProfile\n",
      "cProfile.run('evens(100000)')"
     ],
     "language": "python",
     "metadata": {},
     "outputs": []
    },
    {
     "cell_type": "markdown",
     "metadata": {},
     "source": [
      "This looks okay, 0.05 seconds isn't a *huge* amount of time, but looking at the profiling shows that the **append** function is taking almost 20% of the time. Can we do better? Let's try a list comprehension."
     ]
    },
    {
     "cell_type": "code",
     "collapsed": false,
     "input": [
      "def evens2(n):\n",
      "    \"Return a list of even numbers below n\"\n",
      "    return [x for x in range(n) if x % 2 == 0]"
     ],
     "language": "python",
     "metadata": {},
     "outputs": []
    },
    {
     "cell_type": "code",
     "collapsed": false,
     "input": [
      "import cProfile\n",
      "cProfile.run('evens2(100000)')"
     ],
     "language": "python",
     "metadata": {},
     "outputs": []
    },
    {
     "cell_type": "markdown",
     "metadata": {},
     "source": [
      "By removing a small part of the code using a list comprehension, we've doubled the overall speed of the code! \n",
      "\n",
      "It seems like **range** is taking a long time, still. Can we get rid of it? We can, using the **xrange** generator:"
     ]
    },
    {
     "cell_type": "code",
     "collapsed": false,
     "input": [
      "def evens3(n):\n",
      "    \"Return a list of even numbers below n\"\n",
      "    return [x for x in xrange(n) if x % 2 == 0]"
     ],
     "language": "python",
     "metadata": {},
     "outputs": []
    },
    {
     "cell_type": "code",
     "collapsed": false,
     "input": [
      "import cProfile\n",
      "cProfile.run('evens3(100000)')"
     ],
     "language": "python",
     "metadata": {},
     "outputs": []
    },
    {
     "cell_type": "markdown",
     "metadata": {},
     "source": [
      "This is where profiling can be useful. Our code now runs 3x faster by making trivial changes. We wouldn't have thought to look in these places had we not had access to easy profiling. Imagine what you would find in more complicated programs."
     ]
    },
    {
     "cell_type": "markdown",
     "metadata": {},
     "source": [
      "## Other Ways to Speed Python\n",
      "When we compared the fact and factorial functions, above, we noted that C routines are often faster because they're more streamlined. Once we've determined that one routine is a bottleneck for the performance of a program, we can replace it with a faster version by writing it in C. This is called *extending* Python, and there's a [good section in the standard documents](http://docs.python.org/2/extending/extending.html). This can be a tedious process if you have many different routines to convert. Fortunately, there are several other options.\n",
      "\n",
      "[Swig](http://swig.org/) (the simplified wrapper and interface generator) is a method to generate binding not only for Python but also for Matlab, Perl, Ruby, and other scripting languages. Swig can scan the header files of a C project and generate Python binding for it. Using Swig is substantially easier than writing the routines in C.\n",
      "\n",
      "[Cython](http://www.cython.org/) is a C-extension language. You can start by compiling a Python routine into a shared object libraries that can be imported into faster versions of the routines. You can then add additional static typing and make other restrictions to further speed the code. Cython is generally easier than using Swig.\n",
      "\n",
      "[PyPy](http://pypy.org/) is the easiest way of obtaining fast code. PyPy compiles Python to a subset of the Python language called RPython that can be efficiently compiled and optimized. Over a wide range of tests, PyPy is [roughly 6 times faster than the standard Python Distribution](http://speed.pypy.org/)."
     ]
    },
    {
     "cell_type": "markdown",
     "metadata": {},
     "source": [
      "## Fun: Finding Primes\n",
      "\n",
      "[Project Euler](http://projecteuler.net) is a site where programming puzzles are posed that might have interested Euler. [Problem 7](http://projecteuler.net/problem=7) asks the question:\n",
      "\n",
      "> By listing the first six prime numbers: 2, 3, 5, 7, 11, and 13, we can see that the 6th prime is 13.\n",
      "> \n",
      "> What is the 10,001st prime number?\n",
      "\n",
      "To solve this we need a very long list of prime numbers. First we'll make a function that uses the Sieve of Erastothenes to generate all the primes less than n."
     ]
    },
    {
     "cell_type": "code",
     "collapsed": false,
     "input": [
      "def primes(n):\n",
      "    \"\"\"\\\n",
      "    From python cookbook, returns a list of prime numbers from 2 to < n\n",
      "\n",
      "    >>> primes(2)\n",
      "    [2]\n",
      "    >>> primes(10)\n",
      "    [2, 3, 5, 7]\n",
      "    \"\"\"\n",
      "    if n==2: return [2]\n",
      "    elif n<2: return []\n",
      "    s=range(3,n+1,2)\n",
      "    mroot = n ** 0.5\n",
      "    half=(n+1)/2-1\n",
      "    i=0\n",
      "    m=3\n",
      "    while m <= mroot:\n",
      "        if s[i]:\n",
      "            j=(m*m-3)/2\n",
      "            s[j]=0\n",
      "            while j<half:\n",
      "                s[j]=0\n",
      "                j+=m\n",
      "        i=i+1\n",
      "        m=2*i+3\n",
      "    return [2]+[x for x in s if x]"
     ],
     "language": "python",
     "metadata": {},
     "outputs": []
    },
    {
     "cell_type": "code",
     "collapsed": false,
     "input": [
      "number_to_try = 1000000\n",
      "list_of_primes = primes(number_to_try)\n",
      "print list_of_primes[10001]"
     ],
     "language": "python",
     "metadata": {},
     "outputs": []
    },
    {
     "cell_type": "markdown",
     "metadata": {},
     "source": [
      "You might think that Python is a bad choice for something like this, but, in terms of time, it really doesn't take long:"
     ]
    },
    {
     "cell_type": "code",
     "collapsed": false,
     "input": [
      "cProfile.run('primes(1000000)')"
     ],
     "language": "python",
     "metadata": {},
     "outputs": []
    },
    {
     "cell_type": "markdown",
     "metadata": {},
     "source": [
      "Only takes 1/4 of a second to generate a list of all the primes below 1,000,000. It would be nice if we could use the same trick to get rid of the **range** function, but we actually need it, since we're using the object like a list, rather than like a counter as before."
     ]
    },
    {
     "cell_type": "markdown",
     "metadata": {},
     "source": [
      "# VII. References\n",
      "\n",
      "## Learning Resources\n",
      "* [Official Python Documentation](http://docs.python.org/2.7), including\n",
      "    - [Python Tutorial](http://docs.python.org/2.7/tutorial)\n",
      "    - [Python Language Reference](http://docs.python.org/2.7/reference)\n",
      "* If you're interested in Python 3, the [Official Python 3 Docs are here](http://docs.python.org/3/).\n",
      "* [IPython tutorial](http://ipython.org/ipython-doc/dev/interactive/tutorial.html).\n",
      "* [Learn Python The Hard Way](http://learnpythonthehardway.org/book/)\n",
      "* [Dive Into Python](http://www.diveintopython.net/), in particular if you're interested in Python 3.\n",
      "* [Invent With Python](http://inventwithpython.com/), probably best for kids.\n",
      "* [Python Functional Programming HOWTO](http://docs.python.org/2/howto/functional.html)\n",
      "* [The Structure and Interpretation of Computer Programs](http://mitpress.mit.edu/sicp/full-text/book/book.html), written in Scheme, a Lisp dialect, but one of the best books on computer programming ever written.\n",
      "* [Generator Tricks for Systems Programmers](http://www.dabeaz.com/generators/) Beazley's slides on just what generators can do for you.\n",
      "* [Python Module of the Week](http://pymotw.com/2/contents.html) is a series going through in-depth analysis of the Python standard library in a very easy to understand way.\n",
      "\n",
      "## Badass IPython Notebooks\n",
      "* Rob Johansson's [excellent notebooks](http://jrjohansson.github.io/), including [Scientific Computing with Python](https://github.com/jrjohansson/scientific-python-lectures) and [Computational Quantum Physics with QuTiP](https://github.com/jrjohansson/qutip-lectures) lectures;\n",
      "* [XKCD style graphs in matplotlib](http://nbviewer.ipython.org/url/jakevdp.github.com/downloads/notebooks/XKCD_plots.ipynb);\n",
      "* [A collection of Notebooks for using IPython effectively](https://github.com/ipython/ipython/tree/master/examples/notebooks#a-collection-of-notebooks-for-using-ipython-effectively)\n",
      "* [A gallery of interesting IPython Notebooks](https://github.com/ipython/ipython/wiki/A-gallery-of-interesting-IPython-Notebooks)\n",
      "* [Cross-disciplinary computational analysis IPython Notebooks From Hadoop World 2012](https://github.com/invisibleroads/crosscompute-tutorials)\n",
      "* [Quantites](http://nbviewer.ipython.org/urls/raw.github.com/tbekolay/pyconca2012/master/QuantitiesTutorial.ipynb) Units in Python.\n",
      "    - [Another units module is here](http://www.southampton.ac.uk/~fangohr/blog/)\n",
      "\n",
      "## Packages for Scientists\n",
      "Important libraries\n",
      "\n",
      "* [Python](http://www.python.org) version 2.7;\n",
      "* [Numpy](http://www.numpy.org), the core numerical extensions for linear algebra and multidimensional arrays;\n",
      "* [Scipy](http://www.scipy.org), additional libraries for scientific programming;\n",
      "* [Matplotlib](http://matplotlib.sf.net), excellent plotting and graphing libraries;\n",
      "* [IPython](http://ipython.org), with the additional libraries required for the notebook interface.\n",
      "* [Sympy](http://sympy.org), symbolic math in Python\n",
      "* [Pandas](http://pandas.pydata.org/) library for big data in Python\n",
      "\n",
      "Other packages of interest\n",
      "\n",
      "* [PyQuante](http://pyquante.sf.net) Python Quantum Chemistry\n",
      "* [QuTiP](https://code.google.com/p/qutip/) Quantum Toolbox in Python\n",
      "* Konrad Hinsen's [Scientific Python](http://dirac.cnrs-orleans.fr/plone/software/scientificpython/) and [MMTK](http://dirac.cnrs-orleans.fr/MMTK/)\n",
      "* [Atomic Simulation Environment](https://wiki.fysik.dtu.dk/ase/)\n",
      "\n",
      "\n",
      "## Cool Stuff\n",
      "* [Moin Moin](http://moinmo.in/), a wiki written in Python\n",
      "* [Project Euler](http://projecteuler.net/), programming problems that would (?) have interested Euler. Python is one of the most commonly used languages there."
     ]
    },
    {
     "cell_type": "markdown",
     "metadata": {},
     "source": [
      "# VI. Acknowledgements\n",
      "Thanks to Alex and Tess for everything!\n",
      "\n",
      "Thanks to Barbara Muller and Tom Tarman for helpful suggestions."
     ]
    },
    {
     "cell_type": "markdown",
     "metadata": {},
     "source": [
      "This work is licensed under a [Creative Commons Attribution-ShareAlike 3.0 Unported License](http://creativecommons.org/licenses/by-sa/3.0/deed.en_US). The work is offered for free, with the hope that it will be useful. Please consider making a donation to the [John Hunter Memorial Fund](http://numfocus.org/johnhunter/).\n",
      "\n",
      "![CC BY SA](http://i.creativecommons.org/l/by-sa/3.0/88x31.png)\n",
      "\n",
      "![Sandia](http://upload.wikimedia.org/wikipedia/commons/thumb/3/32/Sandia_National_Laboratories_logo.svg/200px-Sandia_National_Laboratories_logo.svg.png)\n",
      "\n",
      "Sandia is a multiprogram laboratory operated by Sandia Corporation, a Lockheed Martin Company, for the United States Department of Energy's National Nuclear Security Administration under Contract DE-AC04-94AL85000.\n",
      "\n",
      "![DOE](http://upload.wikimedia.org/wikipedia/commons/thumb/b/bf/US-DeptOfEnergy-Seal.svg/200px-US-DeptOfEnergy-Seal.svg.png)"
     ]
    },
    {
     "cell_type": "code",
     "collapsed": false,
     "input": [],
     "language": "python",
     "metadata": {},
     "outputs": []
    }
   ],
   "metadata": {}
  }
 ]
}