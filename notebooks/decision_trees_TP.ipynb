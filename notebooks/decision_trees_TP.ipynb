{
 "cells": [
  {
   "cell_type": "markdown",
   "metadata": {},
   "source": [
    "# Arbres de Décision - Travaux Pratiques"
   ]
  },
  {
   "cell_type": "markdown",
   "metadata": {},
   "source": [
    "*Yann Chevaleyre - 2016 - INFO3/M2 - Institut Galilée*"
   ]
  },
  {
   "cell_type": "markdown",
   "metadata": {},
   "source": [
    "durant ce TP, nous utiliserons les modules python suivant:\n",
    "* [*scikit-learn*](scikit-learn.org/stable/index.html) pour l'apprentissage artificiel, en particulier les arbres de décision dont la doc est [ici](http://scikit-learn.org/0.12/modules/tree.html)\n",
    "* [*bokeh*](http://bokeh.pydata.org/en/latest/) pour la visualisation (tutoriels [ici](http://nbviewer.ipython.org/github/paddymul/bokeh_tutorial/blob/master/bokeh_tutorial.ipynb) et [ici](http://nbviewer.ipython.org/github/damianavila/bokeh_overview/blob/master/Bokeh%20Overview.ipynb))\n",
    "* [*numpy*](http://wiki.scipy.org/Tentative_NumPy_Tutorial) pour la manipulationd des tableaux de données\n",
    "\n",
    "Si vous avez besoin de rappels concernant Python, vous pouvez par exemple regarder ici:\n",
    "* http://learnxinyminutes.com/docs/python/\n",
    "* http://www.cogsci.rpi.edu/~destem/gamedev/python.pdf\n",
    "\n",
    "N'hésitez pas à regarder les docs !!!\n"
   ]
  },
  {
   "cell_type": "code",
   "execution_count": null,
   "metadata": {
    "collapsed": false
   },
   "outputs": [],
   "source": [
    "# scikit-learn, bokeh et numpy\n",
    "from sklearn import tree,ensemble,datasets\n",
    "from numpy import *\n",
    "from bokeh.plotting import figure,show,output_notebook\n",
    "output_notebook()\n",
    "\n",
    "# Modules utiles pour afficher l'arbre de décision sous forme de graphe\n",
    "from sklearn.externals.six import StringIO\n",
    "from IPython.display import Image\n",
    "import pydot"
   ]
  },
  {
   "cell_type": "markdown",
   "metadata": {},
   "source": [
    "Créeons un tableau de donnees 1D, avec une variable X allant de 1 à 100, et une variable y étant le log de x, avec en plus du bruit gaussien"
   ]
  },
  {
   "cell_type": "code",
   "execution_count": null,
   "metadata": {
    "collapsed": false
   },
   "outputs": [],
   "source": [
    "N = 200\n",
    "\n",
    "X = range(1,N+1)\n",
    "Y = log(X)\n",
    "Y += 0.5*random.normal(size=N)"
   ]
  },
  {
   "cell_type": "markdown",
   "metadata": {},
   "source": [
    "Affichons ces donnees"
   ]
  },
  {
   "cell_type": "code",
   "execution_count": null,
   "metadata": {
    "collapsed": false
   },
   "outputs": [],
   "source": [
    "p = figure()\n",
    "p.scatter(X,Y,color='grey')\n",
    "p.line(X,log(X),color='red')\n",
    "show(p)"
   ]
  },
  {
   "cell_type": "markdown",
   "metadata": {},
   "source": [
    "On veut trouver l'arbre de décision qui \"fit\" le mieux ces données\n",
    "Pour ce faire, il faut que X n'ait pas la forme d'un vecteur mais d'une matrice avec une colonne par variable\n",
    "\n",
    "**Exercice:** Transformez X en matrice (ce qui donnera une matrice composée d'une seule ligne), puis la transposer.\n",
    "Utiliser cela:\n",
    "* http://docs.scipy.org/doc/numpy/reference/generated/numpy.matrix.html\n",
    "* http://docs.scipy.org/doc/numpy/reference/generated/numpy.transpose.html"
   ]
  },
  {
   "cell_type": "code",
   "execution_count": null,
   "metadata": {
    "collapsed": false
   },
   "outputs": [],
   "source": []
  },
  {
   "cell_type": "code",
   "execution_count": null,
   "metadata": {
    "collapsed": false
   },
   "outputs": [],
   "source": [
    "clf = tree.DecisionTreeRegressor(min_samples_leaf=20)\n",
    "clf.fit(Xm,Y)\n"
   ]
  },
  {
   "cell_type": "markdown",
   "metadata": {},
   "source": [
    "scikit-learn possède une fonction *predict* qui s'applique entre autres aux arbres de décision\n",
    "\n",
    "Affichez l'aide de cette fonction en tapant *clf.predict?*\n",
    "\n",
    "Montrez la valeur renvoyez en x=1, x=4 et x=7. Que remarquez-vous ?"
   ]
  },
  {
   "cell_type": "code",
   "execution_count": null,
   "metadata": {
    "collapsed": false
   },
   "outputs": [],
   "source": [
    "p = figure(title=\"Predictions\")\n",
    "\n",
    "Z = [(clf.predict(i))[0] for i in X]\n",
    "\n",
    "p.scatter(X,Y,color='lightgrey')\n",
    "p.line(X,log(X),color='gray')\n",
    "p.line(X,Z,color='blue')\n",
    "\n",
    "show(p)"
   ]
  },
  {
   "cell_type": "markdown",
   "metadata": {},
   "source": [
    "On peut aussi afficher l'arbre de cette facon (à l'aide des packages pydot et graphviz)"
   ]
  },
  {
   "cell_type": "code",
   "execution_count": null,
   "metadata": {
    "collapsed": false
   },
   "outputs": [],
   "source": [
    "# Affichage de l'arbre de décision\n",
    "out = StringIO()\n",
    "tree.export_graphviz(clf, out_file=out)\n",
    "graph = pydot.graph_from_dot_data(out.getvalue())\n",
    "Image(graph.create_png())"
   ]
  },
  {
   "cell_type": "markdown",
   "metadata": {},
   "source": [
    "**Exercice:**\n",
    "* Faites varier les paramètres de l'arbre de décision pour qu'il soit plus ou moins précis, et affichez le.\n",
    "* Lancez l'apprentissage de forets aléatoires sur le même jeu de données (trouvez la fonction adéquate sur google). Faites varier les paramètres. Que constatez-vous ?"
   ]
  },
  {
   "cell_type": "markdown",
   "metadata": {},
   "source": [
    "### Arbres de Décision pour la classification du jeu de données IRIS"
   ]
  },
  {
   "cell_type": "code",
   "execution_count": null,
   "metadata": {
    "collapsed": false
   },
   "outputs": [],
   "source": [
    "iris = datasets.load_iris()"
   ]
  },
  {
   "cell_type": "markdown",
   "metadata": {},
   "source": [
    "load_iris() renvoie une classe composée de deux champs principaux: data et target.\n",
    "* Affichez le contenu de ces champs.\n",
    "* Trouvez et lancez l'algorithme d'apprentissage d'arbres de décision *DecisionTreeClassifier* sur ces données (attention, on est en classifiation, plus en régression).\n",
    "* Affichez la prédiction de l'arbre sur la première ligne de données.\n",
    "* Calculez le taux d'erreur de l'arbre"
   ]
  },
  {
   "cell_type": "markdown",
   "metadata": {},
   "source": [
    "Estimation de l'erreur reelle\n",
    "* Melangez l'ordre des exemples aleatoirement (par exemple en utilisant la fonction shuffle du package random)\n",
    "* divisez la base de donnees en deux parties X1 et X2, de meme taille\n",
    "* Generez un arbre de decision sur la premiere partie\n",
    "* calculez son taux d'erreur sur la seconde partie.\n",
    "* recommencez en faisant varier le rapport de la taille entre X1 et X2. Qu'observez-vous ?"
   ]
  },
  {
   "cell_type": "markdown",
   "metadata": {},
   "source": [
    "**Exercice:**\n",
    "Le programme suivant définit une fonction f(i,j) et affiche une image dont chaque pixel i,j a la couleur correspondant à f(i,j). Modifiez ce programme pour afficher la séparatrice de l'arbre de décision qu'on vient d'apprendre sur la base IRIS. Note: chaque exemple dans IRIS possède 4 variables. Ici, on va en choisir 2 à afficher, et mettre les autres à une valeur constante.\n",
    "Par exemple, on pourra mettre les deux premières variables à 6 et 3.2, et les deux dernieres seront i,j."
   ]
  },
  {
   "cell_type": "code",
   "execution_count": null,
   "metadata": {
    "collapsed": false
   },
   "outputs": [],
   "source": [
    "def f(i,j):\n",
    "    return math.sin(i)*math.cos(j)\n",
    "\n",
    "d = zeros((N,N))\n",
    "for i in range(N):\n",
    "    for j in range(N):\n",
    "        d[i,j] = f(i*1.0/N,j*1.0/N)\n",
    "\n",
    "p = figure(x_range=[0, 1], y_range=[0, 1])\n",
    "p.image(image=[d], x=[0], y=[0], dw=[1], dh=[1], palette=\"Spectral11\")\n",
    "\n",
    "show(p) "
   ]
  }
 ],
 "metadata": {
  "kernelspec": {
   "display_name": "Python 2",
   "language": "python",
   "name": "python2"
  },
  "language_info": {
   "codemirror_mode": {
    "name": "ipython",
    "version": 2
   },
   "file_extension": ".py",
   "mimetype": "text/x-python",
   "name": "python",
   "nbconvert_exporter": "python",
   "pygments_lexer": "ipython2",
   "version": "2.7.11"
  }
 },
 "nbformat": 4,
 "nbformat_minor": 0
}
