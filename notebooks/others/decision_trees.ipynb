{
 "cells": [
  {
   "cell_type": "markdown",
   "metadata": {},
   "source": [
    "# Arbres de Décision - Travaux Pratiques"
   ]
  },
  {
   "cell_type": "markdown",
   "metadata": {},
   "source": [
    "durant ce TP, nous utiliserons les modules python suivant:\n",
    "* [*scikit-learn*](scikit-learn.org/stable/index.html) pour l'apprentissage artificiel, en particulier les arbres de décision dont la doc est [ici](http://scikit-learn.org/0.12/modules/tree.html)\n",
    "* [*bokeh*](http://bokeh.pydata.org/en/latest/) pour la visualisation (tutoriels [ici](http://nbviewer.ipython.org/github/paddymul/bokeh_tutorial/blob/master/bokeh_tutorial.ipynb) et [ici](http://nbviewer.ipython.org/github/damianavila/bokeh_overview/blob/master/Bokeh%20Overview.ipynb))\n",
    "* [*numpy*](http://wiki.scipy.org/Tentative_NumPy_Tutorial) pour la manipulationd des tableaux de données\n",
    "\n",
    "Si vous avez besoin de rappels concernant Python, vous pouvez par exemple regarder ici:\n",
    "* http://learnxinyminutes.com/docs/python/\n",
    "* http://www.cogsci.rpi.edu/~destem/gamedev/python.pdf\n",
    "\n",
    "N'hésitez pas à regarder les docs !!!\n"
   ]
  },
  {
   "cell_type": "code",
   "execution_count": null,
   "metadata": {
    "collapsed": false
   },
   "outputs": [],
   "source": [
    "# scikit-learn, bokeh et numpy\n",
    "from sklearn import tree,ensemble,datasets\n",
    "from numpy import *\n",
    "from bokeh.plotting import figure,show,output_notebook\n",
    "output_notebook()\n",
    "\n",
    "# Modules utiles pour afficher l'arbre de décision sous forme de graphe\n",
    "from sklearn.externals.six import StringIO\n",
    "from IPython.display import Image\n",
    "import pydot"
   ]
  },
  {
   "cell_type": "markdown",
   "metadata": {},
   "source": [
    "Créeons un tableau de donnees 1D, avec une variable X allant de 1 à 100, et une variable y étant le log de x, avec en plus du bruit gaussien"
   ]
  },
  {
   "cell_type": "code",
   "execution_count": null,
   "metadata": {
    "collapsed": false
   },
   "outputs": [],
   "source": [
    "N = 200\n",
    "\n",
    "X = range(1,N+1)\n",
    "Y = log(X)\n",
    "Y += 0.5*random.normal(size=N)"
   ]
  },
  {
   "cell_type": "markdown",
   "metadata": {},
   "source": [
    "Affichons ces donnees"
   ]
  },
  {
   "cell_type": "code",
   "execution_count": null,
   "metadata": {
    "collapsed": false
   },
   "outputs": [],
   "source": [
    "p = figure()\n",
    "p.scatter(X,Y,color='grey')\n",
    "p.line(X,log(X),color='red')\n",
    "show(p)"
   ]
  },
  {
   "cell_type": "markdown",
   "metadata": {},
   "source": [
    "On veut trouver l'arbre de décision qui \"fit\" le mieux ces données\n",
    "Pour ce faire, il faut que X n'ait pas la forme d'un vecteur mais d'une matrice avec une colonne par variable\n",
    "\n",
    "**Exercice:** Transformez X en matrice (ce qui donnera une matrice composée d'une seule ligne), puis la transposer.\n",
    "Utiliser cela:\n",
    "* http://docs.scipy.org/doc/numpy/reference/generated/numpy.matrix.html\n",
    "* http://docs.scipy.org/doc/numpy/reference/generated/numpy.transpose.html"
   ]
  },
  {
   "cell_type": "code",
   "execution_count": null,
   "metadata": {
    "collapsed": false
   },
   "outputs": [],
   "source": [
    "Xm = transpose(matrix(X))\n",
    ";"
   ]
  },
  {
   "cell_type": "code",
   "execution_count": null,
   "metadata": {
    "collapsed": false
   },
   "outputs": [],
   "source": [
    "clf = tree.DecisionTreeRegressor(min_samples_leaf=20)\n",
    "clf.fit(Xm,Y)\n",
    "\n",
    "clf_forest= ensemble.RandomForestRegressor(n_estimators=100,min_samples_leaf=20)\n",
    "clf_forest.fit(Xm,Y)"
   ]
  },
  {
   "cell_type": "markdown",
   "metadata": {},
   "source": [
    "scikit-learn possède une fonction *predict*\n",
    "\n",
    "Affichez l'aide de cette fonction en tapant *predict?*\n",
    "\n",
    "Montrez la valeur renvoyez en x=1, x=4 et x=7. Que remarquez-vous ?"
   ]
  },
  {
   "cell_type": "code",
   "execution_count": null,
   "metadata": {
    "collapsed": false
   },
   "outputs": [],
   "source": [
    "p = figure(title=\"Predictions\")\n",
    "\n",
    "Z_forest = [(clf_forest.predict(i))[0] for i in X]\n",
    "Z        = [(clf.predict(i))[0]        for i in X]\n",
    "\n",
    "p.scatter(X,Y,color='lightgrey')\n",
    "p.line(X,log(X),color='gray')\n",
    "p.line(X,Z,color='blue')\n",
    "p.line(X,Z_forest,color='red')\n",
    "\n",
    "show(p)"
   ]
  },
  {
   "cell_type": "markdown",
   "metadata": {},
   "source": [
    "On peut aussi afficher l'arbre de cette facon (à l'aide des packages pydot et graphviz)"
   ]
  },
  {
   "cell_type": "code",
   "execution_count": null,
   "metadata": {
    "collapsed": false
   },
   "outputs": [],
   "source": [
    "# Affichage de l'arbre de décision\n",
    "out = StringIO()\n",
    "tree.export_graphviz(clf, out_file=out)\n",
    "graph = pydot.graph_from_dot_data(out.getvalue())\n",
    "Image(graph.create_png())"
   ]
  },
  {
   "cell_type": "code",
   "execution_count": null,
   "metadata": {
    "collapsed": false
   },
   "outputs": [],
   "source": [
    "iris = datasets.load_iris()"
   ]
  },
  {
   "cell_type": "code",
   "execution_count": null,
   "metadata": {
    "collapsed": false
   },
   "outputs": [],
   "source": [
    "dt = tree.DecisionTreeClassifier()\n",
    "dt.fit(iris.data,iris.target)"
   ]
  },
  {
   "cell_type": "code",
   "execution_count": null,
   "metadata": {
    "collapsed": false
   },
   "outputs": [],
   "source": [
    "dt.predict([iris.data[0]])"
   ]
  },
  {
   "cell_type": "raw",
   "metadata": {},
   "source": []
  },
  {
   "cell_type": "code",
   "execution_count": null,
   "metadata": {
    "collapsed": false
   },
   "outputs": [],
   "source": [
    "from StringIO import StringIO\n",
    "out = StringIO()\n",
    "out = tree.export_graphviz(clf, out_file=out)"
   ]
  },
  {
   "cell_type": "code",
   "execution_count": null,
   "metadata": {
    "collapsed": false
   },
   "outputs": [],
   "source": [
    "from sklearn.externals.six import StringIO\n",
    "from IPython.display import Image\n",
    "import pydot\n",
    "\n",
    "dot_data = StringIO()\n",
    "tree.export_graphviz(clf, out_file=dot_data)\n",
    "graph = pydot.graph_from_dot_data(dot_data.getvalue())\n",
    "Image(graph.create_png())"
   ]
  },
  {
   "cell_type": "code",
   "execution_count": null,
   "metadata": {
    "collapsed": false
   },
   "outputs": [],
   "source": [
    "import numpy as np\n",
    "\n",
    "from bokeh.plotting import *\n",
    "\n",
    "N = 1000\n",
    "d = np.zeros((N,N))\n",
    "\n",
    "def f(x,y):\n",
    "    return math.sin(x)*math.cos(y)\n",
    "\n",
    "for i in range(N):\n",
    "    for j in range(N):\n",
    "        d[i,j] = f(i*1.0/N,j*1.0/N)\n",
    "\n",
    "p = figure(x_range=[0, 1], y_range=[0, 1])\n",
    "p.image(image=[d], x=[0], y=[0], dw=[1], dh=[1], palette=\"Spectral11\")\n",
    "\n",
    "show(p) "
   ]
  },
  {
   "cell_type": "code",
   "execution_count": null,
   "metadata": {
    "collapsed": false
   },
   "outputs": [],
   "source": [
    "d = np.matrix?"
   ]
  },
  {
   "cell_type": "code",
   "execution_count": null,
   "metadata": {
    "collapsed": false
   },
   "outputs": [],
   "source": [
    "d = np.zeros?"
   ]
  },
  {
   "cell_type": "code",
   "execution_count": null,
   "metadata": {
    "collapsed": false
   },
   "outputs": [],
   "source": [
    "d = np.zeros((1000,1000))"
   ]
  },
  {
   "cell_type": "code",
   "execution_count": null,
   "metadata": {
    "collapsed": false
   },
   "outputs": [],
   "source": [
    "import math\n",
    "for i in range(1000):\n",
    "    for j in range(1000):\n",
    "        if 170 < math.sqrt(pow(i-500,2)+pow(j-500,2)) < 200:\n",
    "            d[i,j] = 1.0"
   ]
  },
  {
   "cell_type": "code",
   "execution_count": null,
   "metadata": {
    "collapsed": false
   },
   "outputs": [],
   "source": []
  },
  {
   "cell_type": "code",
   "execution_count": null,
   "metadata": {
    "collapsed": false
   },
   "outputs": [],
   "source": []
  }
 ],
 "metadata": {
  "kernelspec": {
   "display_name": "Python 2",
   "language": "python",
   "name": "python2"
  },
  "language_info": {
   "codemirror_mode": {
    "name": "ipython",
    "version": 2
   },
   "file_extension": ".py",
   "mimetype": "text/x-python",
   "name": "python",
   "nbconvert_exporter": "python",
   "pygments_lexer": "ipython2",
   "version": "2.7.11"
  }
 },
 "nbformat": 4,
 "nbformat_minor": 0
}
