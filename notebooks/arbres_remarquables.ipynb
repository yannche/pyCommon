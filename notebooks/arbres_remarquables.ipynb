{
 "cells": [
  {
   "cell_type": "markdown",
   "metadata": {},
   "source": [
    "# TP Arbres Remarquables\n",
    "http://opendata.paris.fr/explore/dataset/arbresremarquablesparis2011/?tab=table"
   ]
  },
  {
   "cell_type": "code",
   "execution_count": null,
   "metadata": {
    "collapsed": true
   },
   "outputs": [],
   "source": [
    "%matplotlib inline\n",
    "######################\n",
    "import pandas as pd\n",
    "import numpy as np\n",
    "import matplotlib.pyplot as plt\n",
    "from sklearn.neighbors import NearestNeighbors,KNeighborsRegressor\n",
    "from sklearn.preprocessing import scale\n",
    "from sklearn.cross_validation import cross_val_score\n",
    "from sklearn.utils import shuffle\n",
    "from sklearn.decomposition import PCA,RandomizedPCA\n",
    "from sklearn.linear_model import Ridge"
   ]
  },
  {
   "cell_type": "code",
   "execution_count": null,
   "metadata": {
    "collapsed": false
   },
   "outputs": [],
   "source": [
    "df = pd.read_csv('arbresremarquablesparis2011.csv',sep=';')"
   ]
  },
  {
   "cell_type": "markdown",
   "metadata": {},
   "source": [
    "Nombre de valeurs uniques par attribut"
   ]
  },
  {
   "cell_type": "code",
   "execution_count": null,
   "metadata": {
    "collapsed": false
   },
   "outputs": [],
   "source": [
    "for a in df:\n",
    "    print(a , len(df[a].unique()) )"
   ]
  },
  {
   "cell_type": "markdown",
   "metadata": {},
   "source": [
    "Combien y-a-t-il de valeurs differences a la variable 'VARIETE', et combien d'individus par valeur ?\n"
   ]
  },
  {
   "cell_type": "code",
   "execution_count": null,
   "metadata": {
    "collapsed": false
   },
   "outputs": [],
   "source": [
    "df['VARIETE'].value_counts()"
   ]
  },
  {
   "cell_type": "code",
   "execution_count": null,
   "metadata": {
    "collapsed": false
   },
   "outputs": [],
   "source": [
    "df[:3]"
   ]
  },
  {
   "cell_type": "markdown",
   "metadata": {},
   "source": [
    "## Transformer les coordonnes GPS en deux variables X et Y numeriques"
   ]
  },
  {
   "cell_type": "code",
   "execution_count": null,
   "metadata": {
    "collapsed": false
   },
   "outputs": [],
   "source": [
    "df['Geo point'][0]"
   ]
  },
  {
   "cell_type": "code",
   "execution_count": null,
   "metadata": {
    "collapsed": false
   },
   "outputs": [],
   "source": [
    "df['Geo point'][0].split(\",\")"
   ]
  },
  {
   "cell_type": "code",
   "execution_count": null,
   "metadata": {
    "collapsed": false
   },
   "outputs": [],
   "source": [
    "df['Geo point'][0].split(\",\")[0]"
   ]
  },
  {
   "cell_type": "code",
   "execution_count": null,
   "metadata": {
    "collapsed": false
   },
   "outputs": [],
   "source": [
    "df['X'] = [x.split(\",\")[0] for x in df['Geo point']]\n",
    "df['X'] = df['X'].astype(float)\n",
    "df['Y'] = [x.split(\",\")[1] for x in df['Geo point']]\n",
    "df['Y'] = df['Y'].astype(float)"
   ]
  },
  {
   "cell_type": "code",
   "execution_count": null,
   "metadata": {
    "collapsed": false
   },
   "outputs": [],
   "source": [
    "arr_nord = [1,2,3,4,8,9,10,11,12,16,17,18,19,20]\n",
    "df['ARR_NORD'] = [int(x in arr_nord) for x in df['ARRONDISSEMENT']]"
   ]
  },
  {
   "cell_type": "markdown",
   "metadata": {},
   "source": [
    "faire la meme chose pour y"
   ]
  },
  {
   "cell_type": "markdown",
   "metadata": {},
   "source": [
    "## Supprimer les colonnes valeurs manquantes"
   ]
  },
  {
   "cell_type": "code",
   "execution_count": null,
   "metadata": {
    "collapsed": false
   },
   "outputs": [],
   "source": [
    "df['CIRCONFERENCE'] = df['CIRCONFERENCE'].fillna(df['CIRCONFERENCE'].mean())"
   ]
  },
  {
   "cell_type": "markdown",
   "metadata": {},
   "source": [
    "## Convertir le tableau avec les bonnes colonnes en numpy array\n",
    "par exemple, on peut faire X = np.array(df[['X','Y']])\n",
    "récupérer dans y la hauteur de l'arbre"
   ]
  },
  {
   "cell_type": "code",
   "execution_count": null,
   "metadata": {
    "collapsed": false
   },
   "outputs": [],
   "source": [
    "df2 = df[['X','Y','ARR_NORD','CIRCONFERENCE','HAUTEUR']].dropna()\n",
    "X = np.array( df2[['X','Y','ARR_NORD','CIRCONFERENCE']] , dtype=np.float)\n",
    "y = np.array( df2['HAUTEUR'], dtype=np.float)\n",
    "X[:3],y[:3]\n",
    "attname = ['X','Y','ARR_NORD','CIRCONFERENCE']"
   ]
  },
  {
   "cell_type": "markdown",
   "metadata": {},
   "source": [
    "# Travail a faire (avec scikit-learn)\n",
    "\n",
    "* Lancez les algorithmes k-means et clustering hiérarchiques sur les données (bien choisies), et affichez le résultat\n",
    "* Utilisez la régression linéaire pour prédire la circonférence de l'arbre en fonction des autres attributs.\n",
    "* Utilisez la régression logistique pour prédire les genres/especes/familles de ces arbres\n",
    "* Comparez avec ce que donnerait les k-plus proches voisins.\n",
    "* validez vos résultats par validation-croisée"
   ]
  },
  {
   "cell_type": "code",
   "execution_count": null,
   "metadata": {
    "collapsed": true
   },
   "outputs": [],
   "source": []
  }
 ],
 "metadata": {
  "kernelspec": {
   "display_name": "Python [Root]",
   "language": "python",
   "name": "Python [Root]"
  },
  "language_info": {
   "codemirror_mode": {
    "name": "ipython",
    "version": 3
   },
   "file_extension": ".py",
   "mimetype": "text/x-python",
   "name": "python",
   "nbconvert_exporter": "python",
   "pygments_lexer": "ipython3",
   "version": "3.5.2"
  }
 },
 "nbformat": 4,
 "nbformat_minor": 0
}
