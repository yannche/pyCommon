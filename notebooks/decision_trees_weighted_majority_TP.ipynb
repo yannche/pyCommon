{
 "cells": [
  {
   "cell_type": "markdown",
   "metadata": {},
   "source": [
    "# Arbres de Décision - Weighted Majority - Travaux Pratiques"
   ]
  },
  {
   "cell_type": "markdown",
   "metadata": {},
   "source": [
    "durant ce TP, nous utiliserons les modules python suivant:\n",
    "* [*scikit-learn*](scikit-learn.org/stable/index.html) pour l'apprentissage artificiel, en particulier les arbres de décision dont la doc est [ici](http://scikit-learn.org/0.12/modules/tree.html)\n",
    "* [*numpy*](http://wiki.scipy.org/Tentative_NumPy_Tutorial) pour la manipulationd des tableaux de données\n",
    "\n",
    "Si vous avez besoin de rappels concernant Python, vous pouvez par exemple regarder ici:\n",
    "* http://learnxinyminutes.com/docs/python/\n",
    "* http://www.cogsci.rpi.edu/~destem/gamedev/python.pdf"
   ]
  },
  {
   "cell_type": "code",
   "execution_count": null,
   "metadata": {
    "collapsed": false
   },
   "outputs": [],
   "source": [
    "# scikit-learn, bokeh et numpy\n",
    "from sklearn import tree,ensemble\n",
    "import numpy as np\n",
    "\n",
    "# Modules utiles pour afficher l'arbre de décision sous forme de graphe\n",
    "from sklearn.externals.six import StringIO\n",
    "from IPython.display import Image\n",
    "import pydotplus\n",
    "\n",
    "# Affichage de l'arbre de décision\n",
    "def afficher_arbre(clf):\n",
    "    out = StringIO()\n",
    "    tree.export_graphviz(clf, out_file=out)\n",
    "    graph = pydotplus.graph_from_dot_data(out.getvalue())\n",
    "    Image(graph.create_png())"
   ]
  },
  {
   "cell_type": "markdown",
   "metadata": {},
   "source": [
    "### Chargement des données digits"
   ]
  },
  {
   "cell_type": "code",
   "execution_count": 22,
   "metadata": {
    "collapsed": false
   },
   "outputs": [],
   "source": [
    "D = datasets.load_digits()\n",
    "X,y = D.data,D.target"
   ]
  },
  {
   "cell_type": "markdown",
   "metadata": {},
   "source": [
    "* Avec la fonction train_test_split, divisez la base d'exemples en deux parties égales, nommées X_train,y_train et X_test,y_test\n",
    "http://scikit-learn.org/stable/modules/generated/sklearn.model_selection.train_test_split.html\n",
    "\n"
   ]
  },
  {
   "cell_type": "markdown",
   "metadata": {},
   "source": [
    "### Apprentissage d'arbres et de forets"
   ]
  },
  {
   "cell_type": "markdown",
   "metadata": {},
   "source": [
    "Le package sklearn.tree propose des algorithmes d’apprentissage d'arbres de décision (classification, régression). On a aussi la possibilité de visualiser les arbres obtenus avec la fonction *afficher_arbre*\n",
    "\n",
    "http://scikit-learn.org/stable/modules/tree.html\n",
    "\n",
    "Chaque algorithme d’apprentissage est paramétrable. L’objectif est d'abord de comparer les performances des arbres de décision et celles des forêts aléatoires. On utilisera les algorithmes DecisionTree-Classifier http://scikit-learn.org/stable/modules/generated/sklearn.tree.DecisionTreeClassifier.html et les forêts aléatoires http://scikit-learn.org/stable/modules/generated/sklearn.ensemble.RandomForestClassifier.html\n",
    "\n",
    "* Apprenez un arbre de décision et une forêt aléatoire sur les données X_train,y_train de digits\n",
    "\n",
    "L’algorithme implémenté actuellement ne réalise pas d’élagage, et par défaut, la construction de l’arbre est arrêtée lorsqu’un arbre parfait a été obtenu\n",
    "\n",
    "* Regarder et comprenez l'utilisation des paramètres criterion, max depth, min samples split et max features.\n",
    "\n",
    "* Sur le jeu de données digits, faire varier la profondeur maximum de 1 à 41 par pas de 5. Pour chacun de ces arbres, affichez l'arbre.\n",
    "* Affichez l'erreur sur X_train,y_train\n",
    "* Affichez l'erreur sur X_test,y_test (si-possible dans des graphiques)\n",
    "\n",
    "Qu’observe-t-on ?"
   ]
  },
  {
   "cell_type": "markdown",
   "metadata": {
    "collapsed": true
   },
   "source": [
    "### Apprentissage Online"
   ]
  },
  {
   "cell_type": "markdown",
   "metadata": {},
   "source": [
    "\n",
    "* Implémentez l'algorithme Weighted Majority sur les arbres de décision appris dans l'exercice précédent.\n",
    "Pour chaque exemple de la base de X_test,y_test, modifiez le poids des arbres selon leur performance. Affichez la courbe représentant le nombre d'erreur commise par Weighted Majority au fur et à mesure que les exemples lui sont fournis.\n",
    "\n"
   ]
  },
  {
   "cell_type": "code",
   "execution_count": null,
   "metadata": {
    "collapsed": true
   },
   "outputs": [],
   "source": []
  }
 ],
 "metadata": {
  "anaconda-cloud": {},
  "kernelspec": {
   "display_name": "Python [default]",
   "language": "python",
   "name": "python3"
  },
  "language_info": {
   "codemirror_mode": {
    "name": "ipython",
    "version": 3
   },
   "file_extension": ".py",
   "mimetype": "text/x-python",
   "name": "python",
   "nbconvert_exporter": "python",
   "pygments_lexer": "ipython3",
   "version": "3.5.2"
  }
 },
 "nbformat": 4,
 "nbformat_minor": 0
}
