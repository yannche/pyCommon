{
 "metadata": {
  "name": "",
  "signature": "sha256:44072b9cc6fdb9e774fd01a464c275a3de976acdf5c1e4b9bd3ee09d4f9bfd85"
 },
 "nbformat": 3,
 "nbformat_minor": 0,
 "worksheets": [
  {
   "cells": [
    {
     "cell_type": "heading",
     "level": 1,
     "metadata": {},
     "source": [
      "Arbres de D\u00e9cision - Travaux Pratiques"
     ]
    },
    {
     "cell_type": "markdown",
     "metadata": {},
     "source": [
      "durant ce TP, nous utiliserons les modules python suivant:\n",
      "* [*scikit-learn*](scikit-learn.org/stable/index.html) pour l'apprentissage artificiel, en particulier les arbres de d\u00e9cision dont la doc est [ici](http://scikit-learn.org/0.12/modules/tree.html)\n",
      "* [*bokeh*](http://bokeh.pydata.org/en/latest/) pour la visualisation (tutoriels [ici](http://nbviewer.ipython.org/github/paddymul/bokeh_tutorial/blob/master/bokeh_tutorial.ipynb) et [ici](http://nbviewer.ipython.org/github/damianavila/bokeh_overview/blob/master/Bokeh%20Overview.ipynb))\n",
      "* [*numpy*](http://wiki.scipy.org/Tentative_NumPy_Tutorial) pour la manipulationd des tableaux de donn\u00e9es\n",
      "\n",
      "Si vous avez besoin de rappels concernant Python, vous pouvez par exemple regarder ici:\n",
      "* http://learnxinyminutes.com/docs/python/\n",
      "* http://www.cogsci.rpi.edu/~destem/gamedev/python.pdf\n",
      "\n",
      "N'h\u00e9sitez pas \u00e0 regarder les docs !!!\n"
     ]
    },
    {
     "cell_type": "code",
     "collapsed": false,
     "input": [
      "# scikit-learn, bokeh et numpy\n",
      "from sklearn import tree,ensemble,datasets\n",
      "from numpy import *\n",
      "from bokeh.plotting import figure,line,show,output_notebook\n",
      "output_notebook()\n",
      "\n",
      "# Modules utiles pour afficher l'arbre de d\u00e9cision sous forme de graphe\n",
      "from sklearn.externals.six import StringIO\n",
      "from IPython.display import Image\n",
      "import pydot"
     ],
     "language": "python",
     "metadata": {},
     "outputs": []
    },
    {
     "cell_type": "markdown",
     "metadata": {},
     "source": [
      "Cr\u00e9eons un tableau de donnees 1D, avec une variable X allant de 1 \u00e0 100, et une variable y \u00e9tant le log de x, avec en plus du bruit gaussien"
     ]
    },
    {
     "cell_type": "code",
     "collapsed": false,
     "input": [
      "N = 200\n",
      "\n",
      "X = range(1,N+1)\n",
      "Y = log(X)\n",
      "Y += 0.5*random.normal(size=N)"
     ],
     "language": "python",
     "metadata": {},
     "outputs": []
    },
    {
     "cell_type": "markdown",
     "metadata": {},
     "source": [
      "Affichons ces donnees"
     ]
    },
    {
     "cell_type": "code",
     "collapsed": false,
     "input": [
      "p = figure()\n",
      "p.scatter(X,Y,color='grey')\n",
      "p.line(X,log(X),color='red')\n",
      "show()"
     ],
     "language": "python",
     "metadata": {},
     "outputs": []
    },
    {
     "cell_type": "markdown",
     "metadata": {},
     "source": [
      "On veut trouver l'arbre de d\u00e9cision qui \"fit\" le mieux ces donn\u00e9es\n",
      "Pour ce faire, il faut que X n'ait pas la forme d'un vecteur mais d'une matrice avec une colonne par variable\n",
      "\n",
      "**Exercice:** Transformez X en matrice (ce qui donnera une matrice compos\u00e9e d'une seule ligne), puis la transposer.\n",
      "Utiliser cela:\n",
      "* http://docs.scipy.org/doc/numpy/reference/generated/numpy.matrix.html\n",
      "* http://docs.scipy.org/doc/numpy/reference/generated/numpy.transpose.html"
     ]
    },
    {
     "cell_type": "code",
     "collapsed": false,
     "input": [
      "Xm = transpose(matrix(X))\n",
      ";"
     ],
     "language": "python",
     "metadata": {},
     "outputs": []
    },
    {
     "cell_type": "code",
     "collapsed": false,
     "input": [
      "clf = tree.DecisionTreeRegressor(min_samples_leaf=20)\n",
      "clf.fit(Xm,Y)\n",
      "\n",
      "clf_forest= ensemble.RandomForestRegressor(n_estimators=100,min_samples_leaf=20)\n",
      "clf_forest.fit(Xm,Y)"
     ],
     "language": "python",
     "metadata": {},
     "outputs": []
    },
    {
     "cell_type": "markdown",
     "metadata": {},
     "source": [
      "scikit-learn poss\u00e8de une fonction *predict*\n",
      "\n",
      "Affichez l'aide de cette fonction en tapant *predict?*\n",
      "\n",
      "Montrez la valeur renvoyez en x=1, x=4 et x=7. Que remarquez-vous ?"
     ]
    },
    {
     "cell_type": "code",
     "collapsed": false,
     "input": [
      "p = figure(title=\"Predictions\")\n",
      "\n",
      "Z_forest = [(clf_forest.predict(i))[0] for i in X]\n",
      "Z        = [(clf.predict(i))[0]        for i in X]\n",
      "\n",
      "p.scatter(X,Y,color='lightgrey')\n",
      "p.line(X,log(X),color='gray')\n",
      "p.line(X,Z,color='blue')\n",
      "p.line(X,Z_forest,color='red')\n",
      "\n",
      "show()"
     ],
     "language": "python",
     "metadata": {},
     "outputs": []
    },
    {
     "cell_type": "markdown",
     "metadata": {},
     "source": [
      "On peut aussi afficher l'arbre de cette facon (\u00e0 l'aide des packages pydot et graphviz)"
     ]
    },
    {
     "cell_type": "code",
     "collapsed": false,
     "input": [
      "# Affichage de l'arbre de d\u00e9cision\n",
      "out = StringIO()\n",
      "tree.export_graphviz(clf, out_file=out)\n",
      "graph = pydot.graph_from_dot_data(out.getvalue())\n",
      "Image(graph.create_png())"
     ],
     "language": "python",
     "metadata": {},
     "outputs": []
    },
    {
     "cell_type": "code",
     "collapsed": false,
     "input": [
      "iris = datasets.load_iris()"
     ],
     "language": "python",
     "metadata": {},
     "outputs": []
    },
    {
     "cell_type": "code",
     "collapsed": false,
     "input": [
      "dt = tree.DecisionTreeClassifier()\n",
      "dt.fit(iris.data,iris.target)"
     ],
     "language": "python",
     "metadata": {},
     "outputs": []
    },
    {
     "cell_type": "code",
     "collapsed": false,
     "input": [
      "dt.predict([iris.data[0]])"
     ],
     "language": "python",
     "metadata": {},
     "outputs": []
    },
    {
     "cell_type": "raw",
     "metadata": {},
     "source": []
    },
    {
     "cell_type": "code",
     "collapsed": false,
     "input": [
      "from StringIO import StringIO\n",
      "out = StringIO()\n",
      "out = tree.export_graphviz(clf, out_file=out)"
     ],
     "language": "python",
     "metadata": {},
     "outputs": []
    },
    {
     "cell_type": "code",
     "collapsed": false,
     "input": [
      "from sklearn.externals.six import StringIO\n",
      "from IPython.display import Image\n",
      "import pydot\n",
      "\n",
      "dot_data = StringIO()\n",
      "tree.export_graphviz(clf, out_file=dot_data)\n",
      "graph = pydot.graph_from_dot_data(dot_data.getvalue())\n",
      "Image(graph.create_png())"
     ],
     "language": "python",
     "metadata": {},
     "outputs": []
    },
    {
     "cell_type": "code",
     "collapsed": false,
     "input": [
      "import numpy as np\n",
      "\n",
      "from bokeh.plotting import *\n",
      "\n",
      "N = 1000\n",
      "d = np.zeros((N,N))\n",
      "\n",
      "def f(x,y):\n",
      "    return math.sin(x)*math.cos(y)\n",
      "\n",
      "for i in range(N):\n",
      "    for j in range(N):\n",
      "        d[i,j] = f(i*1.0/N,j*1.0/N)\n",
      "\n",
      "p = figure(x_range=[0, 1], y_range=[0, 1])\n",
      "p.image(image=[d], x=[0], y=[0], dw=[1], dh=[1], palette=\"Spectral11\")\n",
      "\n",
      "show(p) "
     ],
     "language": "python",
     "metadata": {},
     "outputs": []
    },
    {
     "cell_type": "code",
     "collapsed": false,
     "input": [
      "d = np.matrix?"
     ],
     "language": "python",
     "metadata": {},
     "outputs": []
    },
    {
     "cell_type": "code",
     "collapsed": false,
     "input": [
      "d = np.zeros?"
     ],
     "language": "python",
     "metadata": {},
     "outputs": []
    },
    {
     "cell_type": "code",
     "collapsed": false,
     "input": [
      "d = np.zeros((1000,1000))"
     ],
     "language": "python",
     "metadata": {},
     "outputs": []
    },
    {
     "cell_type": "code",
     "collapsed": false,
     "input": [
      "import math\n",
      "for i in range(1000):\n",
      "    for j in range(1000):\n",
      "        if 170 < math.sqrt(pow(i-500,2)+pow(j-500,2)) < 200:\n",
      "            d[i,j] = 1.0"
     ],
     "language": "python",
     "metadata": {},
     "outputs": []
    },
    {
     "cell_type": "code",
     "collapsed": false,
     "input": [],
     "language": "python",
     "metadata": {},
     "outputs": []
    },
    {
     "cell_type": "code",
     "collapsed": false,
     "input": [],
     "language": "python",
     "metadata": {},
     "outputs": []
    }
   ],
   "metadata": {}
  }
 ]
}