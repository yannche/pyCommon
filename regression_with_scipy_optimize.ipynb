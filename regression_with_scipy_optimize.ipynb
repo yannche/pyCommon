{
 "cells": [
  {
   "cell_type": "code",
   "execution_count": 1,
   "metadata": {
    "collapsed": true
   },
   "outputs": [],
   "source": [
    "%matplotlib inline\n",
    "import matplotlib.pyplot as plt\n",
    "import numpy as np"
   ]
  },
  {
   "cell_type": "code",
   "execution_count": 41,
   "metadata": {
    "collapsed": false
   },
   "outputs": [],
   "source": [
    "x = np.random.normal(size=(100,3))\n",
    "y = np.dot(x,[1,3,-2]) + np.random.normal(size=100)/3.0\n"
   ]
  },
  {
   "cell_type": "code",
   "execution_count": 42,
   "metadata": {
    "collapsed": false
   },
   "outputs": [
    {
     "data": {
      "text/plain": [
       "<matplotlib.collections.PathCollection at 0x10670b350>"
      ]
     },
     "execution_count": 42,
     "metadata": {},
     "output_type": "execute_result"
    },
    {
     "data": {
      "image/png": "[encoded data removed]",
      "text/plain": [
       "<matplotlib.figure.Figure at 0x106178990>"
      ]
     },
     "metadata": {},
     "output_type": "display_data"
    }
   ],
   "source": [
    "plt.scatter(np.dot(x,[1,3,-2]),y)"
   ]
  },
  {
   "cell_type": "code",
   "execution_count": 49,
   "metadata": {
    "collapsed": false
   },
   "outputs": [
    {
     "data": {
      "text/plain": [
       "   status: 0\n",
       "  success: True\n",
       "     njev: 8\n",
       "     nfev: 40\n",
       " hess_inv: array([[ 0.00428459,  0.00011309,  0.0003133 ],\n",
       "       [ 0.00011309,  0.00509399,  0.00026589],\n",
       "       [ 0.0003133 ,  0.00026589,  0.00527482]])\n",
       "      fun: 10.528337670239878\n",
       "        x: array([ 0.98187498,  2.97735872, -1.9897288 ])\n",
       "  message: 'Optimization terminated successfully.'\n",
       "      jac: array([  4.76837158e-07,   1.19209290e-07,   0.00000000e+00])"
      ]
     },
     "execution_count": 49,
     "metadata": {},
     "output_type": "execute_result"
    }
   ],
   "source": [
    "def eval_regr(theta):\n",
    "    global x,y\n",
    "    z = y - np.dot(x,theta)\n",
    "    return np.dot(z,z)\n",
    "\n",
    "minimize(eval_regr,[1,1,1])"
   ]
  },
  {
   "cell_type": "code",
   "execution_count": 39,
   "metadata": {
    "collapsed": false
   },
   "outputs": [
    {
     "data": {
      "text/plain": [
       "1713.8019028332901"
      ]
     },
     "execution_count": 39,
     "metadata": {},
     "output_type": "execute_result"
    }
   ],
   "source": [
    "eval_regr([1,3,2])"
   ]
  },
  {
   "cell_type": "code",
   "execution_count": 43,
   "metadata": {
    "collapsed": true
   },
   "outputs": [],
   "source": [
    "from scipy.optimize import minimize"
   ]
  },
  {
   "cell_type": "code",
   "execution_count": 47,
   "metadata": {
    "collapsed": false
   },
   "outputs": [
    {
     "data": {
      "text/plain": [
       "array([[-1.73716428,  0.48969626, -0.74757496, -0.59839665,  0.03597337,\n",
       "         1.48000547, -0.06390481, -0.18134596,  0.7168625 ,  0.4469676 ,\n",
       "        -1.23314163, -1.62913903, -0.50066137, -1.30603179,  0.67365486,\n",
       "         0.62028874,  0.06385704, -1.29196778,  0.96704374,  0.59584837,\n",
       "         1.03841556,  0.12905657,  0.80092303, -0.3742393 , -0.52620718,\n",
       "        -1.59467508, -1.42081728,  1.4809016 ,  0.22348842,  0.1422998 ,\n",
       "        -0.13473151,  0.39747831,  0.92004372, -0.05178141,  0.23498717,\n",
       "        -1.12956406, -0.57645346, -1.54826312,  0.53132354,  1.50002866,\n",
       "        -1.3827421 , -1.03123408, -0.46217315,  0.95066066,  2.37358478,\n",
       "         1.08021887,  0.01360628, -0.40480823,  0.11053777, -1.12221021,\n",
       "         1.9403784 ,  1.82094107,  0.22825117,  0.32126672,  0.21512284,\n",
       "        -2.11424747, -0.475695  , -3.07796567, -0.21413143,  0.37088286,\n",
       "        -1.25666172,  1.32619215, -0.07315814,  0.88206517,  2.75120817,\n",
       "         0.12812922,  0.58856823,  2.21336767, -0.52157508,  1.30178054,\n",
       "        -1.7002035 ,  1.6411398 , -1.38112596, -1.60992878,  0.25038083,\n",
       "         0.99220438,  0.02834582,  1.97576992,  1.47546905,  0.21694725,\n",
       "         0.74253639, -0.12491914, -0.33187658,  0.47920067,  0.89114075,\n",
       "         0.64128891,  0.46729618,  1.07535506,  1.15935697,  1.40670138,\n",
       "         0.27243433,  0.01400747,  1.35678789, -0.79634674, -0.69875937,\n",
       "         0.56184897,  1.05311451, -0.62049443, -1.04037577,  0.8531205 ],\n",
       "       [-1.08131649, -0.08051592, -0.00544735,  0.86241194, -1.03229445,\n",
       "        -0.60216781, -1.70013396,  1.23073448, -0.57858521, -1.73734017,\n",
       "         1.86563417, -0.03516399, -1.69934788, -1.15885458, -1.70477173,\n",
       "        -0.48836754,  0.34030933, -0.38650892,  0.88188719,  0.0857959 ,\n",
       "        -0.34152713,  1.47458133, -0.16498786,  1.08510046,  1.18374833,\n",
       "         0.23288344,  0.70918185,  0.8724607 ,  1.27475895,  0.81708631,\n",
       "        -0.93457973,  1.04100536, -0.42222843, -2.6119423 , -1.16969056,\n",
       "        -0.2921428 ,  0.52820633,  0.13988492,  0.63709029, -1.01246275,\n",
       "         1.69379834,  0.67945417, -0.19992304,  0.18383078, -0.47601328,\n",
       "        -0.05197229, -1.94471574,  0.12855647, -1.39888925,  1.07898646,\n",
       "         0.12578742, -0.29736393, -0.29079244,  1.01353417, -2.40319297,\n",
       "        -0.16741777,  1.82153764, -0.50594896,  0.46531847, -0.96784104,\n",
       "        -0.20605577, -0.36514314, -1.01532662, -0.19640138,  0.79875129,\n",
       "         0.27254983, -0.91926902,  1.27145146, -0.27449867,  1.41339841,\n",
       "         1.06273544,  0.81856531, -1.69126518, -0.38565683,  1.3565954 ,\n",
       "        -0.74914728,  0.1964287 ,  0.82413132, -1.01168191,  0.58759823,\n",
       "         0.05400967,  1.89012071,  0.76485614, -1.14758159,  1.09845525,\n",
       "        -0.54697073, -0.54686943,  0.17807204, -0.82756769,  0.1469853 ,\n",
       "         2.01798214, -0.18670479,  0.38690489,  0.67439306, -1.02032363,\n",
       "        -0.32736724, -0.21976924,  1.50561351,  0.39837044, -0.59292069],\n",
       "       [ 0.33096905,  1.39100585, -2.12035961, -1.27930701,  0.79268802,\n",
       "        -0.86023103,  0.8839419 ,  0.1013803 ,  0.39762717, -1.2741681 ,\n",
       "         0.48558485, -0.05475561,  1.13160483, -0.00461978,  0.08743963,\n",
       "        -0.04416878, -1.47750719, -2.29521353,  2.36250516, -0.4195498 ,\n",
       "         1.20568045, -0.21689133, -0.2879335 , -0.76088662,  0.35434199,\n",
       "         0.30149171,  2.11533723,  1.40944973,  0.37201852, -0.14086185,\n",
       "         0.94097036, -1.51500051, -0.3720447 , -0.08307792,  1.70388666,\n",
       "        -0.09247937,  0.17541908, -0.07497273,  0.72542336,  0.06870373,\n",
       "         0.1944652 ,  0.02753029, -1.80315626, -0.72928933, -1.72528327,\n",
       "        -1.28124429,  0.20792171,  1.42407561,  2.02617234,  0.63372695,\n",
       "        -0.45538589,  0.34062289, -0.26910505,  0.43750784, -0.39574141,\n",
       "         0.66395335,  0.31283816, -0.62092405,  0.09536894,  1.32752982,\n",
       "         0.43996289, -2.42901231, -0.8439857 ,  0.24584321, -0.96043281,\n",
       "        -0.64852548,  1.81949075,  0.58054219,  0.05295285, -1.22225975,\n",
       "        -0.06620598,  0.9749681 ,  1.09813732,  1.03007418,  0.74832466,\n",
       "         1.42816382, -0.10975052, -0.03667105, -0.02185321,  0.1452085 ,\n",
       "        -2.1357924 , -0.54881582,  0.4743185 ,  0.03156659,  0.77973415,\n",
       "         0.78067604, -1.52217326, -0.4877639 , -0.78107846,  0.80158577,\n",
       "         0.0317266 ,  0.2745931 ,  0.56588984,  0.30632782, -0.20501428,\n",
       "         0.75389869, -1.3332739 , -0.50474746, -1.26877984,  0.50588085]])"
      ]
     },
     "execution_count": 47,
     "metadata": {},
     "output_type": "execute_result"
    }
   ],
   "source": []
  },
  {
   "cell_type": "code",
   "execution_count": null,
   "metadata": {
    "collapsed": true
   },
   "outputs": [],
   "source": []
  }
 ],
 "metadata": {
  "kernelspec": {
   "display_name": "Python 2",
   "language": "python",
   "name": "python2"
  },
  "language_info": {
   "codemirror_mode": {
    "name": "ipython",
    "version": 2
   },
   "file_extension": ".py",
   "mimetype": "text/x-python",
   "name": "python",
   "nbconvert_exporter": "python",
   "pygments_lexer": "ipython2",
   "version": "2.7.10"
  }
 },
 "nbformat": 4,
 "nbformat_minor": 0
}
